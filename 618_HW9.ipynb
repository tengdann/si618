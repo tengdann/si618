{
 "cells": [
  {
   "cell_type": "markdown",
   "metadata": {
    "colab_type": "text",
    "id": "8xKUiifPp32x"
   },
   "source": [
    "# Homework 9: Big Data"
   ]
  },
  {
   "cell_type": "markdown",
   "metadata": {
    "colab_type": "text",
    "id": "LQEC5QQ6qEIp"
   },
   "source": [
    "## The total score for this assignment will be 100 points, consisting of:\n",
    "- 10 pt: Overall quality of spelling, grammar, puctuation, etc. of written sentences.\n",
    "- 10 pt: Codes are written in [PEP 8](https://www.python.org/dev/peps/pep-0008/) style.\n",
    "- 80 pt: Homework questions. "
   ]
  },
  {
   "cell_type": "code",
   "execution_count": 2,
   "metadata": {
    "colab": {},
    "colab_type": "code",
    "id": "5_s56570qGEG"
   },
   "outputs": [],
   "source": [
    "MY_UNIQNAME = '?'"
   ]
  },
  {
   "cell_type": "markdown",
   "metadata": {},
   "source": [
    "This homework assignment builds on the in-class work we did with Spark.\n",
    "You will be using the [Yelp Academic Dataset](https://www.kaggle.com/yelp-dataset/yelp-dataset) and focusing primaily on the text of the reviews (i.e. the reviews.json.gz file).\n",
    "\n",
    "**We suggest that you work in groups to make a plan to tackle this homework assignment.**"
   ]
  },
  {
   "cell_type": "markdown",
   "metadata": {},
   "source": [
    "Here are the four questions that comprise the assignment:\n",
    "\n",
    "1. List the 50 most common non-stopword words that are unique to *positive* reviews.\n",
    "2. List the 50 most common non-stopword words that are unique to *negative* reviews.\n",
    "3. What proportion of *positive* reviews contain at least one of the 50 most common non-stopword words that are unique to *positive* reviews.\n",
    "4. What proportion of *negative* reviews contain at least one of the 50 most common non-stopword words that are unique to *negative* reviews."
   ]
  },
  {
   "cell_type": "markdown",
   "metadata": {},
   "source": [
    "As an example, consider the following two reviews:\n",
    "\n",
    "* Positive: The meal was great, and the service was the best we ever experienced.\n",
    "* Negative: The meal was awful.  It was the worst thing we ever experienced.\n",
    "\n",
    "Assume our stopwords are {'the','was','and','the','was','we','it'}\n",
    "\n",
    "* Positive unique: {'great', 'service', 'best'}\n",
    "\n",
    "* Negative unique: {'awful', 'worst', 'thing'}\n",
    "\n",
    "In this example, each unique word occurs just once, so the concept of \"top 50\" doesn't make sense.  For your data, you'll need to count the number of times each unique word occurs."
   ]
  },
  {
   "cell_type": "markdown",
   "metadata": {},
   "source": [
    "Because this is the final homework assignment in this course, we are leaving it up to you to operationalize most of the details.  For example, you will need to determine what constitutes a positive or a negative review.\n",
    "\n",
    "You will also need to generate a list of stopwords.  Neither spaCy nor NLTK are available on AWS EMR, so you'll need to be creative in how you get a good list of stopwords into Spark.\n",
    "\n",
    "Finally, you will notice that there are a **lot** of reviews.  You might want to work off a small sample (i.e. use the rdd.sample() function in Spark) to work on a reduced size dataset while you're developing your solution."
   ]
  },
  {
   "cell_type": "markdown",
   "metadata": {},
   "source": [
    "### REMEMBER TO TERMINATE YOUR AWS CLUSTER(S) WHEN YOU'RE DONE (OR WHEN YOU TAKE A BREAK)!"
   ]
  },
  {
   "cell_type": "markdown",
   "metadata": {},
   "source": [
    "Please download your work in HTML and IPYNB formats and submit both to Canvas."
   ]
  },
  {
   "cell_type": "code",
   "execution_count": null,
   "metadata": {},
   "outputs": [],
   "source": []
  }
 ],
 "metadata": {
  "kernelspec": {
   "display_name": "Python 3",
   "language": "python",
   "name": "python3"
  },
  "language_info": {
   "codemirror_mode": {
    "name": "ipython",
    "version": 3
   },
   "file_extension": ".py",
   "mimetype": "text/x-python",
   "name": "python",
   "nbconvert_exporter": "python",
   "pygments_lexer": "ipython3",
   "version": "3.6.8"
  }
 },
 "nbformat": 4,
 "nbformat_minor": 2
}
