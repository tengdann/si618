{
 "cells": [
  {
   "cell_type": "markdown",
   "metadata": {},
   "source": [
    "# SI 618: Data Manipulation and Analysis\n",
    "## 07 - Natural Language Processing\n",
    "### Dr. Chris Teplovs, School of Information, University of Michigan\n",
    "<small><a rel=\"license\" href=\"http://creativecommons.org/licenses/by-nc-sa/4.0/\"><img alt=\"Creative Commons License\" style=\"border-width:0\" src=\"https://i.creativecommons.org/l/by-nc-sa/4.0/88x31.png\" /></a> This work is licensed under a <a rel=\"license\" href=\"http://creativecommons.org/licenses/by-nc-sa/4.0/\">Creative Commons Attribution-NonCommercial-ShareAlike 4.0 International License</a>."
   ]
  },
  {
   "cell_type": "markdown",
   "metadata": {},
   "source": [
    "# Outline for today\n",
    "- announcements\n",
    "  - Teplovs Office Hours this week: 3:45-5:00pm\n",
    "  - no HTML,  no grade\n",
    "- regular expressions redux\n",
    "- ```spaCy```\n",
    "    - Cleaning the data\n",
    "    - Extracting linguistic features\n",
    "- ```Word2Vec```\n",
    "    - Vector representation of words\n",
    "    - Word similarities\n",
    "    - Vector algebra for semantics"
   ]
  },
  {
   "cell_type": "markdown",
   "metadata": {
    "toc-hr-collapsed": false
   },
   "source": [
    "# Why learn NLP?\n",
    "- Natural language = human language\n",
    "- We use language to learn about the world\n",
    "- How machines understand human langauge?\n",
    "- How can we quantify the meaning of language?"
   ]
  },
  {
   "cell_type": "markdown",
   "metadata": {},
   "source": [
    "## Applications?\n",
    "- Probabily any service that uses text as information\n",
    "- Search engine, SNS\n",
    "    - What's the document about?\n",
    "    - How do you determine the similarity?\n",
    "- Virtual assistants: Alexa, Google Assistant, Cortana, etc. \n",
    "    - Understand the semantic information from your speech from parsed text\n",
    "- Biology, genetics\n",
    "    - Genetic information / DNA sequence as text\n",
    "    - Draw networks of proteins/molecules from vast amount of scientific papers "
   ]
  },
  {
   "cell_type": "markdown",
   "metadata": {},
   "source": [
    "# Regular Expressions"
   ]
  },
  {
   "cell_type": "markdown",
   "metadata": {},
   "source": [
    "**Note:** we have included a [cheat sheet for regular expressions](python-regular-expressions-cheat-sheet.pdf)."
   ]
  },
  {
   "cell_type": "markdown",
   "metadata": {},
   "source": [
    "Regular expressions are simply a way to find sequnces of characters within strings.  Let's use, as our text, \"Bereft\", a poem by Robert Frost:"
   ]
  },
  {
   "cell_type": "code",
   "execution_count": 1,
   "metadata": {},
   "outputs": [],
   "source": [
    "bereft = \"\"\"Where had I heard this wind before\n",
    "Change like this to a deeper roar?\n",
    "What would it take my standing there for,\n",
    "Holding open a restive door,\n",
    "Looking down hill to a frothy shore?\n",
    "Summer was past and the day was past.\n",
    "Sombre clouds in the west were massed.\n",
    "Out on the porch's sagging floor,\n",
    "Leaves got up in a coil and hissed,\n",
    "Blindly striking at my knee and missed.\n",
    "Something sinister in the tone\n",
    "Told me my secret my be known:\n",
    "Word I was in the house alone\n",
    "Somehow must have gotten abroad,\n",
    "Word I was in my life alone,\n",
    "Word I had no one left but God.\"\"\""
   ]
  },
  {
   "cell_type": "markdown",
   "metadata": {},
   "source": [
    "To make our lives simpler (we'll discuss why this is the case in class), we're going to strip the newlines from the passage:"
   ]
  },
  {
   "cell_type": "code",
   "execution_count": 2,
   "metadata": {},
   "outputs": [],
   "source": [
    "bereft = bereft.replace('\\n',' ')"
   ]
  },
  {
   "cell_type": "code",
   "execution_count": 3,
   "metadata": {},
   "outputs": [
    {
     "data": {
      "text/plain": [
       "\"Where had I heard this wind before Change like this to a deeper roar? What would it take my standing there for, Holding open a restive door, Looking down hill to a frothy shore? Summer was past and the day was past. Sombre clouds in the west were massed. Out on the porch's sagging floor, Leaves got up in a coil and hissed, Blindly striking at my knee and missed. Something sinister in the tone Told me my secret my be known: Word I was in the house alone Somehow must have gotten abroad, Word I was in my life alone, Word I had no one left but God.\""
      ]
     },
     "execution_count": 3,
     "metadata": {},
     "output_type": "execute_result"
    }
   ],
   "source": [
    "bereft"
   ]
  },
  {
   "cell_type": "markdown",
   "metadata": {},
   "source": [
    "Let's say we wanted to find all the occurrences of the word \"alone\".   We could use  plain old string functions:"
   ]
  },
  {
   "cell_type": "code",
   "execution_count": 4,
   "metadata": {},
   "outputs": [
    {
     "data": {
      "text/plain": [
       "451"
      ]
     },
     "execution_count": 4,
     "metadata": {},
     "output_type": "execute_result"
    }
   ],
   "source": [
    "bereft.find('alone')"
   ]
  },
  {
   "cell_type": "code",
   "execution_count": 5,
   "metadata": {},
   "outputs": [
    {
     "name": "stdout",
     "output_type": "stream",
     "text": [
      "Yup, found it\n"
     ]
    }
   ],
   "source": [
    "if 'alone' in bereft:\n",
    "    print('Yup, found it')"
   ]
  },
  {
   "cell_type": "code",
   "execution_count": 6,
   "metadata": {},
   "outputs": [
    {
     "data": {
      "text/plain": [
       "2"
      ]
     },
     "execution_count": 6,
     "metadata": {},
     "output_type": "execute_result"
    }
   ],
   "source": [
    "bereft.count('alone')"
   ]
  },
  {
   "cell_type": "markdown",
   "metadata": {},
   "source": [
    "Ok, now try it yourself:  \n",
    "### <font color=\"magenta\">Q1: How many times does the word ```was``` appear in the poem?</a>"
   ]
  },
  {
   "cell_type": "code",
   "execution_count": 7,
   "metadata": {},
   "outputs": [
    {
     "data": {
      "text/plain": [
       "4"
      ]
     },
     "execution_count": 7,
     "metadata": {},
     "output_type": "execute_result"
    }
   ],
   "source": [
    "bereft.count('was')"
   ]
  },
  {
   "cell_type": "markdown",
   "metadata": {},
   "source": [
    "So far, so good.  Now let's make things a bit more interesting.  How many words are there that contain the letters ```one``` ?"
   ]
  },
  {
   "cell_type": "code",
   "execution_count": 8,
   "metadata": {},
   "outputs": [
    {
     "data": {
      "text/plain": [
       "4"
      ]
     },
     "execution_count": 8,
     "metadata": {},
     "output_type": "execute_result"
    }
   ],
   "source": [
    "bereft.count('one')"
   ]
  },
  {
   "cell_type": "code",
   "execution_count": 9,
   "metadata": {},
   "outputs": [],
   "source": [
    "import re"
   ]
  },
  {
   "cell_type": "code",
   "execution_count": 10,
   "metadata": {},
   "outputs": [
    {
     "data": {
      "text/plain": [
       "['one', 'one', 'one', 'one']"
      ]
     },
     "execution_count": 10,
     "metadata": {},
     "output_type": "execute_result"
    }
   ],
   "source": [
    "re.findall('one',bereft)"
   ]
  },
  {
   "cell_type": "markdown",
   "metadata": {},
   "source": [
    "But what if we wanted to know the words that contained ```one``` instead of just the count?  Enter regular expressions!"
   ]
  },
  {
   "cell_type": "code",
   "execution_count": 11,
   "metadata": {},
   "outputs": [
    {
     "data": {
      "text/plain": [
       "['tone', 'alone', 'alone']"
      ]
     },
     "execution_count": 11,
     "metadata": {},
     "output_type": "execute_result"
    }
   ],
   "source": [
    "re.findall('[a-z]+one',bereft)"
   ]
  },
  {
   "cell_type": "markdown",
   "metadata": {},
   "source": [
    "### Some useful online resources:\n",
    "\n",
    "* www.debuggex.com\n",
    "* www.regexr.com"
   ]
  },
  {
   "cell_type": "code",
   "execution_count": 12,
   "metadata": {},
   "outputs": [
    {
     "data": {
      "text/plain": [
       "<re.Match object; span=(391, 395), match='tone'>"
      ]
     },
     "execution_count": 12,
     "metadata": {},
     "output_type": "execute_result"
    }
   ],
   "source": [
    "re.search('[a-z]*one',bereft)"
   ]
  },
  {
   "cell_type": "code",
   "execution_count": 13,
   "metadata": {},
   "outputs": [],
   "source": [
    "match = re.search('[a-z]*one', bereft)"
   ]
  },
  {
   "cell_type": "code",
   "execution_count": 14,
   "metadata": {},
   "outputs": [
    {
     "name": "stdout",
     "output_type": "stream",
     "text": [
      "Found it!\n"
     ]
    }
   ],
   "source": [
    "if match:\n",
    "    print(\"Found it!\")"
   ]
  },
  {
   "cell_type": "code",
   "execution_count": 15,
   "metadata": {},
   "outputs": [
    {
     "name": "stdout",
     "output_type": "stream",
     "text": [
      "Found it!\n",
      "tone\n"
     ]
    }
   ],
   "source": [
    "if match:\n",
    "    print(\"Found it!\")\n",
    "    print(match.group(0))"
   ]
  },
  {
   "cell_type": "markdown",
   "metadata": {},
   "source": [
    "### Match Groups\n",
    "\n",
    "In the above example, we used ```match.group(0)``` to extract the entire match.\n",
    "\n",
    "Match groups also allow you to extract only certain parts of the match.  In the previous example, say we wanted to know which letters preceded the letters 'one'.  We could use match groups, specified by paretheses, to extract only certain parts."
   ]
  },
  {
   "cell_type": "code",
   "execution_count": 16,
   "metadata": {},
   "outputs": [],
   "source": [
    "match = re.search('([a-z]*)one', bereft)"
   ]
  },
  {
   "cell_type": "code",
   "execution_count": 17,
   "metadata": {},
   "outputs": [
    {
     "name": "stdout",
     "output_type": "stream",
     "text": [
      "Found it!\n",
      "tone\n",
      "t\n"
     ]
    }
   ],
   "source": [
    "if match:\n",
    "    print(\"Found it!\")\n",
    "    print(match.group(0))\n",
    "    print(match.group(1))"
   ]
  },
  {
   "cell_type": "markdown",
   "metadata": {},
   "source": [
    "How would we extract all the letters that precede *one*?  Use ```re.finditer()```"
   ]
  },
  {
   "cell_type": "code",
   "execution_count": 18,
   "metadata": {},
   "outputs": [],
   "source": [
    "matches = re.finditer('([a-z]*)one', bereft)"
   ]
  },
  {
   "cell_type": "code",
   "execution_count": 19,
   "metadata": {},
   "outputs": [
    {
     "name": "stdout",
     "output_type": "stream",
     "text": [
      "tone t\n",
      "alone al\n",
      "alone al\n",
      "one \n"
     ]
    }
   ],
   "source": [
    "for match in matches:\n",
    "    print(match.group(0),match.group(1))"
   ]
  },
  {
   "cell_type": "code",
   "execution_count": 20,
   "metadata": {},
   "outputs": [
    {
     "data": {
      "text/plain": [
       "['Where had I heard this wind before Change like this to a deeper roar? What would it take my standing there for',\n",
       " ' Holding open a restive door',\n",
       " \" Looking down hill to a frothy shore? Summer was past and the day was past. Sombre clouds in the west were massed. Out on the porch's sagging floor\",\n",
       " ' Leaves got up in a coil and hissed',\n",
       " ' Blindly striking at my knee and missed. Something sinister in the tone Told me my secret my be known: Word I was in the house alone Somehow must have gotten abroad',\n",
       " ' Word I was in my life alone',\n",
       " ' Word I had no one left but God.']"
      ]
     },
     "execution_count": 20,
     "metadata": {},
     "output_type": "execute_result"
    }
   ],
   "source": [
    "re.split(',',bereft)"
   ]
  },
  {
   "cell_type": "markdown",
   "metadata": {},
   "source": [
    "### <font color=\"magenta\">Q2: Experiment with various regular expressions such as \\W, \\w, \\s, \\S to see how the poem can be split."
   ]
  },
  {
   "cell_type": "code",
   "execution_count": 25,
   "metadata": {},
   "outputs": [
    {
     "data": {
      "text/plain": [
       "['Where',\n",
       " 'had',\n",
       " 'I',\n",
       " 'heard',\n",
       " 'this',\n",
       " 'wind',\n",
       " 'before',\n",
       " 'Change',\n",
       " 'like',\n",
       " 'this',\n",
       " 'to',\n",
       " 'a',\n",
       " 'deeper',\n",
       " 'roar',\n",
       " '',\n",
       " 'What',\n",
       " 'would',\n",
       " 'it',\n",
       " 'take',\n",
       " 'my',\n",
       " 'standing',\n",
       " 'there',\n",
       " 'for',\n",
       " '',\n",
       " 'Holding',\n",
       " 'open',\n",
       " 'a',\n",
       " 'restive',\n",
       " 'door',\n",
       " '',\n",
       " 'Looking',\n",
       " 'down',\n",
       " 'hill',\n",
       " 'to',\n",
       " 'a',\n",
       " 'frothy',\n",
       " 'shore',\n",
       " '',\n",
       " 'Summer',\n",
       " 'was',\n",
       " 'past',\n",
       " 'and',\n",
       " 'the',\n",
       " 'day',\n",
       " 'was',\n",
       " 'past',\n",
       " '',\n",
       " 'Sombre',\n",
       " 'clouds',\n",
       " 'in',\n",
       " 'the',\n",
       " 'west',\n",
       " 'were',\n",
       " 'massed',\n",
       " '',\n",
       " 'Out',\n",
       " 'on',\n",
       " 'the',\n",
       " 'porch',\n",
       " 's',\n",
       " 'sagging',\n",
       " 'floor',\n",
       " '',\n",
       " 'Leaves',\n",
       " 'got',\n",
       " 'up',\n",
       " 'in',\n",
       " 'a',\n",
       " 'coil',\n",
       " 'and',\n",
       " 'hissed',\n",
       " '',\n",
       " 'Blindly',\n",
       " 'striking',\n",
       " 'at',\n",
       " 'my',\n",
       " 'knee',\n",
       " 'and',\n",
       " 'missed',\n",
       " '',\n",
       " 'Something',\n",
       " 'sinister',\n",
       " 'in',\n",
       " 'the',\n",
       " 'tone',\n",
       " 'Told',\n",
       " 'me',\n",
       " 'my',\n",
       " 'secret',\n",
       " 'my',\n",
       " 'be',\n",
       " 'known',\n",
       " '',\n",
       " 'Word',\n",
       " 'I',\n",
       " 'was',\n",
       " 'in',\n",
       " 'the',\n",
       " 'house',\n",
       " 'alone',\n",
       " 'Somehow',\n",
       " 'must',\n",
       " 'have',\n",
       " 'gotten',\n",
       " 'abroad',\n",
       " '',\n",
       " 'Word',\n",
       " 'I',\n",
       " 'was',\n",
       " 'in',\n",
       " 'my',\n",
       " 'life',\n",
       " 'alone',\n",
       " '',\n",
       " 'Word',\n",
       " 'I',\n",
       " 'had',\n",
       " 'no',\n",
       " 'one',\n",
       " 'left',\n",
       " 'but',\n",
       " 'God',\n",
       " '']"
      ]
     },
     "execution_count": 25,
     "metadata": {},
     "output_type": "execute_result"
    }
   ],
   "source": [
    "re.split('\\W', bereft)"
   ]
  },
  {
   "cell_type": "markdown",
   "metadata": {},
   "source": [
    "## How about a few rounds of regex golf?\n",
    "\n",
    "### <font color=\"magenta\">Q3: See how well you can do at your tables: https://alf.nu/RegexGolf</a></font>\n",
    "Record your final score below\n",
    "\n",
    "16 after the first 4 holes"
   ]
  },
  {
   "cell_type": "markdown",
   "metadata": {},
   "source": [
    "## Applying regex to pandas DataFrames (from last class) "
   ]
  },
  {
   "cell_type": "markdown",
   "metadata": {},
   "source": [
    "As usual, let's load up some data:"
   ]
  },
  {
   "cell_type": "code",
   "execution_count": 26,
   "metadata": {},
   "outputs": [],
   "source": [
    "import pandas as pd"
   ]
  },
  {
   "cell_type": "code",
   "execution_count": 27,
   "metadata": {},
   "outputs": [],
   "source": [
    "reviews = pd.read_csv('data/amazon_food_reviews.zip')"
   ]
  },
  {
   "cell_type": "markdown",
   "metadata": {},
   "source": [
    "Let's take a really small sample, just so we can experiment with the various "
   ]
  },
  {
   "cell_type": "code",
   "execution_count": 28,
   "metadata": {},
   "outputs": [],
   "source": [
    "reviews_sample = reviews.head(10)"
   ]
  },
  {
   "cell_type": "code",
   "execution_count": 29,
   "metadata": {},
   "outputs": [
    {
     "data": {
      "text/html": [
       "<div>\n",
       "<style scoped>\n",
       "    .dataframe tbody tr th:only-of-type {\n",
       "        vertical-align: middle;\n",
       "    }\n",
       "\n",
       "    .dataframe tbody tr th {\n",
       "        vertical-align: top;\n",
       "    }\n",
       "\n",
       "    .dataframe thead th {\n",
       "        text-align: right;\n",
       "    }\n",
       "</style>\n",
       "<table border=\"1\" class=\"dataframe\">\n",
       "  <thead>\n",
       "    <tr style=\"text-align: right;\">\n",
       "      <th></th>\n",
       "      <th>Id</th>\n",
       "      <th>ProductId</th>\n",
       "      <th>User Id</th>\n",
       "      <th>ProfileName</th>\n",
       "      <th>HelpfulnessNumerator</th>\n",
       "      <th>HelpfulnessDenominator</th>\n",
       "      <th>Score</th>\n",
       "      <th>Time</th>\n",
       "      <th>Summary</th>\n",
       "      <th>Text</th>\n",
       "    </tr>\n",
       "  </thead>\n",
       "  <tbody>\n",
       "    <tr>\n",
       "      <th>0</th>\n",
       "      <td>1</td>\n",
       "      <td>B001E4KFG0</td>\n",
       "      <td>A3SGXH7AUHU8GW</td>\n",
       "      <td>delmartian</td>\n",
       "      <td>1</td>\n",
       "      <td>1</td>\n",
       "      <td>5</td>\n",
       "      <td>1303862400</td>\n",
       "      <td>Good Quality Dog Food</td>\n",
       "      <td>I have bought several of the Vitality canned d...</td>\n",
       "    </tr>\n",
       "    <tr>\n",
       "      <th>1</th>\n",
       "      <td>2</td>\n",
       "      <td>B00813GRG4</td>\n",
       "      <td>A1D87F6ZCVE5NK</td>\n",
       "      <td>dll pa</td>\n",
       "      <td>0</td>\n",
       "      <td>0</td>\n",
       "      <td>1</td>\n",
       "      <td>1346976000</td>\n",
       "      <td>Not as Advertised</td>\n",
       "      <td>Product arrived labeled as Jumbo Salted Peanut...</td>\n",
       "    </tr>\n",
       "    <tr>\n",
       "      <th>2</th>\n",
       "      <td>3</td>\n",
       "      <td>B000LQOCH0</td>\n",
       "      <td>ABXLMWJIXXAIN</td>\n",
       "      <td>Natalia Corres \"Natalia Corres\"</td>\n",
       "      <td>1</td>\n",
       "      <td>1</td>\n",
       "      <td>4</td>\n",
       "      <td>1219017600</td>\n",
       "      <td>\"Delight\" says it all</td>\n",
       "      <td>This is a confection that has been around a fe...</td>\n",
       "    </tr>\n",
       "    <tr>\n",
       "      <th>3</th>\n",
       "      <td>4</td>\n",
       "      <td>B000UA0QIQ</td>\n",
       "      <td>A395BORC6FGVXV</td>\n",
       "      <td>Karl</td>\n",
       "      <td>3</td>\n",
       "      <td>3</td>\n",
       "      <td>2</td>\n",
       "      <td>1307923200</td>\n",
       "      <td>Cough Medicine</td>\n",
       "      <td>If you are looking for the secret ingredient i...</td>\n",
       "    </tr>\n",
       "    <tr>\n",
       "      <th>4</th>\n",
       "      <td>5</td>\n",
       "      <td>B006K2ZZ7K</td>\n",
       "      <td>A1UQRSCLF8GW1T</td>\n",
       "      <td>Michael D. Bigham \"M. Wassir\"</td>\n",
       "      <td>0</td>\n",
       "      <td>0</td>\n",
       "      <td>5</td>\n",
       "      <td>1350777600</td>\n",
       "      <td>Great taffy</td>\n",
       "      <td>Great taffy at a great price.  There was a wid...</td>\n",
       "    </tr>\n",
       "    <tr>\n",
       "      <th>5</th>\n",
       "      <td>6</td>\n",
       "      <td>B006K2ZZ7K</td>\n",
       "      <td>ADT0SRK1MGOEU</td>\n",
       "      <td>Twoapennything</td>\n",
       "      <td>0</td>\n",
       "      <td>0</td>\n",
       "      <td>4</td>\n",
       "      <td>1342051200</td>\n",
       "      <td>Nice Taffy</td>\n",
       "      <td>I got a wild hair for taffy and ordered this f...</td>\n",
       "    </tr>\n",
       "    <tr>\n",
       "      <th>6</th>\n",
       "      <td>7</td>\n",
       "      <td>B006K2ZZ7K</td>\n",
       "      <td>A1SP2KVKFXXRU1</td>\n",
       "      <td>David C. Sullivan</td>\n",
       "      <td>0</td>\n",
       "      <td>0</td>\n",
       "      <td>5</td>\n",
       "      <td>1340150400</td>\n",
       "      <td>Great!  Just as good as the expensive brands!</td>\n",
       "      <td>This saltwater taffy had great flavors and was...</td>\n",
       "    </tr>\n",
       "    <tr>\n",
       "      <th>7</th>\n",
       "      <td>8</td>\n",
       "      <td>B006K2ZZ7K</td>\n",
       "      <td>A3JRGQVEQN31IQ</td>\n",
       "      <td>Pamela G. Williams</td>\n",
       "      <td>0</td>\n",
       "      <td>0</td>\n",
       "      <td>5</td>\n",
       "      <td>1336003200</td>\n",
       "      <td>Wonderful, tasty taffy</td>\n",
       "      <td>This taffy is so good.  It is very soft and ch...</td>\n",
       "    </tr>\n",
       "    <tr>\n",
       "      <th>8</th>\n",
       "      <td>9</td>\n",
       "      <td>B000E7L2R4</td>\n",
       "      <td>A1MZYO9TZK0BBI</td>\n",
       "      <td>R. James</td>\n",
       "      <td>1</td>\n",
       "      <td>1</td>\n",
       "      <td>5</td>\n",
       "      <td>1322006400</td>\n",
       "      <td>Yay Barley</td>\n",
       "      <td>Right now I'm mostly just sprouting this so my...</td>\n",
       "    </tr>\n",
       "    <tr>\n",
       "      <th>9</th>\n",
       "      <td>10</td>\n",
       "      <td>B00171APVA</td>\n",
       "      <td>A21BT40VZCCYT4</td>\n",
       "      <td>Carol A. Reed</td>\n",
       "      <td>0</td>\n",
       "      <td>0</td>\n",
       "      <td>5</td>\n",
       "      <td>1351209600</td>\n",
       "      <td>Healthy Dog Food</td>\n",
       "      <td>This is a very healthy dog food. Good for thei...</td>\n",
       "    </tr>\n",
       "  </tbody>\n",
       "</table>\n",
       "</div>"
      ],
      "text/plain": [
       "   Id   ProductId        User Id                       ProfileName  \\\n",
       "0   1  B001E4KFG0  A3SGXH7AUHU8GW                       delmartian   \n",
       "1   2  B00813GRG4  A1D87F6ZCVE5NK                           dll pa   \n",
       "2   3  B000LQOCH0   ABXLMWJIXXAIN  Natalia Corres \"Natalia Corres\"   \n",
       "3   4  B000UA0QIQ  A395BORC6FGVXV                             Karl   \n",
       "4   5  B006K2ZZ7K  A1UQRSCLF8GW1T    Michael D. Bigham \"M. Wassir\"   \n",
       "5   6  B006K2ZZ7K   ADT0SRK1MGOEU                   Twoapennything   \n",
       "6   7  B006K2ZZ7K  A1SP2KVKFXXRU1                David C. Sullivan   \n",
       "7   8  B006K2ZZ7K  A3JRGQVEQN31IQ               Pamela G. Williams   \n",
       "8   9  B000E7L2R4  A1MZYO9TZK0BBI                         R. James   \n",
       "9  10  B00171APVA  A21BT40VZCCYT4                    Carol A. Reed   \n",
       "\n",
       "   HelpfulnessNumerator  HelpfulnessDenominator  Score        Time  \\\n",
       "0                     1                       1      5  1303862400   \n",
       "1                     0                       0      1  1346976000   \n",
       "2                     1                       1      4  1219017600   \n",
       "3                     3                       3      2  1307923200   \n",
       "4                     0                       0      5  1350777600   \n",
       "5                     0                       0      4  1342051200   \n",
       "6                     0                       0      5  1340150400   \n",
       "7                     0                       0      5  1336003200   \n",
       "8                     1                       1      5  1322006400   \n",
       "9                     0                       0      5  1351209600   \n",
       "\n",
       "                                         Summary  \\\n",
       "0                          Good Quality Dog Food   \n",
       "1                              Not as Advertised   \n",
       "2                          \"Delight\" says it all   \n",
       "3                                 Cough Medicine   \n",
       "4                                    Great taffy   \n",
       "5                                     Nice Taffy   \n",
       "6  Great!  Just as good as the expensive brands!   \n",
       "7                         Wonderful, tasty taffy   \n",
       "8                                     Yay Barley   \n",
       "9                               Healthy Dog Food   \n",
       "\n",
       "                                                Text  \n",
       "0  I have bought several of the Vitality canned d...  \n",
       "1  Product arrived labeled as Jumbo Salted Peanut...  \n",
       "2  This is a confection that has been around a fe...  \n",
       "3  If you are looking for the secret ingredient i...  \n",
       "4  Great taffy at a great price.  There was a wid...  \n",
       "5  I got a wild hair for taffy and ordered this f...  \n",
       "6  This saltwater taffy had great flavors and was...  \n",
       "7  This taffy is so good.  It is very soft and ch...  \n",
       "8  Right now I'm mostly just sprouting this so my...  \n",
       "9  This is a very healthy dog food. Good for thei...  "
      ]
     },
     "execution_count": 29,
     "metadata": {},
     "output_type": "execute_result"
    }
   ],
   "source": [
    "reviews_sample"
   ]
  },
  {
   "cell_type": "markdown",
   "metadata": {},
   "source": [
    "Let's review some basic string functionality from Pandas that can be applied to any Series or Index:"
   ]
  },
  {
   "cell_type": "code",
   "execution_count": 30,
   "metadata": {},
   "outputs": [
    {
     "data": {
      "text/plain": [
       "0                         delmartian\n",
       "1                             dll pa\n",
       "2    natalia corres \"natalia corres\"\n",
       "3                               karl\n",
       "4      michael d. bigham \"m. wassir\"\n",
       "5                     twoapennything\n",
       "6                  david c. sullivan\n",
       "7                 pamela g. williams\n",
       "8                           r. james\n",
       "9                      carol a. reed\n",
       "Name: ProfileName, dtype: object"
      ]
     },
     "execution_count": 30,
     "metadata": {},
     "output_type": "execute_result"
    }
   ],
   "source": [
    "reviews_sample.ProfileName.str.lower()"
   ]
  },
  {
   "cell_type": "code",
   "execution_count": 31,
   "metadata": {},
   "outputs": [
    {
     "data": {
      "text/plain": [
       "0                         DELMARTIAN\n",
       "1                             DLL PA\n",
       "2    NATALIA CORRES \"NATALIA CORRES\"\n",
       "3                               KARL\n",
       "4      MICHAEL D. BIGHAM \"M. WASSIR\"\n",
       "5                     TWOAPENNYTHING\n",
       "6                  DAVID C. SULLIVAN\n",
       "7                 PAMELA G. WILLIAMS\n",
       "8                           R. JAMES\n",
       "9                      CAROL A. REED\n",
       "Name: ProfileName, dtype: object"
      ]
     },
     "execution_count": 31,
     "metadata": {},
     "output_type": "execute_result"
    }
   ],
   "source": [
    "reviews_sample.ProfileName.str.upper()"
   ]
  },
  {
   "cell_type": "code",
   "execution_count": 32,
   "metadata": {},
   "outputs": [
    {
     "data": {
      "text/plain": [
       "0    21\n",
       "1    17\n",
       "2    21\n",
       "3    14\n",
       "4    11\n",
       "5    10\n",
       "6    45\n",
       "7    22\n",
       "8    10\n",
       "9    16\n",
       "Name: Summary, dtype: int64"
      ]
     },
     "execution_count": 32,
     "metadata": {},
     "output_type": "execute_result"
    }
   ],
   "source": [
    "reviews_sample.Summary.str.len()"
   ]
  },
  {
   "cell_type": "markdown",
   "metadata": {},
   "source": [
    "Remember, the ```columns``` attribute of a DataFrame is an Index object, which means that we can use str operators on the column names:"
   ]
  },
  {
   "cell_type": "code",
   "execution_count": 33,
   "metadata": {},
   "outputs": [
    {
     "data": {
      "text/plain": [
       "Index(['Id', 'ProductId', 'User Id ', 'ProfileName', 'HelpfulnessNumerator',\n",
       "       'HelpfulnessDenominator', 'Score', 'Time', 'Summary', 'Text'],\n",
       "      dtype='object')"
      ]
     },
     "execution_count": 33,
     "metadata": {},
     "output_type": "execute_result"
    }
   ],
   "source": [
    "reviews_sample.columns"
   ]
  },
  {
   "cell_type": "code",
   "execution_count": 34,
   "metadata": {},
   "outputs": [
    {
     "data": {
      "text/plain": [
       "Index(['id', 'productid', 'user id ', 'profilename', 'helpfulnessnumerator',\n",
       "       'helpfulnessdenominator', 'score', 'time', 'summary', 'text'],\n",
       "      dtype='object')"
      ]
     },
     "execution_count": 34,
     "metadata": {},
     "output_type": "execute_result"
    }
   ],
   "source": [
    "reviews_sample.columns.str.lower()"
   ]
  },
  {
   "cell_type": "markdown",
   "metadata": {},
   "source": [
    "Notice that the \"User Id\" column of the dataframe looks weird:  it has a space in the middle *and* at the end.  Columns that are named like that will invariable trip us up in downstream (i.e. later) analyses, so it's wise to correct them now.  Something like the following can help:"
   ]
  },
  {
   "cell_type": "code",
   "execution_count": 35,
   "metadata": {},
   "outputs": [
    {
     "data": {
      "text/plain": [
       "Index(['id', 'productid', 'user_id', 'profilename', 'helpfulnessnumerator',\n",
       "       'helpfulnessdenominator', 'score', 'time', 'summary', 'text'],\n",
       "      dtype='object')"
      ]
     },
     "execution_count": 35,
     "metadata": {},
     "output_type": "execute_result"
    }
   ],
   "source": [
    "reviews_sample.columns.str.strip().str.lower().str.replace(' ','_')"
   ]
  },
  {
   "cell_type": "markdown",
   "metadata": {},
   "source": [
    "And we can assign that back to the columns attribute to actually rename the columns:\n"
   ]
  },
  {
   "cell_type": "code",
   "execution_count": 36,
   "metadata": {},
   "outputs": [],
   "source": [
    "reviews_sample.columns = reviews_sample.columns.str.strip().str.lower().str.replace(' ','_')"
   ]
  },
  {
   "cell_type": "code",
   "execution_count": 37,
   "metadata": {},
   "outputs": [
    {
     "data": {
      "text/html": [
       "<div>\n",
       "<style scoped>\n",
       "    .dataframe tbody tr th:only-of-type {\n",
       "        vertical-align: middle;\n",
       "    }\n",
       "\n",
       "    .dataframe tbody tr th {\n",
       "        vertical-align: top;\n",
       "    }\n",
       "\n",
       "    .dataframe thead th {\n",
       "        text-align: right;\n",
       "    }\n",
       "</style>\n",
       "<table border=\"1\" class=\"dataframe\">\n",
       "  <thead>\n",
       "    <tr style=\"text-align: right;\">\n",
       "      <th></th>\n",
       "      <th>id</th>\n",
       "      <th>productid</th>\n",
       "      <th>user_id</th>\n",
       "      <th>profilename</th>\n",
       "      <th>helpfulnessnumerator</th>\n",
       "      <th>helpfulnessdenominator</th>\n",
       "      <th>score</th>\n",
       "      <th>time</th>\n",
       "      <th>summary</th>\n",
       "      <th>text</th>\n",
       "    </tr>\n",
       "  </thead>\n",
       "  <tbody>\n",
       "    <tr>\n",
       "      <th>0</th>\n",
       "      <td>1</td>\n",
       "      <td>B001E4KFG0</td>\n",
       "      <td>A3SGXH7AUHU8GW</td>\n",
       "      <td>delmartian</td>\n",
       "      <td>1</td>\n",
       "      <td>1</td>\n",
       "      <td>5</td>\n",
       "      <td>1303862400</td>\n",
       "      <td>Good Quality Dog Food</td>\n",
       "      <td>I have bought several of the Vitality canned d...</td>\n",
       "    </tr>\n",
       "    <tr>\n",
       "      <th>1</th>\n",
       "      <td>2</td>\n",
       "      <td>B00813GRG4</td>\n",
       "      <td>A1D87F6ZCVE5NK</td>\n",
       "      <td>dll pa</td>\n",
       "      <td>0</td>\n",
       "      <td>0</td>\n",
       "      <td>1</td>\n",
       "      <td>1346976000</td>\n",
       "      <td>Not as Advertised</td>\n",
       "      <td>Product arrived labeled as Jumbo Salted Peanut...</td>\n",
       "    </tr>\n",
       "    <tr>\n",
       "      <th>2</th>\n",
       "      <td>3</td>\n",
       "      <td>B000LQOCH0</td>\n",
       "      <td>ABXLMWJIXXAIN</td>\n",
       "      <td>Natalia Corres \"Natalia Corres\"</td>\n",
       "      <td>1</td>\n",
       "      <td>1</td>\n",
       "      <td>4</td>\n",
       "      <td>1219017600</td>\n",
       "      <td>\"Delight\" says it all</td>\n",
       "      <td>This is a confection that has been around a fe...</td>\n",
       "    </tr>\n",
       "    <tr>\n",
       "      <th>3</th>\n",
       "      <td>4</td>\n",
       "      <td>B000UA0QIQ</td>\n",
       "      <td>A395BORC6FGVXV</td>\n",
       "      <td>Karl</td>\n",
       "      <td>3</td>\n",
       "      <td>3</td>\n",
       "      <td>2</td>\n",
       "      <td>1307923200</td>\n",
       "      <td>Cough Medicine</td>\n",
       "      <td>If you are looking for the secret ingredient i...</td>\n",
       "    </tr>\n",
       "    <tr>\n",
       "      <th>4</th>\n",
       "      <td>5</td>\n",
       "      <td>B006K2ZZ7K</td>\n",
       "      <td>A1UQRSCLF8GW1T</td>\n",
       "      <td>Michael D. Bigham \"M. Wassir\"</td>\n",
       "      <td>0</td>\n",
       "      <td>0</td>\n",
       "      <td>5</td>\n",
       "      <td>1350777600</td>\n",
       "      <td>Great taffy</td>\n",
       "      <td>Great taffy at a great price.  There was a wid...</td>\n",
       "    </tr>\n",
       "    <tr>\n",
       "      <th>5</th>\n",
       "      <td>6</td>\n",
       "      <td>B006K2ZZ7K</td>\n",
       "      <td>ADT0SRK1MGOEU</td>\n",
       "      <td>Twoapennything</td>\n",
       "      <td>0</td>\n",
       "      <td>0</td>\n",
       "      <td>4</td>\n",
       "      <td>1342051200</td>\n",
       "      <td>Nice Taffy</td>\n",
       "      <td>I got a wild hair for taffy and ordered this f...</td>\n",
       "    </tr>\n",
       "    <tr>\n",
       "      <th>6</th>\n",
       "      <td>7</td>\n",
       "      <td>B006K2ZZ7K</td>\n",
       "      <td>A1SP2KVKFXXRU1</td>\n",
       "      <td>David C. Sullivan</td>\n",
       "      <td>0</td>\n",
       "      <td>0</td>\n",
       "      <td>5</td>\n",
       "      <td>1340150400</td>\n",
       "      <td>Great!  Just as good as the expensive brands!</td>\n",
       "      <td>This saltwater taffy had great flavors and was...</td>\n",
       "    </tr>\n",
       "    <tr>\n",
       "      <th>7</th>\n",
       "      <td>8</td>\n",
       "      <td>B006K2ZZ7K</td>\n",
       "      <td>A3JRGQVEQN31IQ</td>\n",
       "      <td>Pamela G. Williams</td>\n",
       "      <td>0</td>\n",
       "      <td>0</td>\n",
       "      <td>5</td>\n",
       "      <td>1336003200</td>\n",
       "      <td>Wonderful, tasty taffy</td>\n",
       "      <td>This taffy is so good.  It is very soft and ch...</td>\n",
       "    </tr>\n",
       "    <tr>\n",
       "      <th>8</th>\n",
       "      <td>9</td>\n",
       "      <td>B000E7L2R4</td>\n",
       "      <td>A1MZYO9TZK0BBI</td>\n",
       "      <td>R. James</td>\n",
       "      <td>1</td>\n",
       "      <td>1</td>\n",
       "      <td>5</td>\n",
       "      <td>1322006400</td>\n",
       "      <td>Yay Barley</td>\n",
       "      <td>Right now I'm mostly just sprouting this so my...</td>\n",
       "    </tr>\n",
       "    <tr>\n",
       "      <th>9</th>\n",
       "      <td>10</td>\n",
       "      <td>B00171APVA</td>\n",
       "      <td>A21BT40VZCCYT4</td>\n",
       "      <td>Carol A. Reed</td>\n",
       "      <td>0</td>\n",
       "      <td>0</td>\n",
       "      <td>5</td>\n",
       "      <td>1351209600</td>\n",
       "      <td>Healthy Dog Food</td>\n",
       "      <td>This is a very healthy dog food. Good for thei...</td>\n",
       "    </tr>\n",
       "  </tbody>\n",
       "</table>\n",
       "</div>"
      ],
      "text/plain": [
       "   id   productid         user_id                      profilename  \\\n",
       "0   1  B001E4KFG0  A3SGXH7AUHU8GW                       delmartian   \n",
       "1   2  B00813GRG4  A1D87F6ZCVE5NK                           dll pa   \n",
       "2   3  B000LQOCH0   ABXLMWJIXXAIN  Natalia Corres \"Natalia Corres\"   \n",
       "3   4  B000UA0QIQ  A395BORC6FGVXV                             Karl   \n",
       "4   5  B006K2ZZ7K  A1UQRSCLF8GW1T    Michael D. Bigham \"M. Wassir\"   \n",
       "5   6  B006K2ZZ7K   ADT0SRK1MGOEU                   Twoapennything   \n",
       "6   7  B006K2ZZ7K  A1SP2KVKFXXRU1                David C. Sullivan   \n",
       "7   8  B006K2ZZ7K  A3JRGQVEQN31IQ               Pamela G. Williams   \n",
       "8   9  B000E7L2R4  A1MZYO9TZK0BBI                         R. James   \n",
       "9  10  B00171APVA  A21BT40VZCCYT4                    Carol A. Reed   \n",
       "\n",
       "   helpfulnessnumerator  helpfulnessdenominator  score        time  \\\n",
       "0                     1                       1      5  1303862400   \n",
       "1                     0                       0      1  1346976000   \n",
       "2                     1                       1      4  1219017600   \n",
       "3                     3                       3      2  1307923200   \n",
       "4                     0                       0      5  1350777600   \n",
       "5                     0                       0      4  1342051200   \n",
       "6                     0                       0      5  1340150400   \n",
       "7                     0                       0      5  1336003200   \n",
       "8                     1                       1      5  1322006400   \n",
       "9                     0                       0      5  1351209600   \n",
       "\n",
       "                                         summary  \\\n",
       "0                          Good Quality Dog Food   \n",
       "1                              Not as Advertised   \n",
       "2                          \"Delight\" says it all   \n",
       "3                                 Cough Medicine   \n",
       "4                                    Great taffy   \n",
       "5                                     Nice Taffy   \n",
       "6  Great!  Just as good as the expensive brands!   \n",
       "7                         Wonderful, tasty taffy   \n",
       "8                                     Yay Barley   \n",
       "9                               Healthy Dog Food   \n",
       "\n",
       "                                                text  \n",
       "0  I have bought several of the Vitality canned d...  \n",
       "1  Product arrived labeled as Jumbo Salted Peanut...  \n",
       "2  This is a confection that has been around a fe...  \n",
       "3  If you are looking for the secret ingredient i...  \n",
       "4  Great taffy at a great price.  There was a wid...  \n",
       "5  I got a wild hair for taffy and ordered this f...  \n",
       "6  This saltwater taffy had great flavors and was...  \n",
       "7  This taffy is so good.  It is very soft and ch...  \n",
       "8  Right now I'm mostly just sprouting this so my...  \n",
       "9  This is a very healthy dog food. Good for thei...  "
      ]
     },
     "execution_count": 37,
     "metadata": {},
     "output_type": "execute_result"
    }
   ],
   "source": [
    "reviews_sample"
   ]
  },
  {
   "cell_type": "markdown",
   "metadata": {},
   "source": [
    "### Splitting and Replacing Strings"
   ]
  },
  {
   "cell_type": "markdown",
   "metadata": {},
   "source": [
    "Sometimes, we want to split strings into lists.  We might want to do that with the \"summary\" column:"
   ]
  },
  {
   "cell_type": "code",
   "execution_count": 38,
   "metadata": {},
   "outputs": [
    {
     "data": {
      "text/plain": [
       "0    [B, 1E4KFG0]\n",
       "1    [B, 813GRG4]\n",
       "2    [B, 0LQOCH0]\n",
       "3    [B, 0UA0QIQ]\n",
       "4    [B, 6K2ZZ7K]\n",
       "5    [B, 6K2ZZ7K]\n",
       "6    [B, 6K2ZZ7K]\n",
       "7    [B, 6K2ZZ7K]\n",
       "8    [B, 0E7L2R4]\n",
       "9    [B, 171APVA]\n",
       "Name: productid, dtype: object"
      ]
     },
     "execution_count": 38,
     "metadata": {},
     "output_type": "execute_result"
    }
   ],
   "source": [
    "reviews_sample.productid.str.split('00')"
   ]
  },
  {
   "cell_type": "code",
   "execution_count": 39,
   "metadata": {},
   "outputs": [
    {
     "data": {
      "text/plain": [
       "0    1E4KFG0\n",
       "1    813GRG4\n",
       "2    0LQOCH0\n",
       "3    0UA0QIQ\n",
       "4    6K2ZZ7K\n",
       "5    6K2ZZ7K\n",
       "6    6K2ZZ7K\n",
       "7    6K2ZZ7K\n",
       "8    0E7L2R4\n",
       "9    171APVA\n",
       "Name: productid, dtype: object"
      ]
     },
     "execution_count": 39,
     "metadata": {},
     "output_type": "execute_result"
    }
   ],
   "source": [
    "reviews_sample.productid.str.split('00').str.get(1)"
   ]
  },
  {
   "cell_type": "markdown",
   "metadata": {},
   "source": [
    "Equivalently:"
   ]
  },
  {
   "cell_type": "code",
   "execution_count": 40,
   "metadata": {},
   "outputs": [
    {
     "data": {
      "text/plain": [
       "0    1E4KFG0\n",
       "1    813GRG4\n",
       "2    0LQOCH0\n",
       "3    0UA0QIQ\n",
       "4    6K2ZZ7K\n",
       "5    6K2ZZ7K\n",
       "6    6K2ZZ7K\n",
       "7    6K2ZZ7K\n",
       "8    0E7L2R4\n",
       "9    171APVA\n",
       "Name: productid, dtype: object"
      ]
     },
     "execution_count": 40,
     "metadata": {},
     "output_type": "execute_result"
    }
   ],
   "source": [
    "reviews_sample.productid.str.split('00').str[1]"
   ]
  },
  {
   "cell_type": "markdown",
   "metadata": {},
   "source": [
    "### Replace (regex time!)"
   ]
  },
  {
   "cell_type": "code",
   "execution_count": 41,
   "metadata": {},
   "outputs": [
    {
     "data": {
      "text/plain": [
       "0                         good quality health food\n",
       "1                                not as advertised\n",
       "2                            \"delight\" says it all\n",
       "3                                   cough medicine\n",
       "4                                      great taffy\n",
       "5                                       nice taffy\n",
       "6    great!  just as good as the expensive brands!\n",
       "7                           wonderful, tasty taffy\n",
       "8                                       yay barley\n",
       "9                              healthy health food\n",
       "Name: summary, dtype: object"
      ]
     },
     "execution_count": 41,
     "metadata": {},
     "output_type": "execute_result"
    }
   ],
   "source": [
    "reviews_sample.summary.str.lower().str.replace('dog','health')"
   ]
  },
  {
   "cell_type": "code",
   "execution_count": 42,
   "metadata": {},
   "outputs": [
    {
     "data": {
      "text/plain": [
       "0                         good quality health food\n",
       "1                                not as advertised\n",
       "2                            \"delight\" says it all\n",
       "3                                   cough medicine\n",
       "4                                     great health\n",
       "5                                      nice health\n",
       "6    great!  just as good as the expensive brands!\n",
       "7                          wonderful, tasty health\n",
       "8                                       yay barley\n",
       "9                              healthy health food\n",
       "Name: summary, dtype: object"
      ]
     },
     "execution_count": 42,
     "metadata": {},
     "output_type": "execute_result"
    }
   ],
   "source": [
    "reviews_sample.summary.str.lower().str.replace('dog|taffy','health')"
   ]
  },
  {
   "cell_type": "markdown",
   "metadata": {},
   "source": [
    "### Extracting Substrings"
   ]
  },
  {
   "cell_type": "code",
   "execution_count": 43,
   "metadata": {},
   "outputs": [
    {
     "data": {
      "text/html": [
       "<div>\n",
       "<style scoped>\n",
       "    .dataframe tbody tr th:only-of-type {\n",
       "        vertical-align: middle;\n",
       "    }\n",
       "\n",
       "    .dataframe tbody tr th {\n",
       "        vertical-align: top;\n",
       "    }\n",
       "\n",
       "    .dataframe thead th {\n",
       "        text-align: right;\n",
       "    }\n",
       "</style>\n",
       "<table border=\"1\" class=\"dataframe\">\n",
       "  <thead>\n",
       "    <tr style=\"text-align: right;\">\n",
       "      <th></th>\n",
       "      <th>0</th>\n",
       "    </tr>\n",
       "  </thead>\n",
       "  <tbody>\n",
       "    <tr>\n",
       "      <th>0</th>\n",
       "      <td>Dog</td>\n",
       "    </tr>\n",
       "    <tr>\n",
       "      <th>1</th>\n",
       "      <td>NaN</td>\n",
       "    </tr>\n",
       "    <tr>\n",
       "      <th>2</th>\n",
       "      <td>NaN</td>\n",
       "    </tr>\n",
       "    <tr>\n",
       "      <th>3</th>\n",
       "      <td>NaN</td>\n",
       "    </tr>\n",
       "    <tr>\n",
       "      <th>4</th>\n",
       "      <td>NaN</td>\n",
       "    </tr>\n",
       "    <tr>\n",
       "      <th>5</th>\n",
       "      <td>NaN</td>\n",
       "    </tr>\n",
       "    <tr>\n",
       "      <th>6</th>\n",
       "      <td>NaN</td>\n",
       "    </tr>\n",
       "    <tr>\n",
       "      <th>7</th>\n",
       "      <td>NaN</td>\n",
       "    </tr>\n",
       "    <tr>\n",
       "      <th>8</th>\n",
       "      <td>NaN</td>\n",
       "    </tr>\n",
       "    <tr>\n",
       "      <th>9</th>\n",
       "      <td>Dog</td>\n",
       "    </tr>\n",
       "  </tbody>\n",
       "</table>\n",
       "</div>"
      ],
      "text/plain": [
       "     0\n",
       "0  Dog\n",
       "1  NaN\n",
       "2  NaN\n",
       "3  NaN\n",
       "4  NaN\n",
       "5  NaN\n",
       "6  NaN\n",
       "7  NaN\n",
       "8  NaN\n",
       "9  Dog"
      ]
     },
     "execution_count": 43,
     "metadata": {},
     "output_type": "execute_result"
    }
   ],
   "source": [
    "reviews_sample.summary.str.extract(r'(Dog)')"
   ]
  },
  {
   "cell_type": "code",
   "execution_count": 44,
   "metadata": {},
   "outputs": [
    {
     "data": {
      "text/html": [
       "<div>\n",
       "<style scoped>\n",
       "    .dataframe tbody tr th:only-of-type {\n",
       "        vertical-align: middle;\n",
       "    }\n",
       "\n",
       "    .dataframe tbody tr th {\n",
       "        vertical-align: top;\n",
       "    }\n",
       "\n",
       "    .dataframe thead th {\n",
       "        text-align: right;\n",
       "    }\n",
       "</style>\n",
       "<table border=\"1\" class=\"dataframe\">\n",
       "  <thead>\n",
       "    <tr style=\"text-align: right;\">\n",
       "      <th></th>\n",
       "      <th>0</th>\n",
       "    </tr>\n",
       "  </thead>\n",
       "  <tbody>\n",
       "    <tr>\n",
       "      <th>0</th>\n",
       "      <td>Dog</td>\n",
       "    </tr>\n",
       "    <tr>\n",
       "      <th>1</th>\n",
       "      <td>NaN</td>\n",
       "    </tr>\n",
       "    <tr>\n",
       "      <th>2</th>\n",
       "      <td>NaN</td>\n",
       "    </tr>\n",
       "    <tr>\n",
       "      <th>3</th>\n",
       "      <td>NaN</td>\n",
       "    </tr>\n",
       "    <tr>\n",
       "      <th>4</th>\n",
       "      <td>NaN</td>\n",
       "    </tr>\n",
       "    <tr>\n",
       "      <th>5</th>\n",
       "      <td>Taffy</td>\n",
       "    </tr>\n",
       "    <tr>\n",
       "      <th>6</th>\n",
       "      <td>NaN</td>\n",
       "    </tr>\n",
       "    <tr>\n",
       "      <th>7</th>\n",
       "      <td>NaN</td>\n",
       "    </tr>\n",
       "    <tr>\n",
       "      <th>8</th>\n",
       "      <td>NaN</td>\n",
       "    </tr>\n",
       "    <tr>\n",
       "      <th>9</th>\n",
       "      <td>Dog</td>\n",
       "    </tr>\n",
       "  </tbody>\n",
       "</table>\n",
       "</div>"
      ],
      "text/plain": [
       "       0\n",
       "0    Dog\n",
       "1    NaN\n",
       "2    NaN\n",
       "3    NaN\n",
       "4    NaN\n",
       "5  Taffy\n",
       "6    NaN\n",
       "7    NaN\n",
       "8    NaN\n",
       "9    Dog"
      ]
     },
     "execution_count": 44,
     "metadata": {},
     "output_type": "execute_result"
    }
   ],
   "source": [
    "reviews_sample.summary.str.extract(r'(Dog|Taffy)')"
   ]
  },
  {
   "cell_type": "code",
   "execution_count": 45,
   "metadata": {},
   "outputs": [
    {
     "data": {
      "text/html": [
       "<div>\n",
       "<style scoped>\n",
       "    .dataframe tbody tr th:only-of-type {\n",
       "        vertical-align: middle;\n",
       "    }\n",
       "\n",
       "    .dataframe tbody tr th {\n",
       "        vertical-align: top;\n",
       "    }\n",
       "\n",
       "    .dataframe thead th {\n",
       "        text-align: right;\n",
       "    }\n",
       "</style>\n",
       "<table border=\"1\" class=\"dataframe\">\n",
       "  <thead>\n",
       "    <tr style=\"text-align: right;\">\n",
       "      <th></th>\n",
       "      <th>0</th>\n",
       "    </tr>\n",
       "  </thead>\n",
       "  <tbody>\n",
       "    <tr>\n",
       "      <th>0</th>\n",
       "      <td>Dog</td>\n",
       "    </tr>\n",
       "    <tr>\n",
       "      <th>1</th>\n",
       "      <td>NaN</td>\n",
       "    </tr>\n",
       "    <tr>\n",
       "      <th>2</th>\n",
       "      <td>NaN</td>\n",
       "    </tr>\n",
       "    <tr>\n",
       "      <th>3</th>\n",
       "      <td>NaN</td>\n",
       "    </tr>\n",
       "    <tr>\n",
       "      <th>4</th>\n",
       "      <td>taffy</td>\n",
       "    </tr>\n",
       "    <tr>\n",
       "      <th>5</th>\n",
       "      <td>Taffy</td>\n",
       "    </tr>\n",
       "    <tr>\n",
       "      <th>6</th>\n",
       "      <td>NaN</td>\n",
       "    </tr>\n",
       "    <tr>\n",
       "      <th>7</th>\n",
       "      <td>taffy</td>\n",
       "    </tr>\n",
       "    <tr>\n",
       "      <th>8</th>\n",
       "      <td>NaN</td>\n",
       "    </tr>\n",
       "    <tr>\n",
       "      <th>9</th>\n",
       "      <td>Dog</td>\n",
       "    </tr>\n",
       "  </tbody>\n",
       "</table>\n",
       "</div>"
      ],
      "text/plain": [
       "       0\n",
       "0    Dog\n",
       "1    NaN\n",
       "2    NaN\n",
       "3    NaN\n",
       "4  taffy\n",
       "5  Taffy\n",
       "6    NaN\n",
       "7  taffy\n",
       "8    NaN\n",
       "9    Dog"
      ]
     },
     "execution_count": 45,
     "metadata": {},
     "output_type": "execute_result"
    }
   ],
   "source": [
    "reviews_sample.summary.str.extract(r'(Dog|[Tt]affy)')"
   ]
  },
  {
   "cell_type": "code",
   "execution_count": 46,
   "metadata": {},
   "outputs": [
    {
     "data": {
      "text/plain": [
       "0      Dog\n",
       "1      NaN\n",
       "2      NaN\n",
       "3      NaN\n",
       "4    taffy\n",
       "5    Taffy\n",
       "6      NaN\n",
       "7    taffy\n",
       "8      NaN\n",
       "9      Dog\n",
       "Name: summary, dtype: object"
      ]
     },
     "execution_count": 46,
     "metadata": {},
     "output_type": "execute_result"
    }
   ],
   "source": [
    "# returns a Series\n",
    "reviews_sample.summary.str.extract(r'(Dog|[Tt]affy)', expand = False)"
   ]
  },
  {
   "cell_type": "code",
   "execution_count": 47,
   "metadata": {},
   "outputs": [
    {
     "data": {
      "text/html": [
       "<div>\n",
       "<style scoped>\n",
       "    .dataframe tbody tr th:only-of-type {\n",
       "        vertical-align: middle;\n",
       "    }\n",
       "\n",
       "    .dataframe tbody tr th {\n",
       "        vertical-align: top;\n",
       "    }\n",
       "\n",
       "    .dataframe thead th {\n",
       "        text-align: right;\n",
       "    }\n",
       "</style>\n",
       "<table border=\"1\" class=\"dataframe\">\n",
       "  <thead>\n",
       "    <tr style=\"text-align: right;\">\n",
       "      <th></th>\n",
       "      <th></th>\n",
       "      <th>0</th>\n",
       "    </tr>\n",
       "    <tr>\n",
       "      <th></th>\n",
       "      <th>match</th>\n",
       "      <th></th>\n",
       "    </tr>\n",
       "  </thead>\n",
       "  <tbody>\n",
       "    <tr>\n",
       "      <th>0</th>\n",
       "      <th>0</th>\n",
       "      <td>Dog</td>\n",
       "    </tr>\n",
       "    <tr>\n",
       "      <th>4</th>\n",
       "      <th>0</th>\n",
       "      <td>taffy</td>\n",
       "    </tr>\n",
       "    <tr>\n",
       "      <th>5</th>\n",
       "      <th>0</th>\n",
       "      <td>Taffy</td>\n",
       "    </tr>\n",
       "    <tr>\n",
       "      <th>7</th>\n",
       "      <th>0</th>\n",
       "      <td>taffy</td>\n",
       "    </tr>\n",
       "    <tr>\n",
       "      <th>9</th>\n",
       "      <th>0</th>\n",
       "      <td>Dog</td>\n",
       "    </tr>\n",
       "  </tbody>\n",
       "</table>\n",
       "</div>"
      ],
      "text/plain": [
       "             0\n",
       "  match       \n",
       "0 0        Dog\n",
       "4 0      taffy\n",
       "5 0      Taffy\n",
       "7 0      taffy\n",
       "9 0        Dog"
      ]
     },
     "execution_count": 47,
     "metadata": {},
     "output_type": "execute_result"
    }
   ],
   "source": [
    "reviews_sample.summary.str.extractall(r'(Dog|[Tt]affy)')"
   ]
  },
  {
   "cell_type": "code",
   "execution_count": 48,
   "metadata": {},
   "outputs": [
    {
     "data": {
      "text/html": [
       "<div>\n",
       "<style scoped>\n",
       "    .dataframe tbody tr th:only-of-type {\n",
       "        vertical-align: middle;\n",
       "    }\n",
       "\n",
       "    .dataframe tbody tr th {\n",
       "        vertical-align: top;\n",
       "    }\n",
       "\n",
       "    .dataframe thead th {\n",
       "        text-align: right;\n",
       "    }\n",
       "</style>\n",
       "<table border=\"1\" class=\"dataframe\">\n",
       "  <thead>\n",
       "    <tr style=\"text-align: right;\">\n",
       "      <th></th>\n",
       "      <th></th>\n",
       "      <th>0</th>\n",
       "    </tr>\n",
       "    <tr>\n",
       "      <th></th>\n",
       "      <th>match</th>\n",
       "      <th></th>\n",
       "    </tr>\n",
       "  </thead>\n",
       "  <tbody>\n",
       "    <tr>\n",
       "      <th>1</th>\n",
       "      <th>0</th>\n",
       "      <td>as</td>\n",
       "    </tr>\n",
       "    <tr>\n",
       "      <th rowspan=\"2\" valign=\"top\">6</th>\n",
       "      <th>0</th>\n",
       "      <td>as</td>\n",
       "    </tr>\n",
       "    <tr>\n",
       "      <th>1</th>\n",
       "      <td>as</td>\n",
       "    </tr>\n",
       "    <tr>\n",
       "      <th>7</th>\n",
       "      <th>0</th>\n",
       "      <td>as</td>\n",
       "    </tr>\n",
       "  </tbody>\n",
       "</table>\n",
       "</div>"
      ],
      "text/plain": [
       "          0\n",
       "  match    \n",
       "1 0      as\n",
       "6 0      as\n",
       "  1      as\n",
       "7 0      as"
      ]
     },
     "execution_count": 48,
     "metadata": {},
     "output_type": "execute_result"
    }
   ],
   "source": [
    "reviews_sample.summary.str.extractall(r'(as)')"
   ]
  },
  {
   "cell_type": "markdown",
   "metadata": {},
   "source": [
    "### Testing for Strings that Match or Contain a Pattern"
   ]
  },
  {
   "cell_type": "code",
   "execution_count": 51,
   "metadata": {},
   "outputs": [
    {
     "data": {
      "text/plain": [
       "0    I have bought several of the Vitality canned d...\n",
       "1    Product arrived labeled as Jumbo Salted Peanut...\n",
       "2    This is a confection that has been around a fe...\n",
       "3    If you are looking for the secret ingredient i...\n",
       "4    Great taffy at a great price.  There was a wid...\n",
       "5    I got a wild hair for taffy and ordered this f...\n",
       "6    This saltwater taffy had great flavors and was...\n",
       "7    This taffy is so good.  It is very soft and ch...\n",
       "8    Right now I'm mostly just sprouting this so my...\n",
       "9    This is a very healthy dog food. Good for thei...\n",
       "Name: text, dtype: object"
      ]
     },
     "execution_count": 51,
     "metadata": {},
     "output_type": "execute_result"
    }
   ],
   "source": [
    "reviews_sample.text"
   ]
  },
  {
   "cell_type": "code",
   "execution_count": 52,
   "metadata": {},
   "outputs": [],
   "source": [
    "pattern = r'[Gg]ood'"
   ]
  },
  {
   "cell_type": "code",
   "execution_count": 53,
   "metadata": {},
   "outputs": [
    {
     "data": {
      "text/plain": [
       "0     True\n",
       "1    False\n",
       "2    False\n",
       "3     True\n",
       "4    False\n",
       "5    False\n",
       "6    False\n",
       "7     True\n",
       "8    False\n",
       "9     True\n",
       "Name: text, dtype: bool"
      ]
     },
     "execution_count": 53,
     "metadata": {},
     "output_type": "execute_result"
    }
   ],
   "source": [
    "reviews_sample.text.str.contains(pattern)"
   ]
  },
  {
   "cell_type": "code",
   "execution_count": 54,
   "metadata": {},
   "outputs": [
    {
     "data": {
      "text/plain": [
       "0    False\n",
       "1    False\n",
       "2    False\n",
       "3    False\n",
       "4    False\n",
       "5    False\n",
       "6    False\n",
       "7    False\n",
       "8    False\n",
       "9    False\n",
       "Name: text, dtype: bool"
      ]
     },
     "execution_count": 54,
     "metadata": {},
     "output_type": "execute_result"
    }
   ],
   "source": [
    "reviews_sample.text.str.match(pattern)"
   ]
  },
  {
   "cell_type": "code",
   "execution_count": 55,
   "metadata": {},
   "outputs": [],
   "source": [
    "pattern = r'.*[Gg]ood.*'"
   ]
  },
  {
   "cell_type": "code",
   "execution_count": 56,
   "metadata": {},
   "outputs": [
    {
     "data": {
      "text/plain": [
       "0     True\n",
       "1    False\n",
       "2    False\n",
       "3     True\n",
       "4    False\n",
       "5    False\n",
       "6    False\n",
       "7     True\n",
       "8    False\n",
       "9     True\n",
       "Name: text, dtype: bool"
      ]
     },
     "execution_count": 56,
     "metadata": {},
     "output_type": "execute_result"
    }
   ],
   "source": [
    "reviews_sample.text.str.match(pattern)"
   ]
  },
  {
   "cell_type": "markdown",
   "metadata": {},
   "source": [
    "#### Helpful resources:\n",
    "- Pandas text documentation: https://pandas.pydata.org/pandas-docs/stable/user_guide/text.html\n",
    "- Regex Cheat Sheet: https://regexr.com/"
   ]
  },
  {
   "cell_type": "markdown",
   "metadata": {},
   "source": [
    "### <font color=\"magenta\">Q4: How many rows from the Amazon Food Reviews data set contain HTML tags in the ```text``` column?</font>"
   ]
  },
  {
   "cell_type": "code",
   "execution_count": 80,
   "metadata": {},
   "outputs": [
    {
     "name": "stdout",
     "output_type": "stream",
     "text": [
      "2106 rows found\n"
     ]
    },
    {
     "data": {
      "text/html": [
       "<div>\n",
       "<style scoped>\n",
       "    .dataframe tbody tr th:only-of-type {\n",
       "        vertical-align: middle;\n",
       "    }\n",
       "\n",
       "    .dataframe tbody tr th {\n",
       "        vertical-align: top;\n",
       "    }\n",
       "\n",
       "    .dataframe thead th {\n",
       "        text-align: right;\n",
       "    }\n",
       "</style>\n",
       "<table border=\"1\" class=\"dataframe\">\n",
       "  <thead>\n",
       "    <tr style=\"text-align: right;\">\n",
       "      <th></th>\n",
       "      <th>0</th>\n",
       "    </tr>\n",
       "  </thead>\n",
       "  <tbody>\n",
       "    <tr>\n",
       "      <th>21</th>\n",
       "      <td>&lt;/a&gt;</td>\n",
       "    </tr>\n",
       "    <tr>\n",
       "      <th>25</th>\n",
       "      <td>&lt;/a&gt;</td>\n",
       "    </tr>\n",
       "    <tr>\n",
       "      <th>39</th>\n",
       "      <td>&lt;/a&gt;</td>\n",
       "    </tr>\n",
       "    <tr>\n",
       "      <th>158</th>\n",
       "      <td>&lt;/span&gt;</td>\n",
       "    </tr>\n",
       "    <tr>\n",
       "      <th>348</th>\n",
       "      <td>&lt;/a&gt;</td>\n",
       "    </tr>\n",
       "    <tr>\n",
       "      <th>369</th>\n",
       "      <td>&lt;/a&gt;</td>\n",
       "    </tr>\n",
       "    <tr>\n",
       "      <th>370</th>\n",
       "      <td>&lt;/a&gt;</td>\n",
       "    </tr>\n",
       "    <tr>\n",
       "      <th>398</th>\n",
       "      <td>&lt;/a&gt;</td>\n",
       "    </tr>\n",
       "    <tr>\n",
       "      <th>430</th>\n",
       "      <td>&lt;/a&gt;</td>\n",
       "    </tr>\n",
       "    <tr>\n",
       "      <th>466</th>\n",
       "      <td>&lt;/a&gt;</td>\n",
       "    </tr>\n",
       "    <tr>\n",
       "      <th>467</th>\n",
       "      <td>&lt;/a&gt;</td>\n",
       "    </tr>\n",
       "    <tr>\n",
       "      <th>488</th>\n",
       "      <td>&lt;/a&gt;</td>\n",
       "    </tr>\n",
       "    <tr>\n",
       "      <th>574</th>\n",
       "      <td>&lt;/a&gt;</td>\n",
       "    </tr>\n",
       "    <tr>\n",
       "      <th>602</th>\n",
       "      <td>&lt;/a&gt;</td>\n",
       "    </tr>\n",
       "    <tr>\n",
       "      <th>603</th>\n",
       "      <td>&lt;/a&gt;</td>\n",
       "    </tr>\n",
       "    <tr>\n",
       "      <th>642</th>\n",
       "      <td>&lt;/a&gt;</td>\n",
       "    </tr>\n",
       "    <tr>\n",
       "      <th>688</th>\n",
       "      <td>&lt;/a&gt;</td>\n",
       "    </tr>\n",
       "    <tr>\n",
       "      <th>709</th>\n",
       "      <td>&lt;/a&gt;</td>\n",
       "    </tr>\n",
       "    <tr>\n",
       "      <th>713</th>\n",
       "      <td>&lt;/a&gt;</td>\n",
       "    </tr>\n",
       "    <tr>\n",
       "      <th>835</th>\n",
       "      <td>&lt;/a&gt;</td>\n",
       "    </tr>\n",
       "    <tr>\n",
       "      <th>1031</th>\n",
       "      <td>&lt;/a&gt;</td>\n",
       "    </tr>\n",
       "    <tr>\n",
       "      <th>1059</th>\n",
       "      <td>&lt;/a&gt;</td>\n",
       "    </tr>\n",
       "    <tr>\n",
       "      <th>1061</th>\n",
       "      <td>&lt;/a&gt;</td>\n",
       "    </tr>\n",
       "    <tr>\n",
       "      <th>1155</th>\n",
       "      <td>&lt;/a&gt;</td>\n",
       "    </tr>\n",
       "    <tr>\n",
       "      <th>1345</th>\n",
       "      <td>&lt;/a&gt;</td>\n",
       "    </tr>\n",
       "    <tr>\n",
       "      <th>1381</th>\n",
       "      <td>&lt;/a&gt;</td>\n",
       "    </tr>\n",
       "    <tr>\n",
       "      <th>1434</th>\n",
       "      <td>&lt;/a&gt;</td>\n",
       "    </tr>\n",
       "    <tr>\n",
       "      <th>1460</th>\n",
       "      <td>&lt;/span&gt;</td>\n",
       "    </tr>\n",
       "    <tr>\n",
       "      <th>1499</th>\n",
       "      <td>&lt;/a&gt;</td>\n",
       "    </tr>\n",
       "    <tr>\n",
       "      <th>1522</th>\n",
       "      <td>&lt;/a&gt;</td>\n",
       "    </tr>\n",
       "    <tr>\n",
       "      <th>...</th>\n",
       "      <td>...</td>\n",
       "    </tr>\n",
       "    <tr>\n",
       "      <th>98280</th>\n",
       "      <td>&lt;/a&gt;</td>\n",
       "    </tr>\n",
       "    <tr>\n",
       "      <th>98496</th>\n",
       "      <td>&lt;/a&gt;</td>\n",
       "    </tr>\n",
       "    <tr>\n",
       "      <th>98520</th>\n",
       "      <td>&lt;/a&gt;</td>\n",
       "    </tr>\n",
       "    <tr>\n",
       "      <th>98573</th>\n",
       "      <td>&lt;/a&gt;</td>\n",
       "    </tr>\n",
       "    <tr>\n",
       "      <th>98630</th>\n",
       "      <td>&lt;/a&gt;</td>\n",
       "    </tr>\n",
       "    <tr>\n",
       "      <th>98654</th>\n",
       "      <td>&lt;/a&gt;</td>\n",
       "    </tr>\n",
       "    <tr>\n",
       "      <th>98771</th>\n",
       "      <td>&lt;/a&gt;</td>\n",
       "    </tr>\n",
       "    <tr>\n",
       "      <th>98812</th>\n",
       "      <td>&lt;/a&gt;</td>\n",
       "    </tr>\n",
       "    <tr>\n",
       "      <th>98836</th>\n",
       "      <td>&lt;/a&gt;</td>\n",
       "    </tr>\n",
       "    <tr>\n",
       "      <th>98860</th>\n",
       "      <td>&lt;/a&gt;</td>\n",
       "    </tr>\n",
       "    <tr>\n",
       "      <th>98936</th>\n",
       "      <td>&lt;/a&gt;</td>\n",
       "    </tr>\n",
       "    <tr>\n",
       "      <th>98948</th>\n",
       "      <td>&lt;/a&gt;</td>\n",
       "    </tr>\n",
       "    <tr>\n",
       "      <th>99079</th>\n",
       "      <td>&lt;/a&gt;</td>\n",
       "    </tr>\n",
       "    <tr>\n",
       "      <th>99120</th>\n",
       "      <td>&lt;/a&gt;</td>\n",
       "    </tr>\n",
       "    <tr>\n",
       "      <th>99295</th>\n",
       "      <td>&lt;/a&gt;</td>\n",
       "    </tr>\n",
       "    <tr>\n",
       "      <th>99303</th>\n",
       "      <td>&lt;/a&gt;</td>\n",
       "    </tr>\n",
       "    <tr>\n",
       "      <th>99340</th>\n",
       "      <td>&lt;/a&gt;</td>\n",
       "    </tr>\n",
       "    <tr>\n",
       "      <th>99477</th>\n",
       "      <td>&lt;/a&gt;</td>\n",
       "    </tr>\n",
       "    <tr>\n",
       "      <th>99535</th>\n",
       "      <td>&lt;/a&gt;</td>\n",
       "    </tr>\n",
       "    <tr>\n",
       "      <th>99553</th>\n",
       "      <td>&lt;/a&gt;</td>\n",
       "    </tr>\n",
       "    <tr>\n",
       "      <th>99561</th>\n",
       "      <td>&lt;/a&gt;</td>\n",
       "    </tr>\n",
       "    <tr>\n",
       "      <th>99662</th>\n",
       "      <td>&lt;/span&gt;</td>\n",
       "    </tr>\n",
       "    <tr>\n",
       "      <th>99719</th>\n",
       "      <td>&lt;/a&gt;</td>\n",
       "    </tr>\n",
       "    <tr>\n",
       "      <th>99745</th>\n",
       "      <td>&lt;/a&gt;</td>\n",
       "    </tr>\n",
       "    <tr>\n",
       "      <th>99760</th>\n",
       "      <td>&lt;/a&gt;</td>\n",
       "    </tr>\n",
       "    <tr>\n",
       "      <th>99764</th>\n",
       "      <td>&lt;/a&gt;</td>\n",
       "    </tr>\n",
       "    <tr>\n",
       "      <th>99766</th>\n",
       "      <td>&lt;/a&gt;</td>\n",
       "    </tr>\n",
       "    <tr>\n",
       "      <th>99786</th>\n",
       "      <td>&lt;/a&gt;</td>\n",
       "    </tr>\n",
       "    <tr>\n",
       "      <th>99800</th>\n",
       "      <td>&lt;/a&gt;</td>\n",
       "    </tr>\n",
       "    <tr>\n",
       "      <th>99958</th>\n",
       "      <td>&lt;/a&gt;</td>\n",
       "    </tr>\n",
       "  </tbody>\n",
       "</table>\n",
       "<p>2106 rows × 1 columns</p>\n",
       "</div>"
      ],
      "text/plain": [
       "             0\n",
       "21        </a>\n",
       "25        </a>\n",
       "39        </a>\n",
       "158    </span>\n",
       "348       </a>\n",
       "369       </a>\n",
       "370       </a>\n",
       "398       </a>\n",
       "430       </a>\n",
       "466       </a>\n",
       "467       </a>\n",
       "488       </a>\n",
       "574       </a>\n",
       "602       </a>\n",
       "603       </a>\n",
       "642       </a>\n",
       "688       </a>\n",
       "709       </a>\n",
       "713       </a>\n",
       "835       </a>\n",
       "1031      </a>\n",
       "1059      </a>\n",
       "1061      </a>\n",
       "1155      </a>\n",
       "1345      </a>\n",
       "1381      </a>\n",
       "1434      </a>\n",
       "1460   </span>\n",
       "1499      </a>\n",
       "1522      </a>\n",
       "...        ...\n",
       "98280     </a>\n",
       "98496     </a>\n",
       "98520     </a>\n",
       "98573     </a>\n",
       "98630     </a>\n",
       "98654     </a>\n",
       "98771     </a>\n",
       "98812     </a>\n",
       "98836     </a>\n",
       "98860     </a>\n",
       "98936     </a>\n",
       "98948     </a>\n",
       "99079     </a>\n",
       "99120     </a>\n",
       "99295     </a>\n",
       "99303     </a>\n",
       "99340     </a>\n",
       "99477     </a>\n",
       "99535     </a>\n",
       "99553     </a>\n",
       "99561     </a>\n",
       "99662  </span>\n",
       "99719     </a>\n",
       "99745     </a>\n",
       "99760     </a>\n",
       "99764     </a>\n",
       "99766     </a>\n",
       "99786     </a>\n",
       "99800     </a>\n",
       "99958     </a>\n",
       "\n",
       "[2106 rows x 1 columns]"
      ]
     },
     "execution_count": 80,
     "metadata": {},
     "output_type": "execute_result"
    }
   ],
   "source": [
    "reviews.columns = reviews.columns.str.strip().str.lower().str.replace(' ', '_')\n",
    "print(reviews.text.str.contains(r'<[/]*\\w+>').sum(), 'rows found')\n",
    "reviews.text.str.extract(r'(<[/]*\\w+>)').dropna()"
   ]
  },
  {
   "cell_type": "markdown",
   "metadata": {},
   "source": [
    "### <font color=\"magenta\">Q5: Remove all HTML tags from the Amazon Food Reviews text column and save the results to a column called text_no_html."
   ]
  },
  {
   "cell_type": "code",
   "execution_count": 81,
   "metadata": {},
   "outputs": [],
   "source": [
    "reviews['text_no_html'] = reviews.text.str.replace(r'<[/]*\\w+>', '')"
   ]
  },
  {
   "cell_type": "markdown",
   "metadata": {},
   "source": [
    "## NOTE: Install the spaCy and gensim libraries now.  Windows users will need to implement some work-arounds to get spaCy to work properly."
   ]
  },
  {
   "cell_type": "markdown",
   "metadata": {},
   "source": [
    "# spaCy"
   ]
  },
  {
   "cell_type": "code",
   "execution_count": 82,
   "metadata": {},
   "outputs": [],
   "source": [
    "import pandas as pd\n",
    "import numpy as np\n",
    "import re\n",
    "import seaborn as sns\n",
    "import matplotlib.pyplot as plt\n",
    "%matplotlib inline"
   ]
  },
  {
   "cell_type": "markdown",
   "metadata": {},
   "source": [
    "- Fast, and extensible NLP package for Python\n",
    "- <https://spacy.io/>"
   ]
  },
  {
   "cell_type": "code",
   "execution_count": 83,
   "metadata": {},
   "outputs": [],
   "source": [
    "import spacy"
   ]
  },
  {
   "cell_type": "code",
   "execution_count": 84,
   "metadata": {},
   "outputs": [
    {
     "name": "stdout",
     "output_type": "stream",
     "text": [
      "Collecting en_core_web_sm==2.0.0 from https://github.com/explosion/spacy-models/releases/download/en_core_web_sm-2.0.0/en_core_web_sm-2.0.0.tar.gz#egg=en_core_web_sm==2.0.0\n",
      "  Downloading https://github.com/explosion/spacy-models/releases/download/en_core_web_sm-2.0.0/en_core_web_sm-2.0.0.tar.gz (37.4MB)\n",
      "Installing collected packages: en-core-web-sm\n",
      "  Running setup.py install for en-core-web-sm: started\n",
      "    Running setup.py install for en-core-web-sm: finished with status 'done'\n",
      "Successfully installed en-core-web-sm-2.0.0\n",
      "\n",
      "    Error: Couldn't link model to 'en'\n",
      "    Creating a symlink in spacy/data failed. Make sure you have the required\n",
      "    permissions and try re-running the command as admin, or use a\n",
      "    virtualenv. You can still import the model as a module and call its\n",
      "    load() method, or create the symlink manually.\n",
      "\n",
      "    C:\\Users\\dteng\\Anaconda\\lib\\site-packages\\en_core_web_sm -->\n",
      "    C:\\Users\\dteng\\Anaconda\\lib\\site-packages\\spacy\\data\\en\n",
      "\n",
      "\n",
      "    Creating a shortcut link for 'en' didn't work (maybe you don't have\n",
      "    admin permissions?), but you can still load the model via its full\n",
      "    package name: nlp = spacy.load('{name}')\n",
      "    Download successful but linking failed\n",
      "\n"
     ]
    },
    {
     "name": "stderr",
     "output_type": "stream",
     "text": [
      "You are using pip version 19.0.1, however version 19.0.3 is available.\n",
      "You should consider upgrading via the 'python -m pip install --upgrade pip' command.\n"
     ]
    }
   ],
   "source": [
    "# You will need to do this only once\n",
    "! python -m spacy download en"
   ]
  },
  {
   "cell_type": "code",
   "execution_count": 85,
   "metadata": {},
   "outputs": [],
   "source": [
    "# loading up the language model: English\n",
    "# Windows users will need to follow the instructions in Slack to modify the next line\n",
    "nlp = spacy.load(r'C:\\Users\\dteng\\Anaconda\\Lib\\site-packages\\en_core_web_sm\\en_core_web_sm-2.0.0')"
   ]
  },
  {
   "cell_type": "markdown",
   "metadata": {},
   "source": [
    "# Cleaning Text Data"
   ]
  },
  {
   "cell_type": "code",
   "execution_count": 86,
   "metadata": {},
   "outputs": [],
   "source": [
    "# from https://en.wikipedia.org/wiki/Portal:History\n",
    "sentences = \"\"\"History (from Greek ἱστορία, historia, meaning \"inquiry, knowledge acquired by investigation\") is the study of the past as it is described in written documents. Events occurring before written record are considered prehistory. It is an umbrella term that relates to past events as well as the memory, discovery, collection, organization, presentation, and interpretation of information about these events. Scholars who write about history are called historians.\n",
    "\n",
    "History can also refer to the academic discipline which uses a narrative to examine and analyse a sequence of past events, and objectively determine the patterns of cause and effect that determine them. Historians sometimes debate the nature of history and its usefulness by discussing the study of the discipline as an end in itself and as a way of providing \"perspective\" on the problems of the present.\n",
    "\n",
    "Stories common to a particular culture, but not supported by external sources (such as the tales surrounding King Arthur), are usually classified as cultural heritage or legends, because they do not show the \"disinterested investigation\" required of the discipline of history. Herodotus, a 5th-century BC Greek historian is considered within the Western tradition to be the \"father of history\", and, along with his contemporary Thucydides, helped form the foundations for the modern study of human history. Their works continue to be read today, and the gap between the culture-focused Herodotus and the military-focused Thucydides remains a point of contention or approach in modern historical writing. In East Asia, a state chronicle, the Spring and Autumn Annals was known to be compiled from as early as 722 BC although only 2nd-century BC texts survived.\n",
    "\n",
    "Ancient influences have helped spawn variant interpretations of the nature of history which have evolved over the centuries and continue to change today. The modern study of history is wide-ranging, and includes the study of specific regions and the study of certain topical or thematical elements of historical investigation. Often history is taught as part of primary and secondary education, and the academic study of history is a major discipline in university studies.\"\"\""
   ]
  },
  {
   "cell_type": "markdown",
   "metadata": {},
   "source": [
    "### Section goal: calculate the frequency of each word\n",
    "- See which words are more frequent.\n",
    "- Generate more meaningful summary for the above paragraph."
   ]
  },
  {
   "cell_type": "markdown",
   "metadata": {},
   "source": [
    "## Lowering the case"
   ]
  },
  {
   "cell_type": "code",
   "execution_count": 87,
   "metadata": {},
   "outputs": [
    {
     "data": {
      "text/plain": [
       "str"
      ]
     },
     "execution_count": 87,
     "metadata": {},
     "output_type": "execute_result"
    }
   ],
   "source": [
    "type(sentences)"
   ]
  },
  {
   "cell_type": "code",
   "execution_count": 88,
   "metadata": {},
   "outputs": [
    {
     "data": {
      "text/plain": [
       "'History (from Greek ἱστορία, historia, meaning \"inquiry, knowledge acquired by investigation\") is the study of the past as it is described in written documents. Events occurring before written record are considered prehistory. It is an umbrella term that relates to past events as well as the memory, discovery, collection, organization, presentation, and interpretation of information about these events. Scholars who write about history are called historians.\\n\\nHistory can also refer to the academic discipline which uses a narrative to examine and analyse a sequence of past events, and objectively determine the patterns of cause and effect that determine them. Historians sometimes debate the nature of history and its usefulness by discussing the study of the discipline as an end in itself and as a way of providing \"perspective\" on the problems of the present.\\n\\nStories common to a particular culture, but not supported by external sources (such as the tales surrounding King Arthur), are usually classified as cultural heritage or legends, because they do not show the \"disinterested investigation\" required of the discipline of history. Herodotus, a 5th-century BC Greek historian is considered within the Western tradition to be the \"father of history\", and, along with his contemporary Thucydides, helped form the foundations for the modern study of human history. Their works continue to be read today, and the gap between the culture-focused Herodotus and the military-focused Thucydides remains a point of contention or approach in modern historical writing. In East Asia, a state chronicle, the Spring and Autumn Annals was known to be compiled from as early as 722 BC although only 2nd-century BC texts survived.\\n\\nAncient influences have helped spawn variant interpretations of the nature of history which have evolved over the centuries and continue to change today. The modern study of history is wide-ranging, and includes the study of specific regions and the study of certain topical or thematical elements of historical investigation. Often history is taught as part of primary and secondary education, and the academic study of history is a major discipline in university studies.'"
      ]
     },
     "execution_count": 88,
     "metadata": {},
     "output_type": "execute_result"
    }
   ],
   "source": [
    "sentences"
   ]
  },
  {
   "cell_type": "code",
   "execution_count": 89,
   "metadata": {},
   "outputs": [],
   "source": [
    "sent_low = sentences.lower()"
   ]
  },
  {
   "cell_type": "code",
   "execution_count": 90,
   "metadata": {},
   "outputs": [
    {
     "data": {
      "text/plain": [
       "'history (from greek ἱστορία, historia, meaning \"inquiry, knowledge acquired by investigation\") is the study of the past as it is described in written documents. events occurring before written record are considered prehistory. it is an umbrella term that relates to past events as well as the memory, discovery, collection, organization, presentation, and interpretation of information about these events. scholars who write about history are called historians.\\n\\nhistory can also refer to the academic discipline which uses a narrative to examine and analyse a sequence of past events, and objectively determine the patterns of cause and effect that determine them. historians sometimes debate the nature of history and its usefulness by discussing the study of the discipline as an end in itself and as a way of providing \"perspective\" on the problems of the present.\\n\\nstories common to a particular culture, but not supported by external sources (such as the tales surrounding king arthur), are usually classified as cultural heritage or legends, because they do not show the \"disinterested investigation\" required of the discipline of history. herodotus, a 5th-century bc greek historian is considered within the western tradition to be the \"father of history\", and, along with his contemporary thucydides, helped form the foundations for the modern study of human history. their works continue to be read today, and the gap between the culture-focused herodotus and the military-focused thucydides remains a point of contention or approach in modern historical writing. in east asia, a state chronicle, the spring and autumn annals was known to be compiled from as early as 722 bc although only 2nd-century bc texts survived.\\n\\nancient influences have helped spawn variant interpretations of the nature of history which have evolved over the centuries and continue to change today. the modern study of history is wide-ranging, and includes the study of specific regions and the study of certain topical or thematical elements of historical investigation. often history is taught as part of primary and secondary education, and the academic study of history is a major discipline in university studies.'"
      ]
     },
     "execution_count": 90,
     "metadata": {},
     "output_type": "execute_result"
    }
   ],
   "source": [
    "sent_low"
   ]
  },
  {
   "cell_type": "markdown",
   "metadata": {
    "toc-hr-collapsed": false
   },
   "source": [
    "## Removing punctuation and special characters"
   ]
  },
  {
   "cell_type": "markdown",
   "metadata": {},
   "source": [
    "#### Exclude special characters one by one"
   ]
  },
  {
   "cell_type": "code",
   "execution_count": 91,
   "metadata": {},
   "outputs": [
    {
     "data": {
      "text/plain": [
       "'history from greek ἱστορία historia meaning inquiry knowledge acquired by investigation is the study of the past as it is described in written documents events occurring before written record are considered prehistory it is an umbrella term that relates to past events as well as the memory discovery collection organization presentation and interpretation of information about these events scholars who write about history are called historians\\n\\nhistory can also refer to the academic discipline which uses a narrative to examine and analyse a sequence of past events and objectively determine the patterns of cause and effect that determine them historians sometimes debate the nature of history and its usefulness by discussing the study of the discipline as an end in itself and as a way of providing perspective on the problems of the present\\n\\nstories common to a particular culture but not supported by external sources such as the tales surrounding king arthur are usually classified as cultural heritage or legends because they do not show the disinterested investigation required of the discipline of history herodotus a 5thcentury bc greek historian is considered within the western tradition to be the father of history and along with his contemporary thucydides helped form the foundations for the modern study of human history their works continue to be read today and the gap between the culturefocused herodotus and the militaryfocused thucydides remains a point of contention or approach in modern historical writing in east asia a state chronicle the spring and autumn annals was known to be compiled from as early as 722 bc although only 2ndcentury bc texts survived\\n\\nancient influences have helped spawn variant interpretations of the nature of history which have evolved over the centuries and continue to change today the modern study of history is wideranging and includes the study of specific regions and the study of certain topical or thematical elements of historical investigation often history is taught as part of primary and secondary education and the academic study of history is a major discipline in university studies'"
      ]
     },
     "execution_count": 91,
     "metadata": {},
     "output_type": "execute_result"
    }
   ],
   "source": [
    "# from https://www.programiz.com/python-programming/examples/remove-punctuation\n",
    "punctuations = '''!()-[]{};:'\"\\,<>./?@#$%^&*_~''' # list of special characters you want to exclude\n",
    "sent_low_pnct = \"\"\n",
    "for char in sent_low:\n",
    "    if char not in punctuations:\n",
    "        sent_low_pnct = sent_low_pnct + char\n",
    "\n",
    "sent_low_pnct"
   ]
  },
  {
   "cell_type": "markdown",
   "metadata": {},
   "source": [
    "#### Alternatively, we can use regular expression to remove punctuation:\n",
    "- So we don't have to list up all possible special characters that we want to remove\n",
    "- https://docs.python.org/3.4/library/re.html\n",
    "- https://en.wikipedia.org/wiki/Regular_expression"
   ]
  },
  {
   "cell_type": "code",
   "execution_count": 92,
   "metadata": {},
   "outputs": [],
   "source": [
    "import re\n",
    "sent_low_pnct2 = re.sub(r'[^\\w\\s]', '', sent_low)"
   ]
  },
  {
   "cell_type": "code",
   "execution_count": 93,
   "metadata": {},
   "outputs": [
    {
     "data": {
      "text/plain": [
       "'history from greek ἱστορία historia meaning inquiry knowledge acquired by investigation is the study of the past as it is described in written documents events occurring before written record are considered prehistory it is an umbrella term that relates to past events as well as the memory discovery collection organization presentation and interpretation of information about these events scholars who write about history are called historians\\n\\nhistory can also refer to the academic discipline which uses a narrative to examine and analyse a sequence of past events and objectively determine the patterns of cause and effect that determine them historians sometimes debate the nature of history and its usefulness by discussing the study of the discipline as an end in itself and as a way of providing perspective on the problems of the present\\n\\nstories common to a particular culture but not supported by external sources such as the tales surrounding king arthur are usually classified as cultural heritage or legends because they do not show the disinterested investigation required of the discipline of history herodotus a 5thcentury bc greek historian is considered within the western tradition to be the father of history and along with his contemporary thucydides helped form the foundations for the modern study of human history their works continue to be read today and the gap between the culturefocused herodotus and the militaryfocused thucydides remains a point of contention or approach in modern historical writing in east asia a state chronicle the spring and autumn annals was known to be compiled from as early as 722 bc although only 2ndcentury bc texts survived\\n\\nancient influences have helped spawn variant interpretations of the nature of history which have evolved over the centuries and continue to change today the modern study of history is wideranging and includes the study of specific regions and the study of certain topical or thematical elements of historical investigation often history is taught as part of primary and secondary education and the academic study of history is a major discipline in university studies'"
      ]
     },
     "execution_count": 93,
     "metadata": {},
     "output_type": "execute_result"
    }
   ],
   "source": [
    "sent_low_pnct2"
   ]
  },
  {
   "cell_type": "markdown",
   "metadata": {},
   "source": [
    "- However, special character ```\\n``` (linebreak) still exists in both cases. Let's remove these additionally."
   ]
  },
  {
   "cell_type": "code",
   "execution_count": 94,
   "metadata": {},
   "outputs": [
    {
     "data": {
      "text/plain": [
       "'\\r\\n'"
      ]
     },
     "execution_count": 94,
     "metadata": {},
     "output_type": "execute_result"
    }
   ],
   "source": [
    "import os\n",
    "os.linesep"
   ]
  },
  {
   "cell_type": "code",
   "execution_count": 97,
   "metadata": {},
   "outputs": [
    {
     "data": {
      "text/plain": [
       "'history from greek ἱστορία historia meaning inquiry knowledge acquired by investigation is the study of the past as it is described in written documents events occurring before written record are considered prehistory it is an umbrella term that relates to past events as well as the memory discovery collection organization presentation and interpretation of information about these events scholars who write about history are called historians history can also refer to the academic discipline which uses a narrative to examine and analyse a sequence of past events and objectively determine the patterns of cause and effect that determine them historians sometimes debate the nature of history and its usefulness by discussing the study of the discipline as an end in itself and as a way of providing perspective on the problems of the present stories common to a particular culture but not supported by external sources such as the tales surrounding king arthur are usually classified as cultural heritage or legends because they do not show the disinterested investigation required of the discipline of history herodotus a 5thcentury bc greek historian is considered within the western tradition to be the father of history and along with his contemporary thucydides helped form the foundations for the modern study of human history their works continue to be read today and the gap between the culturefocused herodotus and the militaryfocused thucydides remains a point of contention or approach in modern historical writing in east asia a state chronicle the spring and autumn annals was known to be compiled from as early as 722 bc although only 2ndcentury bc texts survived ancient influences have helped spawn variant interpretations of the nature of history which have evolved over the centuries and continue to change today the modern study of history is wideranging and includes the study of specific regions and the study of certain topical or thematical elements of historical investigation often history is taught as part of primary and secondary education and the academic study of history is a major discipline in university studies'"
      ]
     },
     "execution_count": 97,
     "metadata": {},
     "output_type": "execute_result"
    }
   ],
   "source": [
    "sent_low_pnct = sent_low_pnct.replace('\\n\\n', \" \")\n",
    "sent_low_pnct"
   ]
  },
  {
   "cell_type": "markdown",
   "metadata": {},
   "source": [
    "### $\\rightarrow$ 3 possible ways to replace characters!"
   ]
  },
  {
   "cell_type": "markdown",
   "metadata": {},
   "source": [
    "### <font color='magenta'> Q6. How would you remove numbers from the paragraph? </font>"
   ]
  },
  {
   "cell_type": "code",
   "execution_count": 103,
   "metadata": {},
   "outputs": [
    {
     "data": {
      "text/plain": [
       "'history from greek ἱστορία historia meaning inquiry knowledge acquired by investigation is the study of the past as it is described in written documents events occurring before written record are considered prehistory it is an umbrella term that relates to past events as well as the memory discovery collection organization presentation and interpretation of information about these events scholars who write about history are called historians\\n\\nhistory can also refer to the academic discipline which uses a narrative to examine and analyse a sequence of past events and objectively determine the patterns of cause and effect that determine them historians sometimes debate the nature of history and its usefulness by discussing the study of the discipline as an end in itself and as a way of providing perspective on the problems of the present\\n\\nstories common to a particular culture but not supported by external sources such as the tales surrounding king arthur are usually classified as cultural heritage or legends because they do not show the disinterested investigation required of the discipline of history herodotus a  thcentury bc greek historian is considered within the western tradition to be the father of history and along with his contemporary thucydides helped form the foundations for the modern study of human history their works continue to be read today and the gap between the culturefocused herodotus and the militaryfocused thucydides remains a point of contention or approach in modern historical writing in east asia a state chronicle the spring and autumn annals was known to be compiled from as early as   bc although only  ndcentury bc texts survived\\n\\nancient influences have helped spawn variant interpretations of the nature of history which have evolved over the centuries and continue to change today the modern study of history is wideranging and includes the study of specific regions and the study of certain topical or thematical elements of historical investigation often history is taught as part of primary and secondary education and the academic study of history is a major discipline in university studies'"
      ]
     },
     "execution_count": 103,
     "metadata": {},
     "output_type": "execute_result"
    }
   ],
   "source": [
    "sent_low_pnct = re.sub(r'\\d+', ' ', sent_low_pnct2)\n",
    "sent_low_pnct"
   ]
  },
  {
   "cell_type": "markdown",
   "metadata": {},
   "source": [
    "## Removing stop words"
   ]
  },
  {
   "cell_type": "markdown",
   "metadata": {},
   "source": [
    "- Stop words usually refers to the most common words in a language\n",
    "    - No single universial stopwords\n",
    "    - Often stopwords are removed to improve the performance of NLP models\n",
    "    - https://en.wikipedia.org/wiki/Stop_words\n",
    "    - https://en.wikipedia.org/wiki/Most_common_words_in_English"
   ]
  },
  {
   "cell_type": "markdown",
   "metadata": {},
   "source": [
    "#### Import the list of stop words from ```spaCy```"
   ]
  },
  {
   "cell_type": "code",
   "execution_count": 104,
   "metadata": {},
   "outputs": [],
   "source": [
    "from spacy.lang.en.stop_words import STOP_WORDS"
   ]
  },
  {
   "cell_type": "code",
   "execution_count": 105,
   "metadata": {},
   "outputs": [
    {
     "data": {
      "text/plain": [
       "array({'as', 'per', 'say', 'again', 'hence', 'own', 'where', 'whereby', 'could', 'whole', 'nor', 'often', 'herein', 'therein', 'otherwise', 'an', 'something', 'him', 'someone', 'former', 'up', 'ourselves', 'are', 'each', 'fifty', 'than', 'twenty', 'elsewhere', 'ca', 'ours', 'became', 'is', 'go', 'first', 'another', 'several', 'to', 'during', 'amongst', 'noone', 'now', 'towards', 'you', 'or', 'please', 'together', 'even', 'back', 'nobody', 'somewhere', 'become', 'does', 'its', 'though', 'whereafter', 'what', 'becomes', 'we', 'mine', 'meanwhile', 'well', 'she', 'only', 'can', 'unless', 'rather', 'there', 'wherever', 'latter', 'because', 'call', 'some', 'onto', 'sometime', 'whereupon', 'however', 'themselves', 'into', 'ten', 'give', 'serious', 'they', 'hereby', 'namely', 'myself', 'used', 'whose', 'upon', 'without', 'quite', 'three', 'enough', 'if', 'beside', 'less', 'has', 'nevertheless', 'until', 'almost', 'seemed', 'anything', 'thru', 'behind', 'eight', 'formerly', 'top', 'from', 'any', 'neither', 'see', 'a', 'being', 'perhaps', 'seeming', 'hundred', 'twelve', 'around', 'below', 'name', 'latterly', 'too', 'cannot', 'should', 'whom', 'thence', 'why', 'am', 'through', 'next', 'last', 'least', 'those', 'further', 'various', 'were', 'move', 'how', 'down', 'since', 'in', 'whenever', 'off', 'did', 'seems', 'before', 'four', 'very', 'third', 'yourself', 'many', 'fifteen', 'always', 'by', 'never', 'their', 'within', 'beforehand', 'full', 'i', 'most', 'hers', 'anywhere', 'when', 'whence', 'more', 'although', 'same', 'just', 'them', 'whether', 'much', 'at', 'other', 'us', 'whoever', 'forty', 'regarding', 'still', 'had', 'anyone', 'nothing', 'everything', 'the', 're', 'with', 'else', 'himself', 'one', 'get', 'that', 'thereafter', 'toward', 'it', 'our', 'throughout', 'side', 'hereupon', 'front', 'indeed', 'along', 'above', 'all', 'under', 'then', 'show', 'among', 'sixty', 'mostly', 'anyway', 'who', 'seem', 'do', 'really', 'thereby', 'not', 'six', 'afterwards', 'such', 'these', 'two', 'moreover', 'he', 'herself', 'five', 'between', 'take', 'via', 'sometimes', 'every', 'been', 'against', 'after', 'beyond', 'yet', 'no', 'whereas', 'this', 'wherein', 'everyone', 'here', 'be', 'bottom', 'for', 'made', 'must', 'once', 'empty', 'out', 'thereupon', 'of', 'yourselves', 'while', 'nowhere', 'may', 'whither', 'doing', 'about', 'none', 'already', 'have', 'whatever', 'besides', 'her', 'put', 'thus', 'ever', 'part', 'alone', 'anyhow', 'but', 'somehow', 'also', 'me', 'and', 'hereafter', 'over', 'keep', 'was', 'might', 'yours', 'so', 'amount', 'make', 'which', 'itself', 'eleven', 'except', 'either', 'my', 'becoming', 'done', 'everywhere', 'across', 'will', 'would', 'on', 'his', 'your', 'using', 'due', 'both', 'others', 'therefore', 'few', 'nine'},\n",
       "      dtype=object)"
      ]
     },
     "execution_count": 105,
     "metadata": {},
     "output_type": "execute_result"
    }
   ],
   "source": [
    "np.array(STOP_WORDS)"
   ]
  },
  {
   "cell_type": "markdown",
   "metadata": {},
   "source": [
    "#### Goal: We are going to count the frequency of each word from the paragraph, to see which words can be used to represent the paragraph's content. "
   ]
  },
  {
   "cell_type": "markdown",
   "metadata": {},
   "source": [
    "#### What if we do not remove stopwords?"
   ]
  },
  {
   "cell_type": "code",
   "execution_count": 106,
   "metadata": {},
   "outputs": [],
   "source": [
    "from collections import Counter"
   ]
  },
  {
   "cell_type": "markdown",
   "metadata": {},
   "source": [
    "- Note that our paragraph is stored as a single string object..."
   ]
  },
  {
   "cell_type": "code",
   "execution_count": 107,
   "metadata": {},
   "outputs": [
    {
     "data": {
      "text/plain": [
       "'history from greek ἱστορία historia meaning inquiry knowledge acquired by investigation is the study of the past as it is described in written documents events occurring before written record are considered prehistory it is an umbrella term that relates to past events as well as the memory discovery collection organization presentation and interpretation of information about these events scholars who write about history are called historians\\n\\nhistory can also refer to the academic discipline which uses a narrative to examine and analyse a sequence of past events and objectively determine the patterns of cause and effect that determine them historians sometimes debate the nature of history and its usefulness by discussing the study of the discipline as an end in itself and as a way of providing perspective on the problems of the present\\n\\nstories common to a particular culture but not supported by external sources such as the tales surrounding king arthur are usually classified as cultural heritage or legends because they do not show the disinterested investigation required of the discipline of history herodotus a  thcentury bc greek historian is considered within the western tradition to be the father of history and along with his contemporary thucydides helped form the foundations for the modern study of human history their works continue to be read today and the gap between the culturefocused herodotus and the militaryfocused thucydides remains a point of contention or approach in modern historical writing in east asia a state chronicle the spring and autumn annals was known to be compiled from as early as   bc although only  ndcentury bc texts survived\\n\\nancient influences have helped spawn variant interpretations of the nature of history which have evolved over the centuries and continue to change today the modern study of history is wideranging and includes the study of specific regions and the study of certain topical or thematical elements of historical investigation often history is taught as part of primary and secondary education and the academic study of history is a major discipline in university studies'"
      ]
     },
     "execution_count": 107,
     "metadata": {},
     "output_type": "execute_result"
    }
   ],
   "source": [
    "sent_low_pnct"
   ]
  },
  {
   "cell_type": "markdown",
   "metadata": {},
   "source": [
    "- Split the paragraph into a list of words"
   ]
  },
  {
   "cell_type": "code",
   "execution_count": 108,
   "metadata": {},
   "outputs": [],
   "source": [
    "words = sent_low_pnct.split()"
   ]
  },
  {
   "cell_type": "markdown",
   "metadata": {},
   "source": [
    "- Count the words from the list\n",
    "- Words that can occur in any kind of paragraphs...?"
   ]
  },
  {
   "cell_type": "code",
   "execution_count": 109,
   "metadata": {},
   "outputs": [
    {
     "data": {
      "text/plain": [
       "[('the', 27),\n",
       " ('of', 21),\n",
       " ('and', 15),\n",
       " ('history', 11),\n",
       " ('as', 10),\n",
       " ('to', 8),\n",
       " ('a', 8),\n",
       " ('is', 7),\n",
       " ('study', 7),\n",
       " ('in', 5)]"
      ]
     },
     "execution_count": 109,
     "metadata": {},
     "output_type": "execute_result"
    }
   ],
   "source": [
    "Counter(words).most_common(10)"
   ]
  },
  {
   "cell_type": "code",
   "execution_count": 110,
   "metadata": {},
   "outputs": [
    {
     "data": {
      "image/png": "[encoded data removed]",
      "text/plain": [
       "<Figure size 3240x720 with 1 Axes>"
      ]
     },
     "metadata": {
      "needs_background": "light"
     },
     "output_type": "display_data"
    }
   ],
   "source": [
    "plt.figure(figsize=(45,10))\n",
    "sns.countplot(words, order=pd.Series(words).value_counts().index)\n",
    "# sns.countplot(words_nostop, order=[counted[0] for counted in Counter(words_nostop).most_common()])\n",
    "plt.xticks(rotation=90)\n",
    "plt.show()"
   ]
  },
  {
   "cell_type": "markdown",
   "metadata": {},
   "source": [
    "(double click the plot to enlarge)"
   ]
  },
  {
   "cell_type": "markdown",
   "metadata": {},
   "source": [
    "#### When we removed stopwords:"
   ]
  },
  {
   "cell_type": "code",
   "execution_count": 111,
   "metadata": {},
   "outputs": [],
   "source": [
    "# split sentence into words\n",
    "words_nostop = list()\n",
    "for word in words:\n",
    "    if word not in STOP_WORDS:\n",
    "        words_nostop.append(word)\n",
    "# words_nostop = [word for word in words if word not in STOP_WORDS]"
   ]
  },
  {
   "cell_type": "markdown",
   "metadata": {},
   "source": [
    "- More comprehensible, and unique list or words!"
   ]
  },
  {
   "cell_type": "code",
   "execution_count": 112,
   "metadata": {},
   "outputs": [
    {
     "data": {
      "text/plain": [
       "[('history', 11),\n",
       " ('study', 7),\n",
       " ('events', 4),\n",
       " ('discipline', 4),\n",
       " ('investigation', 3),\n",
       " ('past', 3),\n",
       " ('bc', 3),\n",
       " ('modern', 3),\n",
       " ('greek', 2),\n",
       " ('written', 2)]"
      ]
     },
     "execution_count": 112,
     "metadata": {},
     "output_type": "execute_result"
    }
   ],
   "source": [
    "Counter(words_nostop).most_common(10)"
   ]
  },
  {
   "cell_type": "code",
   "execution_count": 113,
   "metadata": {},
   "outputs": [
    {
     "data": {
      "image/png": "[encoded data removed]",
      "text/plain": [
       "<Figure size 3240x720 with 1 Axes>"
      ]
     },
     "metadata": {
      "needs_background": "light"
     },
     "output_type": "display_data"
    }
   ],
   "source": [
    "plt.figure(figsize=(45,10))\n",
    "sns.countplot(words_nostop, order=pd.Series(words_nostop).value_counts().index)\n",
    "# sns.countplot(words_nostop, order=[counted[0] for counted in Counter(words_nostop).most_common()])\n",
    "plt.xticks(rotation=90)\n",
    "plt.show()"
   ]
  },
  {
   "cell_type": "markdown",
   "metadata": {},
   "source": [
    "(double click the plot to enlarge)"
   ]
  },
  {
   "cell_type": "markdown",
   "metadata": {},
   "source": [
    "### <font color='magenta'> Q7. Based on the word frequency results, what was the paragraph about? </font>"
   ]
  },
  {
   "cell_type": "markdown",
   "metadata": {},
   "source": [
    "This paragraph was about the modern study of Green history during the BC era, including events, possibly written."
   ]
  },
  {
   "cell_type": "markdown",
   "metadata": {},
   "source": [
    "# Extracting linguistic features from spaCy"
   ]
  },
  {
   "cell_type": "markdown",
   "metadata": {},
   "source": [
    "## Tokenize\n",
    "- Token: a semantic unit for analysis\n",
    "    - (Loosely) equal term for word\n",
    "        - ```sent_low_pnct.split()```\n",
    "    - Tricky cases\n",
    "        - aren't $\\rightarrow$ ![](https://nlp.stanford.edu/IR-book/html/htmledition/img88.png) ![](https://nlp.stanford.edu/IR-book/html/htmledition/img89.png) ? ![](https://nlp.stanford.edu/IR-book/html/htmledition/img86.png) ?\n",
    "        - O'Neil $\\rightarrow$ ![](https://nlp.stanford.edu/IR-book/html/htmledition/img83.png) ? ![](https://nlp.stanford.edu/IR-book/html/htmledition/img84.png) ![](https://nlp.stanford.edu/IR-book/html/htmledition/img81.png) ?\n",
    "        - https://nlp.stanford.edu/IR-book/html/htmledition/tokenization-1.html\n",
    "- In ```spaCy```:\n",
    "    - Many token types, like word, puntuation symbol, whitespace, etc."
   ]
  },
  {
   "cell_type": "markdown",
   "metadata": {},
   "source": [
    "### Let's dissect the sentence!\n",
    "\n",
    "- initiating the ```spaCy``` object "
   ]
  },
  {
   "cell_type": "code",
   "execution_count": 115,
   "metadata": {},
   "outputs": [],
   "source": [
    "# examples partially taken from https://nlpforhackers.io/complete-guide-to-spacy/\n",
    "import spacy\n",
    "nlp = spacy.load(r'C:\\Users\\dteng\\Anaconda\\Lib\\site-packages\\en_core_web_sm\\en_core_web_sm-2.0.0')"
   ]
  },
  {
   "cell_type": "markdown",
   "metadata": {},
   "source": [
    "- Our sentence: \"Hello World!\"\n",
    "    - Pass the sentence string to the ```spaCy``` object ```nlp```"
   ]
  },
  {
   "cell_type": "code",
   "execution_count": 116,
   "metadata": {},
   "outputs": [],
   "source": [
    "doc = nlp(\"Hello World!\")"
   ]
  },
  {
   "cell_type": "markdown",
   "metadata": {},
   "source": [
    "- The sentence is considered as a short document."
   ]
  },
  {
   "cell_type": "code",
   "execution_count": 117,
   "metadata": {},
   "outputs": [
    {
     "name": "stdout",
     "output_type": "stream",
     "text": [
      "<class 'spacy.tokens.doc.Doc'> Hello World!\n"
     ]
    }
   ],
   "source": [
    "print(type(doc), doc)"
   ]
  },
  {
   "cell_type": "markdown",
   "metadata": {},
   "source": [
    "- As importing the sentence string above, ```spaCy``` splited the sentence into tokens (tokenization!)"
   ]
  },
  {
   "cell_type": "code",
   "execution_count": 118,
   "metadata": {},
   "outputs": [
    {
     "name": "stdout",
     "output_type": "stream",
     "text": [
      "0 Hello\n",
      "1 World\n",
      "2 !\n"
     ]
    }
   ],
   "source": [
    "for i,token in enumerate(doc):\n",
    "    print(i, token)"
   ]
  },
  {
   "cell_type": "markdown",
   "metadata": {},
   "source": [
    "- With index information (location from the sentence) of each token"
   ]
  },
  {
   "cell_type": "markdown",
   "metadata": {},
   "source": [
    "| 0 | 1 | 2 | 3 | 4 | 5 | 6 | 7 | 8 | 9 | 10| 11|\n",
    "|---|---|---|---|---|---|---|---|---|---|---|---|\n",
    "| H | e | l | l | o | _ | W | o | r | l | d | ! |"
   ]
  },
  {
   "cell_type": "code",
   "execution_count": 119,
   "metadata": {},
   "outputs": [
    {
     "name": "stdout",
     "output_type": "stream",
     "text": [
      "0 Hello 0\n",
      "1 World 6\n",
      "2 ! 11\n"
     ]
    }
   ],
   "source": [
    "for i, token in enumerate(doc):\n",
    "    print(i, token.text, token.idx) \n"
   ]
  },
  {
   "cell_type": "markdown",
   "metadata": {},
   "source": [
    "- And many more!\n",
    "    - https://spacy.io/api/token#attributes"
   ]
  },
  {
   "cell_type": "code",
   "execution_count": 120,
   "metadata": {},
   "outputs": [
    {
     "name": "stdout",
     "output_type": "stream",
     "text": [
      "text \t idx \t lemma \t lower \t is_punct \t is_space \t shape \t POS\n",
      "What\t0\twhat\twhat\tFalse\tFalse\tXxxx\tNOUN\n",
      "did\t5\tdo\tdid\tFalse\tFalse\txxx\tVERB\n",
      "you\t9\t-PRON-\tyou\tFalse\tFalse\txxx\tPRON\n",
      "do\t13\tdo\tdo\tFalse\tFalse\txx\tVERB\n",
      "during\t16\tduring\tduring\tFalse\tFalse\txxxx\tADP\n",
      "the\t23\tthe\tthe\tFalse\tFalse\txxx\tDET\n",
      "study\t27\tstudy\tstudy\tFalse\tFalse\txxxx\tNOUN\n",
      "break\t33\tbreak\tbreak\tFalse\tFalse\txxxx\tNOUN\n",
      "  \t39\t  \t  \tFalse\tTrue\t  \tSPACE\n",
      "?\t41\t?\t?\tTrue\tFalse\t?\tPUNCT\n"
     ]
    }
   ],
   "source": [
    "doc = nlp(\"What did you do during the study break   ?\")\n",
    "\n",
    "print(\"text \\t idx \\t lemma \\t lower \\t is_punct \\t is_space \\t shape \\t POS\")\n",
    "for token in doc:\n",
    "    print(\"{0}\\t{1}\\t{2}\\t{3}\\t{4}\\t{5}\\t{6}\\t{7}\".format(\n",
    "        token.text,\n",
    "        token.idx,\n",
    "        token.lemma_,\n",
    "        token.lower_,\n",
    "        token.is_punct,\n",
    "        token.is_space,\n",
    "        token.shape_,\n",
    "        token.pos_\n",
    "    ))\n"
   ]
  },
  {
   "cell_type": "markdown",
   "metadata": {},
   "source": [
    "## Sentence detection"
   ]
  },
  {
   "cell_type": "markdown",
   "metadata": {},
   "source": [
    "- For the document with multiple sentences, we would need to separate between each sentences.\n",
    "- In ```spaCy```, the job is more convinient (and would cause less mistatkes) than using regular expression"
   ]
  },
  {
   "cell_type": "markdown",
   "metadata": {},
   "source": [
    "### <font color='magenta'> Q8. How would you separate sentences? What's your intuition? </font>"
   ]
  },
  {
   "cell_type": "markdown",
   "metadata": {},
   "source": [
    "I would first try all the common punctuations; obviously this would cause issues with abbreviations that use '.'"
   ]
  },
  {
   "cell_type": "markdown",
   "metadata": {},
   "source": [
    "- Our multiple sentence document: "
   ]
  },
  {
   "cell_type": "code",
   "execution_count": 121,
   "metadata": {},
   "outputs": [],
   "source": [
    "doc_multsent = \"These are apples. Those are oranges from N.Y.C. and...? How about pineapples? Not carrots!!!\""
   ]
  },
  {
   "cell_type": "markdown",
   "metadata": {},
   "source": [
    "- in regular expression..."
   ]
  },
  {
   "cell_type": "code",
   "execution_count": 122,
   "metadata": {},
   "outputs": [
    {
     "name": "stdout",
     "output_type": "stream",
     "text": [
      "0 These are apples.\n",
      "1 Those are oranges from N.Y.C. and...?\n",
      "2 How about pineapples?\n",
      "3 Not carrots!!!\n"
     ]
    }
   ],
   "source": [
    "import re\n",
    "sentences = re.split(r\"(?<!\\w\\.\\w.)(?<![A-Z][a-z]\\.)(?<=\\.|\\?)\\s\", doc_multsent) # how would I remember this pattern without Google/StackOverflow?\n",
    "for i, sent in enumerate(sentences):\n",
    "    print(i, sent)"
   ]
  },
  {
   "cell_type": "markdown",
   "metadata": {},
   "source": [
    "- in ```spaCy```!"
   ]
  },
  {
   "cell_type": "code",
   "execution_count": 123,
   "metadata": {},
   "outputs": [],
   "source": [
    "# same document, but initiate as the spaCy object...\n",
    "doc = nlp(doc_multsent)"
   ]
  },
  {
   "cell_type": "markdown",
   "metadata": {},
   "source": [
    "- Sentences are stored as a generator object\n",
    "    - Instead of storing sentences as a list, each sentence is stored as a item in the generator object \n",
    "    - Iteratable (i.e., can be used in a for loop)\n",
    "    - More efficient memory use\n",
    "    - https://wiki.python.org/moin/Generators"
   ]
  },
  {
   "cell_type": "code",
   "execution_count": 124,
   "metadata": {},
   "outputs": [
    {
     "data": {
      "text/plain": [
       "<generator at 0x17626c7d2f0>"
      ]
     },
     "execution_count": 124,
     "metadata": {},
     "output_type": "execute_result"
    }
   ],
   "source": [
    "doc.sents"
   ]
  },
  {
   "cell_type": "markdown",
   "metadata": {},
   "source": [
    "- Prining sentences with the index number"
   ]
  },
  {
   "cell_type": "code",
   "execution_count": 125,
   "metadata": {},
   "outputs": [
    {
     "name": "stdout",
     "output_type": "stream",
     "text": [
      "0 These are apples.\n",
      "1 Those are oranges from N.Y.C.\n",
      "2 and...?\n",
      "3 How about pineapples?\n",
      "4 Not carrots!!!\n"
     ]
    }
   ],
   "source": [
    "for i, sent in enumerate(doc.sents):\n",
    "    print(i, sent)"
   ]
  },
  {
   "cell_type": "markdown",
   "metadata": {},
   "source": [
    "### <font color='magenta'> Q9. Separate sentences in the following paragraph, and print sentences with the index number. </font>"
   ]
  },
  {
   "cell_type": "code",
   "execution_count": 126,
   "metadata": {},
   "outputs": [],
   "source": [
    "# from https://en.wikipedia.org/wiki/Portal:History\n",
    "sentences = \"\"\"History (from Greek ἱστορία, historia, meaning \"inquiry, knowledge acquired by investigation\") is the study of the past as it is described in written documents. Events occurring before written record are considered prehistory. It is an umbrella term that relates to past events as well as the memory, discovery, collection, organization, presentation, and interpretation of information about these events. Scholars who write about history are called historians.\n",
    "\n",
    "History can also refer to the academic discipline which uses a narrative to examine and analyse a sequence of past events, and objectively determine the patterns of cause and effect that determine them. Historians sometimes debate the nature of history and its usefulness by discussing the study of the discipline as an end in itself and as a way of providing \"perspective\" on the problems of the present.\n",
    "\n",
    "Stories common to a particular culture, but not supported by external sources (such as the tales surrounding King Arthur), are usually classified as cultural heritage or legends, because they do not show the \"disinterested investigation\" required of the discipline of history. Herodotus, a 5th-century BC Greek historian is considered within the Western tradition to be the \"father of history\", and, along with his contemporary Thucydides, helped form the foundations for the modern study of human history. Their works continue to be read today, and the gap between the culture-focused Herodotus and the military-focused Thucydides remains a point of contention or approach in modern historical writing. In East Asia, a state chronicle, the Spring and Autumn Annals was known to be compiled from as early as 722 BC although only 2nd-century BC texts survived.\n",
    "\n",
    "Ancient influences have helped spawn variant interpretations of the nature of history which have evolved over the centuries and continue to change today. The modern study of history is wide-ranging, and includes the study of specific regions and the study of certain topical or thematical elements of historical investigation. Often history is taught as part of primary and secondary education, and the academic study of history is a major discipline in university studies.\"\"\""
   ]
  },
  {
   "cell_type": "code",
   "execution_count": 128,
   "metadata": {},
   "outputs": [
    {
     "name": "stdout",
     "output_type": "stream",
     "text": [
      "0 History (from Greek ἱστορία, historia, meaning \"inquiry, knowledge acquired by investigation\") is the study of the past as it is described in written documents.\n",
      "1 Events occurring before written record are considered prehistory.\n",
      "2 It is an umbrella term that relates to past events as well as the memory, discovery, collection, organization, presentation, and interpretation of information about these events.\n",
      "3 Scholars who write about history are called historians.\n",
      "4 History can also refer to the academic discipline which uses a narrative to examine and analyse a sequence of past events, and objectively determine the patterns of cause and effect that determine them.\n",
      "5 Historians sometimes debate the nature of history and its usefulness by discussing the study of the discipline as an end in itself and as a way of providing \"perspective\" on the problems of the present.\n",
      "6 Stories common to a particular culture, but not supported by external sources (such as the tales surrounding King Arthur), are usually classified as cultural heritage or legends, because they do not show the \"disinterested investigation\" required of the discipline of history.\n",
      "7 Herodotus, a 5th-century BC Greek historian is considered within the Western tradition to be the \"father of history\", and, along with his contemporary Thucydides, helped form the foundations for the modern study of human history.\n",
      "8 Their works continue to be read today, and the gap between the culture-focused Herodotus and the military-focused\n",
      "9 Thucydides remains a point of contention or approach in modern historical writing.\n",
      "10 In East Asia, a state chronicle, the Spring and Autumn Annals was known to be compiled from as early as 722 BC although only 2nd-century BC texts survived.\n",
      "11 Ancient influences have helped spawn variant interpretations of the nature of history which have evolved over the centuries and continue to change today.\n",
      "12 The modern study of history is wide-ranging, and includes the study of specific regions and the study of certain topical or thematical elements of historical investigation.\n",
      "13 Often history is taught as part of primary and secondary education, and the academic study of history is a major discipline in university studies.\n"
     ]
    }
   ],
   "source": [
    "doc = nlp(sentences.replace('\\n\\n', ' '))\n",
    "for i, sent in enumerate(doc.sents):\n",
    "    print(i, sent)"
   ]
  },
  {
   "cell_type": "markdown",
   "metadata": {},
   "source": [
    "## POS tagging"
   ]
  },
  {
   "cell_type": "markdown",
   "metadata": {},
   "source": [
    "- I want to find words with particular part-of-speech!\n",
    "- Different part-of-speech words carry different information\n",
    "    - e.g., noun (subject), verb (action term), adjective (quality of the object) \n",
    "- https://spacy.io/api/annotation#pos-tagging"
   ]
  },
  {
   "cell_type": "markdown",
   "metadata": {},
   "source": [
    "- Yelp review!"
   ]
  },
  {
   "cell_type": "code",
   "execution_count": 129,
   "metadata": {},
   "outputs": [],
   "source": [
    "# from https://www.yelp.com/biz/ajishin-novi?hrid=juA4Zn2TX7845vNFn4syBQ&utm_campaign=www_review_share_popup&utm_medium=copy_link&utm_source=(direct)\n",
    "doc = nlp(\"\"\"One of the best Japanese restaurants in Novi. Simple food, great taste, amazingly price. I visit this place a least twice month.\"\"\")"
   ]
  },
  {
   "cell_type": "markdown",
   "metadata": {},
   "source": [
    "### <font color='magenta'> Q10a. What can you infer from this review? </font>\n",
    "- What type of the restaurant?\n",
    "- Location?\n",
    "- What did the reviewer liked about?\n",
    "- How often did the person visit the place?\n",
    "- Any other information?"
   ]
  },
  {
   "cell_type": "markdown",
   "metadata": {},
   "source": [
    "Restaurant is a Japanese restaurant.\n",
    "\n",
    "Located in Novi.\n",
    "\n",
    "Food is simple, tastes great, and is fairly priced.\n",
    "\n",
    "Reviewers visits about twice a month."
   ]
  },
  {
   "cell_type": "markdown",
   "metadata": {},
   "source": [
    "- multiple sentences exist in a document"
   ]
  },
  {
   "cell_type": "code",
   "execution_count": 130,
   "metadata": {},
   "outputs": [
    {
     "name": "stdout",
     "output_type": "stream",
     "text": [
      "0 One of the best Japanese restaurants in Novi.\n",
      "1 Simple food, great taste, amazingly price.\n",
      "2 I visit this place a least twice month.\n"
     ]
    }
   ],
   "source": [
    "for i, sent in enumerate(doc.sents):\n",
    "    print(i, sent)"
   ]
  },
  {
   "cell_type": "markdown",
   "metadata": {},
   "source": [
    "- Question: which words are adjective (ADJ)?"
   ]
  },
  {
   "cell_type": "code",
   "execution_count": 131,
   "metadata": {},
   "outputs": [
    {
     "name": "stdout",
     "output_type": "stream",
     "text": [
      "__sentence__: 0\n",
      "_token_ \t _POS_\n",
      "One \t NUM\n",
      "of \t ADP\n",
      "the \t DET\n",
      "best \t ADJ\n",
      "Japanese \t ADJ\n",
      "restaurants \t NOUN\n",
      "in \t ADP\n",
      "Novi \t PROPN\n",
      ". \t PUNCT\n",
      "__sentence__: 1\n",
      "_token_ \t _POS_\n",
      "Simple \t ADJ\n",
      "food \t NOUN\n",
      ", \t PUNCT\n",
      "great \t ADJ\n",
      "taste \t NOUN\n",
      ", \t PUNCT\n",
      "amazingly \t ADV\n",
      "price \t NOUN\n",
      ". \t PUNCT\n",
      "__sentence__: 2\n",
      "_token_ \t _POS_\n",
      "I \t PRON\n",
      "visit \t VERB\n",
      "this \t DET\n",
      "place \t NOUN\n",
      "a \t DET\n",
      "least \t ADJ\n",
      "twice \t ADJ\n",
      "month \t NOUN\n",
      ". \t PUNCT\n"
     ]
    }
   ],
   "source": [
    "for i, sent in enumerate(doc.sents):\n",
    "    print(\"__sentence__:\", i)\n",
    "    print(\"_token_ \\t _POS_\")\n",
    "    for token in sent:\n",
    "        print(token.text, \"\\t\", token.pos_)"
   ]
  },
  {
   "cell_type": "markdown",
   "metadata": {},
   "source": [
    "## Gramatical dependency\n",
    "- Words are gramatically related in a sentence.\n",
    "- Conveys much semantic information about the sentential context."
   ]
  },
  {
   "cell_type": "markdown",
   "metadata": {},
   "source": [
    "- And dependency relationships also can be extracted as string"
   ]
  },
  {
   "cell_type": "code",
   "execution_count": 132,
   "metadata": {},
   "outputs": [
    {
     "name": "stdout",
     "output_type": "stream",
     "text": [
      "\"One\",  NUM [] ROOT\n",
      "\"of\",  ADP [One] prep\n",
      "\"the\",  DET [restaurants, of, One] det\n",
      "\"best\",  ADJ [restaurants, of, One] amod\n",
      "\"Japanese\",  ADJ [restaurants, of, One] amod\n",
      "\"restaurants\",  NOUN [of, One] pobj\n",
      "\"in\",  ADP [restaurants, of, One] prep\n",
      "\"Novi\",  PROPN [in, restaurants, of, One] pobj\n",
      "\".\",  PUNCT [One] punct\n",
      "\"Simple\",  ADJ [food] amod\n",
      "\"food\",  NOUN [] ROOT\n",
      "\",\",  PUNCT [food] punct\n",
      "\"great\",  ADJ [taste, food] amod\n",
      "\"taste\",  NOUN [food] conj\n",
      "\",\",  PUNCT [taste, food] punct\n",
      "\"amazingly\",  ADV [price, taste, food] compound\n",
      "\"price\",  NOUN [taste, food] appos\n",
      "\".\",  PUNCT [food] punct\n",
      "\"I\",  PRON [visit] nsubj\n",
      "\"visit\",  VERB [] ROOT\n",
      "\"this\",  DET [place, visit] det\n",
      "\"place\",  NOUN [visit] dobj\n",
      "\"a\",  DET [month, visit] det\n",
      "\"least\",  ADJ [twice, month, visit] amod\n",
      "\"twice\",  ADJ [month, visit] nummod\n",
      "\"month\",  NOUN [visit] npadvmod\n",
      "\".\",  PUNCT [visit] punct\n"
     ]
    }
   ],
   "source": [
    "for token in doc:\n",
    "    print('\"' + token.text + '\", ', token.pos_, list(token.ancestors), (token.dep_))"
   ]
  },
  {
   "cell_type": "markdown",
   "metadata": {},
   "source": [
    "```spaCy``` follows the ```ClearNLP``` annotations for dependency parsing\n",
    "- https://github.com/clir/clearnlp-guidelines/blob/master/md/specifications/dependency_labels.md"
   ]
  },
  {
   "cell_type": "markdown",
   "metadata": {},
   "source": [
    "### <font color='magenta'> Q10b: (Now answer the same question based on the POS/dependency parsing results) What can you infer from this review? </font>\n",
    "- What type of the restaurant?\n",
    "- Location?\n",
    "- What did the reviewer liked about?\n",
    "- How often did the person visit the place?\n",
    "- Any other information?"
   ]
  },
  {
   "cell_type": "markdown",
   "metadata": {},
   "source": [
    "Restaurant is one of the best Japanese restaurants.\n",
    "\n",
    "Located in Novi.\n",
    "\n",
    "Food is simple, tastes great, and is fairly priced.\n",
    "\n",
    "Reviewers visits at least twice a month."
   ]
  },
  {
   "cell_type": "markdown",
   "metadata": {},
   "source": [
    "# Word embedding"
   ]
  },
  {
   "cell_type": "markdown",
   "metadata": {},
   "source": [
    "- So far, we seen how we can extract some interesting syntactic characteristics from text from using ```spacy```\n",
    "- It extracted the characteristics, but did not indicate what it means\n",
    "- Can machines understand semantic relationship between words?"
   ]
  },
  {
   "cell_type": "markdown",
   "metadata": {},
   "source": [
    "- Distributional semantics\n",
    "    - Representing semantic information of words in a geometric semantic space\n",
    "        - Different relationship between words: explained by geometric relationship between words \n",
    "        - e.g., Related words are located closer to each other; \n",
    "    - And it's often called as *word embedding*"
   ]
  },
  {
   "cell_type": "markdown",
   "metadata": {},
   "source": [
    "#### Word2Vec\n",
    "- Developed by [Mikolov et al., 2013](https://papers.nips.cc/paper/5021-distributed-representations-of-words-and-phrases-and-their-compositionality.pdf)\n",
    "- Represent the meaning of the words as a vector\n",
    "    - Vector: numeric array\n",
    "    - Output of a neural network model that predicts the next word\n",
    "- Surprisingly, many different semantic informations can be represented from word vectors of ```Word2Vec```\n",
    "- (More explanation in here: https://www.tensorflow.org/tutorials/representation/word2vec)"
   ]
  },
  {
   "cell_type": "markdown",
   "metadata": {},
   "source": [
    "<img src=\"https://www.tensorflow.org/images/softmax-nplm.png\" width=\"400\">"
   ]
  },
  {
   "cell_type": "markdown",
   "metadata": {},
   "source": [
    "![](https://www.tensorflow.org/images/linear-relationships.png)"
   ]
  },
  {
   "cell_type": "markdown",
   "metadata": {},
   "source": [
    "### Let's try with some example: words in a semantic space\n",
    "$\\rightarrow$ https://projector.tensorflow.org"
   ]
  },
  {
   "cell_type": "markdown",
   "metadata": {},
   "source": [
    "### <font color='magenta'> Q11. Record any interesting findings from TensorFlow Projector page</font>"
   ]
  },
  {
   "cell_type": "markdown",
   "metadata": {},
   "source": [
    "Unpaved is located far outside the cluster. Relationally, unpaved is related to transportation, mainly airports. Suprisingly, it is also related to waterways and harbors."
   ]
  },
  {
   "cell_type": "markdown",
   "metadata": {},
   "source": [
    "## OK. Let's try some more details in our local machines!\n",
    "- Download the [pretrained model](https://drive.google.com/open?id=10GXpuviDJVa-k8ZmiYX3BVABNDRaA6tg) and place it in the same folder as this notebook\n",
    "- We are using [gensim](https://radimrehurek.com/gensim/) package this time"
   ]
  },
  {
   "cell_type": "code",
   "execution_count": null,
   "metadata": {},
   "outputs": [],
   "source": [
    "# ! conda install -y gensim"
   ]
  },
  {
   "cell_type": "code",
   "execution_count": 136,
   "metadata": {},
   "outputs": [],
   "source": [
    "import gensim"
   ]
  },
  {
   "cell_type": "code",
   "execution_count": 137,
   "metadata": {},
   "outputs": [],
   "source": [
    "# from https://github.com/eyaler/word2vec-slim\n",
    "w2v_mod = gensim.models.KeyedVectors.load_word2vec_format(\"GoogleNews-vectors-negative300-SLIM.bin\", binary=True)"
   ]
  },
  {
   "cell_type": "markdown",
   "metadata": {},
   "source": [
    "## Calculating similarity between words"
   ]
  },
  {
   "cell_type": "markdown",
   "metadata": {},
   "source": [
    "- Q: What's similarity between *school* and *student*?"
   ]
  },
  {
   "cell_type": "markdown",
   "metadata": {},
   "source": [
    "- the word vector for *school* looks like this:"
   ]
  },
  {
   "cell_type": "code",
   "execution_count": 138,
   "metadata": {},
   "outputs": [
    {
     "data": {
      "text/plain": [
       "array([ 3.70471478e-02,  1.14410305e-02,  1.49575379e-02,  8.87546614e-02,\n",
       "        3.96226160e-02, -2.67452672e-02,  6.33961856e-02, -1.90188568e-02,\n",
       "       -1.89445645e-03, -3.68490331e-02,  1.01037674e-01,  1.85235739e-02,\n",
       "        2.69433800e-02, -4.00188453e-02, -4.29905392e-02,  4.31886539e-02,\n",
       "       -8.12263638e-02,  5.72051527e-03,  5.54716662e-02, -3.56603563e-02,\n",
       "        8.32074955e-02,  6.93395808e-02,  4.72994987e-03,  6.97358102e-02,\n",
       "        1.96874887e-03, -1.41848966e-01,  9.22464067e-04,  7.48867467e-02,\n",
       "        4.85377051e-02, -1.02028241e-02,  4.14056368e-02, -4.33867648e-02,\n",
       "        1.62452739e-02,  3.04598873e-03, -6.61697686e-02, -6.06226064e-02,\n",
       "        9.27169248e-02, -2.04056483e-02,  1.88207440e-02,  5.07169515e-02,\n",
       "        5.29952534e-03,  5.19056283e-02,  4.47735563e-02, -2.05047056e-02,\n",
       "        1.39669729e-02,  5.86414747e-02,  6.97358102e-02, -1.12924464e-02,\n",
       "       -4.49716710e-02,  9.31131542e-02, -4.75471430e-02, -4.95282710e-02,\n",
       "       -1.44251098e-03, -4.61603515e-02,  8.59810784e-02, -8.47924054e-02,\n",
       "       -4.23962027e-02,  1.78301781e-02, -5.00235567e-03, -6.45848662e-02,\n",
       "       -3.58584709e-02, -1.62452739e-02,  4.31886539e-02, -2.06037611e-02,\n",
       "        3.14999819e-02,  5.94339259e-02, -7.01320320e-02,  8.39999467e-02,\n",
       "        8.96461774e-03,  1.64433867e-02, -7.44905248e-02,  4.91320454e-02,\n",
       "        3.52641307e-02,  1.49575379e-02, -4.51697856e-02,  1.44226328e-01,\n",
       "        1.16490498e-01,  1.29392615e-03,  7.01320320e-02,  6.41886443e-02,\n",
       "        2.02075355e-02, -6.77546784e-02, -6.10188320e-02,  8.43961760e-02,\n",
       "        2.23867781e-02,  1.60471611e-02,  1.50565952e-02,  9.62829590e-02,\n",
       "        6.73584491e-02, -1.14905592e-02, -7.37971254e-03, -7.68678784e-02,\n",
       "       -5.54716634e-03, -6.22075088e-02, -7.23112794e-03,  3.82358246e-02,\n",
       "        6.45848662e-02,  2.57547013e-02, -2.53584757e-02,  2.91226245e-02,\n",
       "       -1.94150824e-02, -5.42334560e-03, -5.62641174e-02,  2.48631928e-02,\n",
       "       -8.83584395e-02, -3.38773392e-02,  5.24999667e-03,  2.25848928e-02,\n",
       "       -8.81603267e-03, -8.43961760e-02, -9.35093760e-02,  6.89433515e-02,\n",
       "       -1.36698028e-02, -1.83254611e-02,  6.69622272e-02, -1.02152058e-04,\n",
       "        2.71414928e-02, -2.02075355e-02, -5.74527942e-02, -6.57735467e-02,\n",
       "       -4.55660112e-02, -6.16627000e-03,  1.00542391e-02, -8.81603267e-03,\n",
       "       -2.41697971e-02, -1.83254611e-02, -3.34811136e-02, -5.50754406e-02,\n",
       "        1.24439783e-03,  3.32829989e-02,  3.68490331e-02, -1.44226328e-01,\n",
       "       -7.88490102e-02, -4.14056368e-02, -5.38867600e-02, -1.21344263e-02,\n",
       "        1.10448049e-02, -4.23215215e-06, -1.12924464e-02,  2.85282843e-02,\n",
       "       -1.44226328e-01, -1.44226328e-01,  5.26980832e-02,  1.85731018e-03,\n",
       "       -1.05990507e-02,  8.71697590e-02, -3.92263904e-02, -3.86320539e-02,\n",
       "       -9.01414547e-03,  1.92695938e-04,  1.64037645e-01, -7.21131638e-02,\n",
       "       -3.66509221e-02,  6.06226064e-02, -8.36037248e-02, -5.23018539e-02,\n",
       "        1.03811257e-01, -9.70754102e-02,  4.35848795e-02, -2.95188501e-02,\n",
       "       -9.23207030e-02,  4.61603515e-02,  8.28112736e-02,  7.92452320e-02,\n",
       "       -3.14999819e-02,  4.68042167e-03, -1.24811241e-02, -8.51886272e-02,\n",
       "        2.48631928e-02,  2.13962141e-02, -8.83584395e-02,  1.59481037e-02,\n",
       "        6.43867534e-03, -1.06981069e-01,  6.83490140e-03,  2.65471544e-02,\n",
       "        6.98348647e-03,  4.97263856e-02,  4.23466740e-03,  1.00245222e-01,\n",
       "       -1.28773507e-03,  2.35754568e-02,  6.93395827e-03,  1.98113080e-02,\n",
       "        3.44716758e-02,  5.20046847e-03, -3.48679051e-02, -2.55565885e-02,\n",
       "        9.15282443e-02,  3.74433734e-02,  2.95188501e-02, -3.66509221e-02,\n",
       "       -8.81603267e-03,  7.25093931e-02, -1.08565971e-01, -3.32829989e-02,\n",
       "        4.67546880e-02, -7.60754272e-02, -2.98407837e-03, -7.92452320e-03,\n",
       "       -4.29905392e-02, -8.91508907e-03,  8.67735296e-02, -1.14905588e-01,\n",
       "       -2.73396056e-02, -1.18867852e-01,  7.08254287e-03, -1.03018805e-01,\n",
       "       -2.03065909e-02, -5.78861684e-04,  3.62546965e-02, -6.14150576e-02,\n",
       "        7.21131638e-02, -1.45018786e-01, -1.32339537e-01,  1.31547093e-01,\n",
       "       -4.12075222e-02,  2.41697971e-02, -5.50754406e-02, -5.82452491e-02,\n",
       "       -5.05188368e-02, -3.74433734e-02,  1.01532955e-02,  5.94339259e-02,\n",
       "        4.99244966e-02,  1.10943327e-02, -1.04603708e-01,  4.59622368e-02,\n",
       "        3.11037544e-02, -1.49575379e-02,  8.43961760e-02,  3.20943221e-02,\n",
       "        2.02075355e-02,  6.53773174e-02,  8.61791894e-03,  3.40754502e-02,\n",
       "        3.68985627e-03, -7.84527808e-02,  6.58726040e-03, -1.19858421e-02,\n",
       "        2.85282843e-02, -2.14952696e-02,  9.35093760e-02, -3.54622416e-02,\n",
       "       -1.10943332e-01, -4.71509136e-02, -6.65659979e-02, -2.67452672e-02,\n",
       "        6.63678860e-03, -2.48879567e-03,  1.29764071e-02,  3.96226160e-02,\n",
       "        5.62641174e-02,  5.78490235e-02, -3.54622416e-02, -1.08565971e-01,\n",
       "        4.69528027e-02, -1.05495220e-02,  7.82546680e-03,  1.02226354e-01,\n",
       "        1.86226312e-02,  5.66603430e-02, -1.00245222e-01, -3.74433734e-02,\n",
       "        3.88301648e-02, -2.27830056e-02,  1.47594251e-02,  2.69433800e-02,\n",
       "       -1.89197995e-02,  2.42688525e-02,  4.12075222e-02, -1.90188568e-02,\n",
       "        3.68490331e-02,  8.47924054e-02, -3.16980928e-02, -1.02226354e-01,\n",
       "        1.24415018e-01, -1.27584830e-01, -2.46650800e-02, -1.25999928e-01,\n",
       "       -4.75471430e-02, -2.05047056e-02, -5.54716662e-02,  1.02226354e-01,\n",
       "       -7.76603296e-02, -1.98113092e-04, -3.78395990e-02,  7.96414614e-02,\n",
       "        6.14150576e-02,  1.21245213e-01, -4.37829942e-02, -9.70754120e-03,\n",
       "       -5.98301515e-02, -2.71414928e-02,  4.25943136e-02, -2.32782885e-02,\n",
       "       -4.29905392e-02, -5.07664774e-03,  3.68490331e-02,  4.87358198e-02],\n",
       "      dtype=float32)"
      ]
     },
     "execution_count": 138,
     "metadata": {},
     "output_type": "execute_result"
    }
   ],
   "source": [
    "w2v_mod['school']"
   ]
  },
  {
   "cell_type": "code",
   "execution_count": 139,
   "metadata": {},
   "outputs": [
    {
     "data": {
      "text/plain": [
       "300"
      ]
     },
     "execution_count": 139,
     "metadata": {},
     "output_type": "execute_result"
    }
   ],
   "source": [
    "len(w2v_mod['school'])"
   ]
  },
  {
   "cell_type": "markdown",
   "metadata": {},
   "source": [
    "- and the word vector for *student* looks like this:"
   ]
  },
  {
   "cell_type": "code",
   "execution_count": 140,
   "metadata": {},
   "outputs": [
    {
     "data": {
      "text/plain": [
       "array([ 0.01336551,  0.00730235,  0.08037006,  0.05629445,  0.06479172,\n",
       "        0.01141821,  0.11400511, -0.01221483,  0.0559404 , -0.1359564 ,\n",
       "        0.01849928, -0.04779717, -0.04337151, -0.05027555, -0.0073466 ,\n",
       "        0.00477972, -0.02442967, -0.02389859, -0.00907261, -0.05098365,\n",
       "        0.00783343,  0.06302146, -0.00064449, -0.03328099, -0.03540531,\n",
       "       -0.17844278, -0.04956744, -0.002069  ,  0.06160524,  0.0366445 ,\n",
       "        0.03416613, -0.03983098, -0.03080262,  0.01964995, -0.02372156,\n",
       "       -0.00610742,  0.04071611,  0.0506296 , -0.03009452,  0.08072411,\n",
       "       -0.08638897,  0.0426634 , -0.01672901,  0.03115668,  0.0619593 ,\n",
       "       -0.02496075,  0.01451618, -0.03752963,  0.05771066,  0.0179682 ,\n",
       "       -0.03947692, -0.05452418,  0.0054657 , -0.01964995,  0.0906376 ,\n",
       "       -0.03452018, -0.04284043,  0.04036206,  0.07435116, -0.03629045,\n",
       "        0.00610742, -0.03452018, -0.00111748, -0.00489036,  0.03363505,\n",
       "       -0.0306256 ,  0.03080262, -0.02009252,  0.05735661,  0.03823774,\n",
       "       -0.08391059,  0.02991749,  0.00533293, -0.07718358, -0.06479172,\n",
       "        0.1586158 ,  0.05275392, -0.00624019,  0.03115668, -0.00068874,\n",
       "        0.00982497, -0.04921339, -0.00654998,  0.07470521, -0.06160524,\n",
       "        0.00986923, -0.04567285,  0.11117268, -0.01106416,  0.09028355,\n",
       "       -0.04089314, -0.13454019, -0.0559404 , -0.06018903, -0.04301745,\n",
       "        0.02673101,  0.06514578,  0.09559435, -0.0089841 , -0.073289  ,\n",
       "        0.01301145, -0.03823774, -0.03274991, -0.13949694, -0.03469721,\n",
       "       -0.02044657, -0.05239986, -0.06018903,  0.08674302, -0.08497275,\n",
       "       -0.13808072, -0.05912687,  0.03611342,  0.00385033,  0.02991749,\n",
       "       -0.04071611, -0.02903236, -0.01079862,  0.05417013,  0.06337551,\n",
       "        0.02478372,  0.02708506, -0.01787968, -0.05098365,  0.0007247 ,\n",
       "        0.02903236,  0.03770666,  0.00924964,  0.0279702 ,  0.09205382,\n",
       "       -0.01885333, -0.10834026, -0.04744312, -0.03646747, -0.07541332,\n",
       "       -0.04160124,  0.04779717,  0.01761414, -0.12533481,  0.01363105,\n",
       "       -0.12958345, -0.07647548, -0.03310397,  0.02407561, -0.00893984,\n",
       "        0.08568086, -0.0179682 ,  0.10904837,  0.05417013,  0.01646347,\n",
       "        0.14870232,  0.01110842, -0.02071211,  0.01637496, -0.01318848,\n",
       "       -0.07576737,  0.03876882, -0.07116468,  0.05558634,  0.01513577,\n",
       "       -0.10550784,  0.00508951,  0.04372556,  0.08497275, -0.01708306,\n",
       "        0.06727009,  0.06443767, -0.05841877,  0.04708907, -0.01141821,\n",
       "       -0.01708306, -0.01088713,  0.02584588, -0.05771066,  0.0366445 ,\n",
       "        0.01699455,  0.06372956, -0.00042044, -0.01203781,  0.05523229,\n",
       "        0.04390259, -0.05239986,  0.05523229, -0.05983498,  0.0619593 ,\n",
       "        0.02088914,  0.02195129,  0.00564272,  0.00955943, -0.04638096,\n",
       "        0.05275392, -0.01283443, -0.02478372,  0.16074012, -0.15932392,\n",
       "       -0.03292694,  0.06089714, -0.07505926,  0.01128544, -0.01363105,\n",
       "       -0.0619593 ,  0.07718358,  0.03575937, -0.08072411, -0.0846187 ,\n",
       "       -0.12958345, -0.01128544, -0.06125119, -0.03292694, -0.05487823,\n",
       "        0.07789169, -0.04390259,  0.08886734, -0.1352483 , -0.09488624,\n",
       "        0.04372556, -0.03505126,  0.00955943, -0.02832425, -0.01947292,\n",
       "       -0.00482397, -0.10338352,  0.01726009, -0.01602091,  0.02885533,\n",
       "        0.08638897,  0.00840876, -0.02159724,  0.06727009, -0.01504726,\n",
       "        0.07647548,  0.04815122, -0.00242305,  0.06018903, -0.02903236,\n",
       "       -0.04390259,  0.01079862, -0.02460669, -0.00241199,  0.11046458,\n",
       "        0.14162125, -0.05523229, -0.02920938,  0.01469321, -0.04815122,\n",
       "       -0.02637696, -0.11683753,  0.00588613, -0.06833225,  0.06408362,\n",
       "       -0.01557834,  0.00435928,  0.01858779,  0.06018903, -0.03983098,\n",
       "       -0.07789169,  0.01593239,  0.04407962, -0.01911887,  0.05912687,\n",
       "        0.0226594 ,  0.00832025, -0.06762415, -0.11400511, -0.00433715,\n",
       "        0.00840876, -0.0066385 ,  0.06939442, -0.07435116, -0.00272178,\n",
       "        0.03593639, -0.03416613,  0.02257089,  0.08001601, -0.05700256,\n",
       "       -0.0619593 ,  0.00615167, -0.10621594, -0.02655398, -0.06833225,\n",
       "        0.00294307, -0.01787968, -0.04089314,  0.06974847, -0.04779717,\n",
       "        0.03788368, -0.06549983,  0.04301745,  0.1246267 ,  0.08851328,\n",
       "       -0.05487823, -0.04602691, -0.073289  , -0.03328099,  0.02097765,\n",
       "        0.06231335,  0.01389659,  0.04160124,  0.03558234,  0.0313337 ],\n",
       "      dtype=float32)"
      ]
     },
     "execution_count": 140,
     "metadata": {},
     "output_type": "execute_result"
    }
   ],
   "source": [
    "w2v_mod['student']"
   ]
  },
  {
   "cell_type": "markdown",
   "metadata": {},
   "source": [
    "- the similarity between two word vectors is:"
   ]
  },
  {
   "cell_type": "code",
   "execution_count": 141,
   "metadata": {},
   "outputs": [
    {
     "data": {
      "text/plain": [
       "0.605562749213432"
      ]
     },
     "execution_count": 141,
     "metadata": {},
     "output_type": "execute_result"
    }
   ],
   "source": [
    "w2v_mod.similarity('school', 'student')"
   ]
  },
  {
   "cell_type": "markdown",
   "metadata": {},
   "source": [
    "### Methods for measuring similarity"
   ]
  },
  {
   "cell_type": "markdown",
   "metadata": {},
   "source": [
    "<table>\n",
    "<tr>\n",
    "    <td><img src=\"https://nickgrattan.files.wordpress.com/2014/06/screenhunter_76-jun-10-08-36.jpg\" width=\"400\"></td>\n",
    "    <td><img src=\"https://nickgrattan.files.wordpress.com/2014/06/screenhunter_77-jun-10-08-36.jpg\" width=\"400\"></td>\n",
    "    <td><img src=\"https://nickgrattan.files.wordpress.com/2014/06/screenhunter_77-jun-10-08-37.jpg\" width=\"400\"></td>\n",
    "</tr>\n",
    "</table>"
   ]
  },
  {
   "cell_type": "markdown",
   "metadata": {},
   "source": [
    "- Euclidean distance\n",
    "    - The most common use of distance\n",
    "    - $ \\sqrt{(x_1 - x_2)^2 + (y_1 - y_2)^2} $"
   ]
  },
  {
   "cell_type": "code",
   "execution_count": 142,
   "metadata": {},
   "outputs": [
    {
     "data": {
      "text/plain": [
       "7.615773105863909"
      ]
     },
     "execution_count": 142,
     "metadata": {},
     "output_type": "execute_result"
    }
   ],
   "source": [
    "# (images from https://nickgrattan.wordpress.com/2014/06/10/euclidean-manhattan-and-cosine-distance-measures-in-c/)\n",
    "np.sqrt(np.power((12-5), 2) + np.power((14-11), 2))"
   ]
  },
  {
   "cell_type": "markdown",
   "metadata": {},
   "source": [
    "- Manhattan distance\n",
    "    - Distance = the sum of differences in the grid\n",
    "    - $|x_1 - x_2| + |y_1 - y_2|$"
   ]
  },
  {
   "cell_type": "code",
   "execution_count": 143,
   "metadata": {},
   "outputs": [
    {
     "data": {
      "text/plain": [
       "10"
      ]
     },
     "execution_count": 143,
     "metadata": {},
     "output_type": "execute_result"
    }
   ],
   "source": [
    "np.abs(12-5) + np.abs(14-11)"
   ]
  },
  {
   "cell_type": "markdown",
   "metadata": {},
   "source": [
    "- Cosine similarity \n",
    "    - Often used to measure similarity between vectors\n",
    "    - $cos(\\theta) = \\frac{\\sum_{i=1}^{n} A_i B_i }{\\sqrt{\\sum_{i=1}^{n} A_i^2 } \\sqrt{\\sum_{i=1}^{n} B_i^2 }}$ \n",
    "    - https://en.wikipedia.org/wiki/Cosine_similarity"
   ]
  },
  {
   "cell_type": "code",
   "execution_count": 144,
   "metadata": {},
   "outputs": [
    {
     "data": {
      "text/plain": [
       "0.9605011450474118"
      ]
     },
     "execution_count": 144,
     "metadata": {},
     "output_type": "execute_result"
    }
   ],
   "source": [
    "a = np.array([12, 14])\n",
    "b = np.array([5, 11])\n",
    "a.dot(b) / (np.sqrt(np.sum(np.power(a, 2))) * np.sqrt(np.sum(np.power(b, 2))))"
   ]
  },
  {
   "cell_type": "code",
   "execution_count": 145,
   "metadata": {},
   "outputs": [],
   "source": [
    "# (image from http://blog.christianperone.com/2013/09/machine-learning-cosine-similarity-for-vector-space-models-part-iii/)"
   ]
  },
  {
   "cell_type": "markdown",
   "metadata": {},
   "source": [
    "![](http://blog.christianperone.com/wp-content/uploads/2013/09/cosinesimilarityfq1.png)"
   ]
  },
  {
   "cell_type": "markdown",
   "metadata": {},
   "source": [
    "- Cosine simiarity can go from -1 to 1\n",
    "- But usually, we deal with 0 to 1 scores for comparing words in ```Word2Vec```"
   ]
  },
  {
   "cell_type": "markdown",
   "metadata": {},
   "source": [
    "### <font color='magenta'> Q12a. What's the cosine similarity between *school* and *tiger*? </font>\n",
    "- How would you interprete the results?"
   ]
  },
  {
   "cell_type": "markdown",
   "metadata": {},
   "source": [
    "There is a very low similarity between *school* and *tiger*"
   ]
  },
  {
   "cell_type": "code",
   "execution_count": 146,
   "metadata": {},
   "outputs": [
    {
     "data": {
      "text/plain": [
       "0.08660267014184596"
      ]
     },
     "execution_count": 146,
     "metadata": {},
     "output_type": "execute_result"
    }
   ],
   "source": [
    "w2v_mod.similarity('school', 'tiger')"
   ]
  },
  {
   "cell_type": "markdown",
   "metadata": {},
   "source": [
    "### <font color='magenta'> Q12b. Try some other words. Any other interesting findings? </font>\n",
    "- Give 3 more examples.\n",
    "- How would you interprete the results?"
   ]
  },
  {
   "cell_type": "code",
   "execution_count": 148,
   "metadata": {},
   "outputs": [
    {
     "data": {
      "text/plain": [
       "0.22717671979550713"
      ]
     },
     "execution_count": 148,
     "metadata": {},
     "output_type": "execute_result"
    }
   ],
   "source": [
    "w2v_mod.similarity('water', 'fire')"
   ]
  },
  {
   "cell_type": "code",
   "execution_count": 152,
   "metadata": {},
   "outputs": [
    {
     "data": {
      "text/plain": [
       "0.18207292619824916"
      ]
     },
     "execution_count": 152,
     "metadata": {},
     "output_type": "execute_result"
    }
   ],
   "source": [
    "w2v_mod.similarity('life', 'oxygen')"
   ]
  },
  {
   "cell_type": "code",
   "execution_count": 153,
   "metadata": {},
   "outputs": [
    {
     "data": {
      "text/plain": [
       "0.1429403975479494"
      ]
     },
     "execution_count": 153,
     "metadata": {},
     "output_type": "execute_result"
    }
   ],
   "source": [
    "w2v_mod.similarity('college', 'stress')"
   ]
  },
  {
   "cell_type": "markdown",
   "metadata": {},
   "source": [
    "The third is a lie; there is obviously a conspiracy in the linguistics field. School and stress should have a correlation of 1.\n",
    "\n",
    "It is also very interesting that life and oxygen have a lower correlation than water and fire."
   ]
  },
  {
   "cell_type": "markdown",
   "metadata": {},
   "source": [
    "## Analogy from word vectors"
   ]
  },
  {
   "cell_type": "markdown",
   "metadata": {},
   "source": [
    "<img src=\"https://www.tensorflow.org/images/linear-relationships.png\" width=\"800\">"
   ]
  },
  {
   "cell_type": "markdown",
   "metadata": {},
   "source": [
    "#### Can we approximate the relationship between words by doing - and + operations?"
   ]
  },
  {
   "cell_type": "markdown",
   "metadata": {},
   "source": [
    "- $woman - man + king \\approx ?$\n",
    "- How this works?\n",
    "    - $woman:man \\approx x:king $\n",
    "    - $\\rightarrow woman - man \\approx x - king $\n",
    "    - $\\rightarrow woman - man + king \\approx x$\n",
    "    - List top-10 words ($x$) that can solve the equation!"
   ]
  },
  {
   "cell_type": "code",
   "execution_count": 154,
   "metadata": {},
   "outputs": [
    {
     "data": {
      "text/plain": [
       "[('queen', 0.7118192911148071),\n",
       " ('monarch', 0.6189674735069275),\n",
       " ('princess', 0.5902431607246399),\n",
       " ('prince', 0.5377322435379028),\n",
       " ('kings', 0.5236844420433044),\n",
       " ('queens', 0.5181134343147278),\n",
       " ('sultan', 0.5098593235015869),\n",
       " ('monarchy', 0.5087411999702454),\n",
       " ('throne', 0.5005807280540466),\n",
       " ('royal', 0.4938204884529114)]"
      ]
     },
     "execution_count": 154,
     "metadata": {},
     "output_type": "execute_result"
    }
   ],
   "source": [
    "w2v_mod.most_similar(positive=['woman', 'king'], negative=['man'])"
   ]
  },
  {
   "cell_type": "markdown",
   "metadata": {},
   "source": [
    "- $Spain - Germany + Berlin \\approx ?$\n",
    "    - $\\rightarrow Spain - Germany \\approx x -  Berlin $"
   ]
  },
  {
   "cell_type": "code",
   "execution_count": null,
   "metadata": {},
   "outputs": [],
   "source": [
    "w2v_mod.most_similar(positive=['Spain', 'Berlin'], negative=['Germany'])"
   ]
  },
  {
   "cell_type": "markdown",
   "metadata": {},
   "source": [
    "### <font color='magenta'> Q13. Any other interesting examples? </font>\n",
    "- Give 3 more examples.\n",
    "- How would you interprete the results?"
   ]
  },
  {
   "cell_type": "markdown",
   "metadata": {},
   "source": [
    "(type in your response here)"
   ]
  },
  {
   "cell_type": "code",
   "execution_count": null,
   "metadata": {},
   "outputs": [],
   "source": [
    "# put your code here"
   ]
  },
  {
   "cell_type": "markdown",
   "metadata": {},
   "source": [
    "## Constructing interpretable semantic scales "
   ]
  },
  {
   "cell_type": "markdown",
   "metadata": {},
   "source": [
    "- So far, we saw that word vectors effectively carries (although not perfect) the semantic information.\n",
    "- Can we design something more interpretable results from using the semantic space?"
   ]
  },
  {
   "cell_type": "markdown",
   "metadata": {},
   "source": [
    "- Let's re-try with real datapoints in [here](https://projector.tensorflow.org): *politics* words in a *bad-good* PCA space"
   ]
  },
  {
   "cell_type": "code",
   "execution_count": null,
   "metadata": {},
   "outputs": [],
   "source": [
    "from scipy import spatial\n",
    " \n",
    "def cosine_similarity(x, y):\n",
    "    return(1 - spatial.distance.cosine(x, y))"
   ]
  },
  {
   "cell_type": "markdown",
   "metadata": {},
   "source": [
    "- Can we regenerate this results with our embedding model?"
   ]
  },
  {
   "cell_type": "markdown",
   "metadata": {},
   "source": [
    "### Let's plot words in the 2D space\n",
    "- Using Bad & Good axes\n",
    "- Calculate cosine similarity between an evaluating word (violence, discussion, and issues) with each scale's end (bad, and good)"
   ]
  },
  {
   "cell_type": "code",
   "execution_count": null,
   "metadata": {},
   "outputs": [],
   "source": [
    "pol_words_sim_2d = pd.DataFrame([[cosine_similarity(w2v_mod['violence'], w2v_mod['good']), cosine_similarity(w2v_mod['violence'], w2v_mod['bad'])],\n",
    "                                 [cosine_similarity(w2v_mod['discussion'], w2v_mod['good']), cosine_similarity(w2v_mod['discussion'], w2v_mod['bad'])],\n",
    "                                 [cosine_similarity(w2v_mod['issues'], w2v_mod['good']), cosine_similarity(w2v_mod['issues'], w2v_mod['bad'])]],\n",
    "                                index=['violence', 'discussion', 'issues'], columns=['good', 'bad'])"
   ]
  },
  {
   "cell_type": "code",
   "execution_count": null,
   "metadata": {},
   "outputs": [],
   "source": [
    "pol_words_sim_2d"
   ]
  },
  {
   "cell_type": "markdown",
   "metadata": {},
   "source": [
    "- If we plot this:"
   ]
  },
  {
   "cell_type": "code",
   "execution_count": null,
   "metadata": {},
   "outputs": [],
   "source": [
    "sns.scatterplot(x='good', y='bad', data=pol_words_sim_2d, hue=pol_words_sim_2d.index)"
   ]
  },
  {
   "cell_type": "markdown",
   "metadata": {},
   "source": [
    "- violence: less good, more bad\n",
    "- discussion: less bad, more good\n",
    "- issues: both bad and good"
   ]
  },
  {
   "cell_type": "markdown",
   "metadata": {},
   "source": [
    "### Can we do this in an 1D scale?\n",
    "(bad) --------------------?---- (good)"
   ]
  },
  {
   "cell_type": "markdown",
   "metadata": {},
   "source": [
    "- First, let's create the vector for *bad-good* scale"
   ]
  },
  {
   "cell_type": "code",
   "execution_count": null,
   "metadata": {},
   "outputs": [],
   "source": [
    "scale_bad_good = w2v_mod['good'] - w2v_mod['bad']"
   ]
  },
  {
   "cell_type": "markdown",
   "metadata": {},
   "source": [
    "- Calculate the cosine similarity score of the word *violence* in the *bad-good* scale \n",
    "    - $sim(V(violence), V(bad) - V(good))$"
   ]
  },
  {
   "cell_type": "code",
   "execution_count": null,
   "metadata": {},
   "outputs": [],
   "source": [
    "cosine_similarity(w2v_mod['violence'], scale_bad_good)"
   ]
  },
  {
   "cell_type": "markdown",
   "metadata": {},
   "source": [
    "- $sim(V(discussion), V(bad) - V(good))$"
   ]
  },
  {
   "cell_type": "code",
   "execution_count": null,
   "metadata": {},
   "outputs": [],
   "source": [
    "cosine_similarity(w2v_mod['discussion'], w2v_mod['good'] - w2v_mod['bad'])"
   ]
  },
  {
   "cell_type": "markdown",
   "metadata": {},
   "source": [
    "- $sim(V(issues), V(bad) - V(good))$"
   ]
  },
  {
   "cell_type": "code",
   "execution_count": null,
   "metadata": {},
   "outputs": [],
   "source": [
    "cosine_similarity(w2v_mod['issues'], w2v_mod['good'] - w2v_mod['bad'])"
   ]
  },
  {
   "cell_type": "markdown",
   "metadata": {},
   "source": [
    "In summary, as displayed in Embedding Projector, words *violence*, *discussion*, and *issues* are located in the *bad-good* scale as following:"
   ]
  },
  {
   "cell_type": "code",
   "execution_count": null,
   "metadata": {},
   "outputs": [],
   "source": [
    "pol_words_sim = pd.DataFrame([cosine_similarity(w2v_mod['violence'], w2v_mod['good'] - w2v_mod['bad']),\n",
    "                              cosine_similarity(w2v_mod['discussion'], w2v_mod['good'] - w2v_mod['bad']),\n",
    "                              cosine_similarity(w2v_mod['issues'], w2v_mod['good'] - w2v_mod['bad'])],\n",
    "                             index=['violence', 'discussion', 'issues'], columns=['cos_sim'])"
   ]
  },
  {
   "cell_type": "code",
   "execution_count": null,
   "metadata": {},
   "outputs": [],
   "source": [
    "pol_words_sim"
   ]
  },
  {
   "cell_type": "code",
   "execution_count": null,
   "metadata": {},
   "outputs": [],
   "source": [
    "ax = sns.barplot(x=pol_words_sim.index, y=pol_words_sim.cos_sim)\n",
    "ax.set(ylabel=\"bad_good scale\")\n",
    "plt.show()"
   ]
  },
  {
   "cell_type": "markdown",
   "metadata": {},
   "source": [
    "- *Violence* is more close to the *bad* end of the scale, while *discussion* is located towards the *good* end of the scale. *Issues* is located between those two words in the *bad-good* scale. "
   ]
  },
  {
   "cell_type": "markdown",
   "metadata": {},
   "source": [
    "### <font color='magenta'> Q14.  Select different scale and a set of words. How words are represented in the your suggested semantic scale? </font>\n",
    "- Why did you selected the particular scale and words? what's your interpretation?"
   ]
  },
  {
   "cell_type": "markdown",
   "metadata": {},
   "source": [
    "(type in your response here)"
   ]
  },
  {
   "cell_type": "code",
   "execution_count": null,
   "metadata": {},
   "outputs": [],
   "source": [
    "# put your code here"
   ]
  },
  {
   "cell_type": "markdown",
   "metadata": {},
   "source": [
    "- more to read about this method:     http://bookworm.benschmidt.org/posts/2015-10-25-Word-Embeddings.html"
   ]
  }
 ],
 "metadata": {
  "kernelspec": {
   "display_name": "Python 3",
   "language": "python",
   "name": "python3"
  },
  "language_info": {
   "codemirror_mode": {
    "name": "ipython",
    "version": 3
   },
   "file_extension": ".py",
   "mimetype": "text/x-python",
   "name": "python",
   "nbconvert_exporter": "python",
   "pygments_lexer": "ipython3",
   "version": "3.7.1"
  },
  "toc-autonumbering": false,
  "toc-showcode": false,
  "toc-showmarkdowntxt": false,
  "toc-showtags": false
 },
 "nbformat": 4,
 "nbformat_minor": 2
}
