{
 "cells": [
  {
   "cell_type": "markdown",
   "metadata": {
    "colab_type": "text",
    "id": "UGqk3SzXsMR3"
   },
   "source": [
    "# SI 618 - Homework #1: Data Manipulation"
   ]
  },
  {
   "cell_type": "markdown",
   "metadata": {
    "colab_type": "text",
    "id": "Crxe7LeXJ9yn"
   },
   "source": [
    "## Background"
   ]
  },
  {
   "cell_type": "markdown",
   "metadata": {
    "colab_type": "text",
    "id": "1IaTA3GNJ9yo"
   },
   "source": [
    "This homework assignment focuses on the analysis of historical data from the Olympic games.  The description of the data includes the following:\n",
    "> This is a historical dataset on the modern Olympic Games, including all the Games from Athens 1896 to Rio 2016. I scraped this data from www.sports-reference.com in May 2018."
   ]
  },
  {
   "cell_type": "markdown",
   "metadata": {
    "colab_type": "text",
    "id": "jae-nANHJ9yp"
   },
   "source": [
    "Your main task in this assignment is to explore the data *using the data\n",
    "manipulation methods we covered in class* as well as those in the assigned readings.  You may need to consult pandas documentation, Stack Overflow, or other online resources.  \n",
    "\n",
    "** You should also feel free to ask questions on the class Slack channel! **"
   ]
  },
  {
   "cell_type": "markdown",
   "metadata": {
    "colab_type": "text",
    "id": "pbqbtPreaCjs"
   },
   "source": [
    "A total of 100 points is available in this homework assignment, consisting of:\n",
    "- 80 points for completing the specific homework questions. More comprehensive \n",
    "answers will tend to gain more points.\n",
    "- 10 points for the overall quality of spelling, grammar, punctuation, and style of written responses.  (see https://faculty.washington.edu/heagerty/Courses/b572/public/StrunkWhite.pdf for a detailed specifications).\n",
    "- 10 points for creating code that conforms to [PEP 8](https://www.python.org/dev/peps/pep-0008/) guidelines.  You should review those guidelines before proceding with the assignment.\n"
   ]
  },
  {
   "cell_type": "markdown",
   "metadata": {
    "colab_type": "text",
    "id": "Pr9WBUQyZY4V"
   },
   "source": [
    "## 0. Download the data from: \n",
    "- https://www.kaggle.com/heesoo37/120-years-of-olympic-history-athletes-and-results\n",
    "- https://en.wikipedia.org/wiki/List_of_Olympic_Games_host_cities (note: we suggest you use the [read_html](https://pandas.pydata.org/pandas-docs/stable/generated/pandas.read_html.html) function to load the data into a DataFrame."
   ]
  },
  {
   "cell_type": "code",
   "execution_count": 2,
   "metadata": {},
   "outputs": [],
   "source": [
    "MY_UNIQNAME = 'tengdann' # please fill in your uniqname"
   ]
  },
  {
   "cell_type": "markdown",
   "metadata": {
    "colab_type": "text",
    "id": "8EV1PilWtl0Z"
   },
   "source": [
    "## 1. Answer the questions below. \n",
    "For each question, you should\n",
    "1. Write code using Python and pandas that can help you answer the following questions, and\n",
    "2. Explain your answers in plain English. You should use complete sentences that would be understood by an educated professional who is not necessarily a data scientist (like a product manager)."
   ]
  },
  {
   "cell_type": "markdown",
   "metadata": {
    "colab_type": "text",
    "id": "PfjXDtHoabcS"
   },
   "source": [
    "### 5 pt: Describe the dataset. \n",
    "- How many number rows and columns do you see in each data frame? \n",
    "- Are there any other interesting descriptive details?"
   ]
  },
  {
   "cell_type": "code",
   "execution_count": 64,
   "metadata": {},
   "outputs": [
    {
     "name": "stdout",
     "output_type": "stream",
     "text": [
      "(271116, 15)\n"
     ]
    },
    {
     "data": {
      "text/html": [
       "<div>\n",
       "<style scoped>\n",
       "    .dataframe tbody tr th:only-of-type {\n",
       "        vertical-align: middle;\n",
       "    }\n",
       "\n",
       "    .dataframe tbody tr th {\n",
       "        vertical-align: top;\n",
       "    }\n",
       "\n",
       "    .dataframe thead th {\n",
       "        text-align: right;\n",
       "    }\n",
       "</style>\n",
       "<table border=\"1\" class=\"dataframe\">\n",
       "  <thead>\n",
       "    <tr style=\"text-align: right;\">\n",
       "      <th></th>\n",
       "      <th>ID</th>\n",
       "      <th>Name</th>\n",
       "      <th>Sex</th>\n",
       "      <th>Age</th>\n",
       "      <th>Height</th>\n",
       "      <th>Weight</th>\n",
       "      <th>Team</th>\n",
       "      <th>NOC</th>\n",
       "      <th>Games</th>\n",
       "      <th>Year</th>\n",
       "      <th>Season</th>\n",
       "      <th>City</th>\n",
       "      <th>Sport</th>\n",
       "      <th>Event</th>\n",
       "      <th>Medal</th>\n",
       "    </tr>\n",
       "  </thead>\n",
       "  <tbody>\n",
       "    <tr>\n",
       "      <th>count</th>\n",
       "      <td>271116</td>\n",
       "      <td>271116</td>\n",
       "      <td>271116</td>\n",
       "      <td>261642</td>\n",
       "      <td>210945</td>\n",
       "      <td>208241</td>\n",
       "      <td>271116</td>\n",
       "      <td>271116</td>\n",
       "      <td>271116</td>\n",
       "      <td>271116</td>\n",
       "      <td>271116</td>\n",
       "      <td>271116</td>\n",
       "      <td>271116</td>\n",
       "      <td>271116</td>\n",
       "      <td>39783</td>\n",
       "    </tr>\n",
       "    <tr>\n",
       "      <th>unique</th>\n",
       "      <td></td>\n",
       "      <td>134732</td>\n",
       "      <td>2</td>\n",
       "      <td></td>\n",
       "      <td></td>\n",
       "      <td></td>\n",
       "      <td>1184</td>\n",
       "      <td>230</td>\n",
       "      <td>51</td>\n",
       "      <td></td>\n",
       "      <td>2</td>\n",
       "      <td>42</td>\n",
       "      <td>66</td>\n",
       "      <td>765</td>\n",
       "      <td>3</td>\n",
       "    </tr>\n",
       "    <tr>\n",
       "      <th>top</th>\n",
       "      <td></td>\n",
       "      <td>Robert Tait McKenzie</td>\n",
       "      <td>M</td>\n",
       "      <td></td>\n",
       "      <td></td>\n",
       "      <td></td>\n",
       "      <td>United States</td>\n",
       "      <td>USA</td>\n",
       "      <td>2000 Summer</td>\n",
       "      <td></td>\n",
       "      <td>Summer</td>\n",
       "      <td>London</td>\n",
       "      <td>Athletics</td>\n",
       "      <td>Football Men's Football</td>\n",
       "      <td>Gold</td>\n",
       "    </tr>\n",
       "    <tr>\n",
       "      <th>freq</th>\n",
       "      <td></td>\n",
       "      <td>58</td>\n",
       "      <td>196594</td>\n",
       "      <td></td>\n",
       "      <td></td>\n",
       "      <td></td>\n",
       "      <td>17847</td>\n",
       "      <td>18853</td>\n",
       "      <td>13821</td>\n",
       "      <td></td>\n",
       "      <td>222552</td>\n",
       "      <td>22426</td>\n",
       "      <td>38624</td>\n",
       "      <td>5733</td>\n",
       "      <td>13372</td>\n",
       "    </tr>\n",
       "    <tr>\n",
       "      <th>mean</th>\n",
       "      <td>68249</td>\n",
       "      <td></td>\n",
       "      <td></td>\n",
       "      <td>25.5569</td>\n",
       "      <td>175.339</td>\n",
       "      <td>70.7024</td>\n",
       "      <td></td>\n",
       "      <td></td>\n",
       "      <td></td>\n",
       "      <td>1978.38</td>\n",
       "      <td></td>\n",
       "      <td></td>\n",
       "      <td></td>\n",
       "      <td></td>\n",
       "      <td></td>\n",
       "    </tr>\n",
       "    <tr>\n",
       "      <th>std</th>\n",
       "      <td>39022.3</td>\n",
       "      <td></td>\n",
       "      <td></td>\n",
       "      <td>6.39356</td>\n",
       "      <td>10.5185</td>\n",
       "      <td>14.348</td>\n",
       "      <td></td>\n",
       "      <td></td>\n",
       "      <td></td>\n",
       "      <td>29.8776</td>\n",
       "      <td></td>\n",
       "      <td></td>\n",
       "      <td></td>\n",
       "      <td></td>\n",
       "      <td></td>\n",
       "    </tr>\n",
       "    <tr>\n",
       "      <th>min</th>\n",
       "      <td>1</td>\n",
       "      <td></td>\n",
       "      <td></td>\n",
       "      <td>10</td>\n",
       "      <td>127</td>\n",
       "      <td>25</td>\n",
       "      <td></td>\n",
       "      <td></td>\n",
       "      <td></td>\n",
       "      <td>1896</td>\n",
       "      <td></td>\n",
       "      <td></td>\n",
       "      <td></td>\n",
       "      <td></td>\n",
       "      <td></td>\n",
       "    </tr>\n",
       "    <tr>\n",
       "      <th>25%</th>\n",
       "      <td>34643</td>\n",
       "      <td></td>\n",
       "      <td></td>\n",
       "      <td>21</td>\n",
       "      <td>168</td>\n",
       "      <td>60</td>\n",
       "      <td></td>\n",
       "      <td></td>\n",
       "      <td></td>\n",
       "      <td>1960</td>\n",
       "      <td></td>\n",
       "      <td></td>\n",
       "      <td></td>\n",
       "      <td></td>\n",
       "      <td></td>\n",
       "    </tr>\n",
       "    <tr>\n",
       "      <th>50%</th>\n",
       "      <td>68205</td>\n",
       "      <td></td>\n",
       "      <td></td>\n",
       "      <td>24</td>\n",
       "      <td>175</td>\n",
       "      <td>70</td>\n",
       "      <td></td>\n",
       "      <td></td>\n",
       "      <td></td>\n",
       "      <td>1988</td>\n",
       "      <td></td>\n",
       "      <td></td>\n",
       "      <td></td>\n",
       "      <td></td>\n",
       "      <td></td>\n",
       "    </tr>\n",
       "    <tr>\n",
       "      <th>75%</th>\n",
       "      <td>102097</td>\n",
       "      <td></td>\n",
       "      <td></td>\n",
       "      <td>28</td>\n",
       "      <td>183</td>\n",
       "      <td>79</td>\n",
       "      <td></td>\n",
       "      <td></td>\n",
       "      <td></td>\n",
       "      <td>2002</td>\n",
       "      <td></td>\n",
       "      <td></td>\n",
       "      <td></td>\n",
       "      <td></td>\n",
       "      <td></td>\n",
       "    </tr>\n",
       "    <tr>\n",
       "      <th>max</th>\n",
       "      <td>135571</td>\n",
       "      <td></td>\n",
       "      <td></td>\n",
       "      <td>97</td>\n",
       "      <td>226</td>\n",
       "      <td>214</td>\n",
       "      <td></td>\n",
       "      <td></td>\n",
       "      <td></td>\n",
       "      <td>2016</td>\n",
       "      <td></td>\n",
       "      <td></td>\n",
       "      <td></td>\n",
       "      <td></td>\n",
       "      <td></td>\n",
       "    </tr>\n",
       "  </tbody>\n",
       "</table>\n",
       "</div>"
      ],
      "text/plain": [
       "             ID                  Name     Sex      Age   Height   Weight  \\\n",
       "count    271116                271116  271116   261642   210945   208241   \n",
       "unique                         134732       2                              \n",
       "top              Robert Tait McKenzie       M                              \n",
       "freq                               58  196594                              \n",
       "mean      68249                                25.5569  175.339  70.7024   \n",
       "std     39022.3                                6.39356  10.5185   14.348   \n",
       "min           1                                     10      127       25   \n",
       "25%       34643                                     21      168       60   \n",
       "50%       68205                                     24      175       70   \n",
       "75%      102097                                     28      183       79   \n",
       "max      135571                                     97      226      214   \n",
       "\n",
       "                 Team     NOC        Games     Year  Season    City  \\\n",
       "count          271116  271116       271116   271116  271116  271116   \n",
       "unique           1184     230           51                2      42   \n",
       "top     United States     USA  2000 Summer           Summer  London   \n",
       "freq            17847   18853        13821           222552   22426   \n",
       "mean                                        1978.38                   \n",
       "std                                         29.8776                   \n",
       "min                                            1896                   \n",
       "25%                                            1960                   \n",
       "50%                                            1988                   \n",
       "75%                                            2002                   \n",
       "max                                            2016                   \n",
       "\n",
       "            Sport                    Event  Medal  \n",
       "count      271116                   271116  39783  \n",
       "unique         66                      765      3  \n",
       "top     Athletics  Football Men's Football   Gold  \n",
       "freq        38624                     5733  13372  \n",
       "mean                                               \n",
       "std                                                \n",
       "min                                                \n",
       "25%                                                \n",
       "50%                                                \n",
       "75%                                                \n",
       "max                                                "
      ]
     },
     "execution_count": 64,
     "metadata": {},
     "output_type": "execute_result"
    }
   ],
   "source": [
    "import pandas as pd\n",
    "%matplotlib inline\n",
    "\n",
    "# Above libraries imported as per https://johnricco.github.io/2017/04/04/python-html/ to parse merged cells in html tables.\n",
    "\n",
    "athletes = pd.read_csv('data/hw1_data/athlete_events.csv', index_col = None)\n",
    "print(athletes.shape)\n",
    "athletes.describe(include = 'all').fillna('')"
   ]
  },
  {
   "cell_type": "markdown",
   "metadata": {},
   "source": [
    "The athletes DataFrame has 271,116 rows and 15 columns.\n",
    "\n",
    "The age of the athletes ranged from 10 to 97, with the median being 24."
   ]
  },
  {
   "cell_type": "code",
   "execution_count": 63,
   "metadata": {},
   "outputs": [
    {
     "name": "stdout",
     "output_type": "stream",
     "text": [
      "(230, 3)\n"
     ]
    },
    {
     "data": {
      "text/html": [
       "<div>\n",
       "<style scoped>\n",
       "    .dataframe tbody tr th:only-of-type {\n",
       "        vertical-align: middle;\n",
       "    }\n",
       "\n",
       "    .dataframe tbody tr th {\n",
       "        vertical-align: top;\n",
       "    }\n",
       "\n",
       "    .dataframe thead th {\n",
       "        text-align: right;\n",
       "    }\n",
       "</style>\n",
       "<table border=\"1\" class=\"dataframe\">\n",
       "  <thead>\n",
       "    <tr style=\"text-align: right;\">\n",
       "      <th></th>\n",
       "      <th>NOC</th>\n",
       "      <th>region</th>\n",
       "      <th>notes</th>\n",
       "    </tr>\n",
       "  </thead>\n",
       "  <tbody>\n",
       "    <tr>\n",
       "      <th>count</th>\n",
       "      <td>230</td>\n",
       "      <td>227</td>\n",
       "      <td>21</td>\n",
       "    </tr>\n",
       "    <tr>\n",
       "      <th>unique</th>\n",
       "      <td>230</td>\n",
       "      <td>206</td>\n",
       "      <td>21</td>\n",
       "    </tr>\n",
       "    <tr>\n",
       "      <th>top</th>\n",
       "      <td>ISV</td>\n",
       "      <td>Germany</td>\n",
       "      <td>Turks and Caicos Islands</td>\n",
       "    </tr>\n",
       "    <tr>\n",
       "      <th>freq</th>\n",
       "      <td>1</td>\n",
       "      <td>4</td>\n",
       "      <td>1</td>\n",
       "    </tr>\n",
       "  </tbody>\n",
       "</table>\n",
       "</div>"
      ],
      "text/plain": [
       "        NOC   region                     notes\n",
       "count   230      227                        21\n",
       "unique  230      206                        21\n",
       "top     ISV  Germany  Turks and Caicos Islands\n",
       "freq      1        4                         1"
      ]
     },
     "execution_count": 63,
     "metadata": {},
     "output_type": "execute_result"
    }
   ],
   "source": [
    "regions = pd.read_csv('data/hw1_data/noc_regions.csv', index_col = None)\n",
    "print(regions.shape)\n",
    "regions.describe(include = 'all')"
   ]
  },
  {
   "cell_type": "markdown",
   "metadata": {},
   "source": [
    "The regions DataFrame has 230 rows and 3 columns"
   ]
  },
  {
   "cell_type": "markdown",
   "metadata": {
    "colab_type": "text",
    "id": "tbmL9-kta0o4"
   },
   "source": [
    "### 5 pt: What is the overall ratio of female to male atheletes? \n",
    "There are multiple ways one could determine the meaning of \"overall\" here, and there isn't necessarily one correct answer. Based on your interpretation, give a justification for the choices you made in your analysis."
   ]
  },
  {
   "cell_type": "code",
   "execution_count": 57,
   "metadata": {
    "colab": {},
    "colab_type": "code",
    "id": "33LcHThyt5_N"
   },
   "outputs": [
    {
     "data": {
      "text/plain": [
       "0.37906548521318045"
      ]
     },
     "execution_count": 57,
     "metadata": {},
     "output_type": "execute_result"
    }
   ],
   "source": [
    "len(athletes[athletes['Sex'] == 'F']) / len(athletes[athletes['Sex'] == 'M'])"
   ]
  },
  {
   "cell_type": "markdown",
   "metadata": {
    "colab_type": "text",
    "id": "FD6-7-D-uWmX"
   },
   "source": [
    "The overall ratio of females to males is 0.379. I counted duplicate athletes, since competing multiple times adds to the total amount of athletes who ever competed."
   ]
  },
  {
   "cell_type": "markdown",
   "metadata": {
    "colab_type": "text",
    "id": "0u5VM5ksbCTm"
   },
   "source": [
    "### 10 pt: Which athelete competed in most number of events? \n",
    "In which events did the athelete participate, and for what range of years? Which country did the athlete represent?"
   ]
  },
  {
   "cell_type": "code",
   "execution_count": 6,
   "metadata": {
    "colab": {},
    "colab_type": "code",
    "id": "JtI8ru2at6ZU"
   },
   "outputs": [
    {
     "data": {
      "text/plain": [
       "count                   271116\n",
       "unique                  134732\n",
       "top       Robert Tait McKenzie\n",
       "freq                        58\n",
       "Name: Name, dtype: object"
      ]
     },
     "execution_count": 6,
     "metadata": {},
     "output_type": "execute_result"
    }
   ],
   "source": [
    "athletes.Name.describe()"
   ]
  },
  {
   "cell_type": "code",
   "execution_count": 7,
   "metadata": {},
   "outputs": [
    {
     "data": {
      "text/plain": [
       "['Art Competitions Mixed Sculpturing',\n",
       " 'Art Competitions Mixed Sculpturing, Statues',\n",
       " 'Art Competitions Mixed Sculpturing, Medals And Reliefs',\n",
       " 'Art Competitions Mixed Sculpturing, Unknown Event',\n",
       " 'Art Competitions Mixed Sculpturing, Medals']"
      ]
     },
     "execution_count": 7,
     "metadata": {},
     "output_type": "execute_result"
    }
   ],
   "source": [
    "tait = athletes[athletes.Name == 'Robert Tait McKenzie']\n",
    "tait.Event.unique().tolist()"
   ]
  },
  {
   "cell_type": "code",
   "execution_count": 8,
   "metadata": {},
   "outputs": [
    {
     "data": {
      "text/plain": [
       "[1912, 1928, 1932, 1936, 1948]"
      ]
     },
     "execution_count": 8,
     "metadata": {},
     "output_type": "execute_result"
    }
   ],
   "source": [
    "tait.Year.unique().tolist()"
   ]
  },
  {
   "cell_type": "code",
   "execution_count": 9,
   "metadata": {},
   "outputs": [
    {
     "data": {
      "text/plain": [
       "['Canada']"
      ]
     },
     "execution_count": 9,
     "metadata": {},
     "output_type": "execute_result"
    }
   ],
   "source": [
    "tait.Team.unique().tolist()"
   ]
  },
  {
   "cell_type": "markdown",
   "metadata": {
    "colab_type": "text",
    "id": "CCuxztg3uYPQ"
   },
   "source": [
    "The athlete who competed the most is Robert Tait McKenzie, who competed 58 times.  \n",
    "He participated in:  \n",
    "    1. Art Competitions Mixed Sculpturing  \n",
    "    2. Art Competitions Mixed Sculpturing, Statues  \n",
    "    3. Art Competitions Mixed Sculpturing, Medals and Reliefs  \n",
    "    4. Art Competitions Mixed Sculpturing, Unknown Event  \n",
    "    5. Art Competitions Mixed Sculpturing, Medals  \n",
    "He competed from 1912 to 1948, representing Canada"
   ]
  },
  {
   "cell_type": "markdown",
   "metadata": {
    "colab_type": "text",
    "id": "2wH5ikUcbb16"
   },
   "source": [
    "### 10 pt: Which sport has the highest median athlete age? \n",
    "To determine this, you might want to plot the median age for each sport. You may want to sort the axes appropriately for your analysis."
   ]
  },
  {
   "cell_type": "code",
   "execution_count": 59,
   "metadata": {
    "colab": {},
    "colab_type": "code",
    "id": "GneWWgFVt62N"
   },
   "outputs": [
    {
     "data": {
      "text/plain": [
       "Sport\n",
       "Roque               59.0\n",
       "Art Competitions    45.0\n",
       "Alpinism            38.0\n",
       "Polo                35.0\n",
       "Shooting            33.0\n",
       "Name: Age, dtype: float64"
      ]
     },
     "execution_count": 59,
     "metadata": {},
     "output_type": "execute_result"
    }
   ],
   "source": [
    "athletes.groupby('Sport').Age.median().sort_values(ascending = False).head(5)"
   ]
  },
  {
   "cell_type": "markdown",
   "metadata": {
    "colab_type": "text",
    "id": "WlWYu2_5uY7K"
   },
   "source": [
    "Roque has the highest median athlete age."
   ]
  },
  {
   "cell_type": "markdown",
   "metadata": {
    "colab_type": "text",
    "id": "wGoiQk8XbqHw"
   },
   "source": [
    "### 10 pt: In which events has the Netherlands won the most medals?"
   ]
  },
  {
   "cell_type": "code",
   "execution_count": 12,
   "metadata": {
    "colab": {},
    "colab_type": "code",
    "id": "U5jIdE3_t7YA"
   },
   "outputs": [
    {
     "data": {
      "text/plain": [
       "Event\n",
       "Hockey Women's Hockey                              128\n",
       "Hockey Men's Hockey                                127\n",
       "Swimming Women's 4 x 100 metres Freestyle Relay     55\n",
       "Rowing Women's Coxed Eights                         45\n",
       "Football Men's Football                             41\n",
       "Name: Medal, dtype: int64"
      ]
     },
     "execution_count": 12,
     "metadata": {},
     "output_type": "execute_result"
    }
   ],
   "source": [
    "netherlands = athletes[athletes.Team == 'Netherlands']\n",
    "ned_medals = netherlands[pd.notnull(netherlands.Medal)]\n",
    "ned_medals.groupby('Event').Medal.count().sort_values(ascending = False).head(5)"
   ]
  },
  {
   "cell_type": "markdown",
   "metadata": {
    "colab_type": "text",
    "id": "yN5zlizIuZa8"
   },
   "source": [
    "The Netherlands has won the most medals in Women's Hockey (128 medals). I included all the multiple medals won by a team, instead of counting each year as 1 medal won by a team."
   ]
  },
  {
   "cell_type": "markdown",
   "metadata": {
    "colab_type": "text",
    "id": "lwumWcqTcMCs"
   },
   "source": [
    "### 10 pt: Which countries have more female medalists than male medalists?"
   ]
  },
  {
   "cell_type": "code",
   "execution_count": 16,
   "metadata": {
    "colab": {},
    "colab_type": "code",
    "id": "OMnjkk4St77B"
   },
   "outputs": [
    {
     "data": {
      "text/html": [
       "<div>\n",
       "<style scoped>\n",
       "    .dataframe tbody tr th:only-of-type {\n",
       "        vertical-align: middle;\n",
       "    }\n",
       "\n",
       "    .dataframe tbody tr th {\n",
       "        vertical-align: top;\n",
       "    }\n",
       "\n",
       "    .dataframe thead th {\n",
       "        text-align: right;\n",
       "    }\n",
       "</style>\n",
       "<table border=\"1\" class=\"dataframe\">\n",
       "  <thead>\n",
       "    <tr style=\"text-align: right;\">\n",
       "      <th></th>\n",
       "      <th>NOC</th>\n",
       "      <th>count</th>\n",
       "      <th>unique</th>\n",
       "      <th>top</th>\n",
       "      <th>freq</th>\n",
       "      <th>region</th>\n",
       "      <th>notes</th>\n",
       "    </tr>\n",
       "  </thead>\n",
       "  <tbody>\n",
       "    <tr>\n",
       "      <th>14</th>\n",
       "      <td>BLR</td>\n",
       "      <td>139</td>\n",
       "      <td>2</td>\n",
       "      <td>F</td>\n",
       "      <td>77</td>\n",
       "      <td>Belarus</td>\n",
       "      <td></td>\n",
       "    </tr>\n",
       "    <tr>\n",
       "      <th>18</th>\n",
       "      <td>BRN</td>\n",
       "      <td>3</td>\n",
       "      <td>1</td>\n",
       "      <td>F</td>\n",
       "      <td>3</td>\n",
       "      <td>Bahrain</td>\n",
       "      <td></td>\n",
       "    </tr>\n",
       "    <tr>\n",
       "      <th>22</th>\n",
       "      <td>CHN</td>\n",
       "      <td>989</td>\n",
       "      <td>2</td>\n",
       "      <td>F</td>\n",
       "      <td>654</td>\n",
       "      <td>China</td>\n",
       "      <td></td>\n",
       "    </tr>\n",
       "    <tr>\n",
       "      <th>26</th>\n",
       "      <td>CRC</td>\n",
       "      <td>4</td>\n",
       "      <td>1</td>\n",
       "      <td>F</td>\n",
       "      <td>4</td>\n",
       "      <td>Costa Rica</td>\n",
       "      <td></td>\n",
       "    </tr>\n",
       "    <tr>\n",
       "      <th>68</th>\n",
       "      <td>JAM</td>\n",
       "      <td>157</td>\n",
       "      <td>2</td>\n",
       "      <td>F</td>\n",
       "      <td>86</td>\n",
       "      <td>Jamaica</td>\n",
       "      <td></td>\n",
       "    </tr>\n",
       "    <tr>\n",
       "      <th>75</th>\n",
       "      <td>KOS</td>\n",
       "      <td>1</td>\n",
       "      <td>1</td>\n",
       "      <td>F</td>\n",
       "      <td>1</td>\n",
       "      <td>Kosovo</td>\n",
       "      <td></td>\n",
       "    </tr>\n",
       "    <tr>\n",
       "      <th>80</th>\n",
       "      <td>LIE</td>\n",
       "      <td>9</td>\n",
       "      <td>2</td>\n",
       "      <td>F</td>\n",
       "      <td>5</td>\n",
       "      <td>Liechtenstein</td>\n",
       "      <td></td>\n",
       "    </tr>\n",
       "    <tr>\n",
       "      <th>89</th>\n",
       "      <td>MNE</td>\n",
       "      <td>14</td>\n",
       "      <td>1</td>\n",
       "      <td>F</td>\n",
       "      <td>14</td>\n",
       "      <td>Montenegro</td>\n",
       "      <td></td>\n",
       "    </tr>\n",
       "    <tr>\n",
       "      <th>91</th>\n",
       "      <td>MOZ</td>\n",
       "      <td>2</td>\n",
       "      <td>1</td>\n",
       "      <td>F</td>\n",
       "      <td>2</td>\n",
       "      <td>Mozambique</td>\n",
       "      <td></td>\n",
       "    </tr>\n",
       "    <tr>\n",
       "      <th>103</th>\n",
       "      <td>PER</td>\n",
       "      <td>15</td>\n",
       "      <td>2</td>\n",
       "      <td>F</td>\n",
       "      <td>12</td>\n",
       "      <td>Peru</td>\n",
       "      <td></td>\n",
       "    </tr>\n",
       "    <tr>\n",
       "      <th>107</th>\n",
       "      <td>PRK</td>\n",
       "      <td>67</td>\n",
       "      <td>2</td>\n",
       "      <td>F</td>\n",
       "      <td>34</td>\n",
       "      <td>North Korea</td>\n",
       "      <td></td>\n",
       "    </tr>\n",
       "    <tr>\n",
       "      <th>110</th>\n",
       "      <td>ROU</td>\n",
       "      <td>653</td>\n",
       "      <td>2</td>\n",
       "      <td>F</td>\n",
       "      <td>355</td>\n",
       "      <td>Romania</td>\n",
       "      <td></td>\n",
       "    </tr>\n",
       "    <tr>\n",
       "      <th>115</th>\n",
       "      <td>SGP</td>\n",
       "      <td>9</td>\n",
       "      <td>2</td>\n",
       "      <td>F</td>\n",
       "      <td>7</td>\n",
       "      <td>Singapore</td>\n",
       "      <td></td>\n",
       "    </tr>\n",
       "    <tr>\n",
       "      <th>138</th>\n",
       "      <td>UKR</td>\n",
       "      <td>199</td>\n",
       "      <td>2</td>\n",
       "      <td>F</td>\n",
       "      <td>105</td>\n",
       "      <td>Ukraine</td>\n",
       "      <td></td>\n",
       "    </tr>\n",
       "    <tr>\n",
       "      <th>148</th>\n",
       "      <td>ZIM</td>\n",
       "      <td>22</td>\n",
       "      <td>1</td>\n",
       "      <td>F</td>\n",
       "      <td>22</td>\n",
       "      <td>Zimbabwe</td>\n",
       "      <td></td>\n",
       "    </tr>\n",
       "  </tbody>\n",
       "</table>\n",
       "</div>"
      ],
      "text/plain": [
       "     NOC  count  unique top  freq         region notes\n",
       "14   BLR    139       2   F    77        Belarus      \n",
       "18   BRN      3       1   F     3        Bahrain      \n",
       "22   CHN    989       2   F   654          China      \n",
       "26   CRC      4       1   F     4     Costa Rica      \n",
       "68   JAM    157       2   F    86        Jamaica      \n",
       "75   KOS      1       1   F     1         Kosovo      \n",
       "80   LIE      9       2   F     5  Liechtenstein      \n",
       "89   MNE     14       1   F    14     Montenegro      \n",
       "91   MOZ      2       1   F     2     Mozambique      \n",
       "103  PER     15       2   F    12           Peru      \n",
       "107  PRK     67       2   F    34    North Korea      \n",
       "110  ROU    653       2   F   355        Romania      \n",
       "115  SGP      9       2   F     7      Singapore      \n",
       "138  UKR    199       2   F   105        Ukraine      \n",
       "148  ZIM     22       1   F    22       Zimbabwe      "
      ]
     },
     "execution_count": 16,
     "metadata": {},
     "output_type": "execute_result"
    }
   ],
   "source": [
    "medalists = athletes[pd.notnull(athletes.Medal)].groupby('NOC').Sex.describe()\n",
    "medalists_new = pd.merge(medalists, regions, on = 'NOC')\n",
    "medalists_new.loc[medalists_new['top'] == 'F'].fillna('')"
   ]
  },
  {
   "cell_type": "markdown",
   "metadata": {
    "colab_type": "text",
    "id": "nau57Y2ZuZ6Y"
   },
   "source": [
    "Belarus, Bahrain, China, Costa Rica, Jamaica, Kosovo, Liechtenstein, Montenegro, Mozambique, Peru, North Korea, Romania, Singapore, Ukraine, and Zimbabwe all have more female medalists than male medalists.\n",
    "\n",
    "I also included countries that only have female athletes; inherently any positive integer is greater than 0. Since some countries technically sent 0 male athletes, they would fulfill the conditionn laid out by the question."
   ]
  },
  {
   "cell_type": "markdown",
   "metadata": {
    "colab_type": "text",
    "id": "7n5ybXFQcR-g"
   },
   "source": [
    "### 10 pt: Which country won the most medal points in each of the 2016 Summer Olympics?\n",
    "Rank each country by a score, where 3 points are assigned for a gold medal, 2 points for silver, and 1 point for bronze."
   ]
  },
  {
   "cell_type": "code",
   "execution_count": 61,
   "metadata": {
    "colab": {},
    "colab_type": "code",
    "id": "FoWTh2ekt8Wp"
   },
   "outputs": [
    {
     "data": {
      "text/plain": [
       "NOC\n",
       "USA    596\n",
       "GBR    328\n",
       "GER    300\n",
       "RUS    247\n",
       "CHN    235\n",
       "Name: Medal_val, dtype: int64"
      ]
     },
     "execution_count": 61,
     "metadata": {},
     "output_type": "execute_result"
    }
   ],
   "source": [
    "def points(row):\n",
    "    if row['Medal'] == 'Gold':\n",
    "        val = 3\n",
    "    elif row['Medal'] == 'Silver':\n",
    "        val = 2\n",
    "    elif row['Medal'] == 'Bronze':\n",
    "        val = 1 \n",
    "    else:\n",
    "        val = 0\n",
    "    return val\n",
    "\n",
    "athletes['Medal_val'] = athletes.apply(points, axis = 1)\n",
    "athletes[athletes.Games == '2016 Summer'].groupby('NOC').Medal_val.sum().sort_values(ascending = False).head(5)"
   ]
  },
  {
   "cell_type": "markdown",
   "metadata": {
    "colab_type": "text",
    "id": "lGrRhr22uan4"
   },
   "source": [
    "The United States won the most medal points (596 points) in 2016 Summer Olympics."
   ]
  },
  {
   "cell_type": "markdown",
   "metadata": {
    "colab_type": "text",
    "id": "l8k4nqgfeFJb"
   },
   "source": [
    "### 20 pt: For each year in which games were held, what proportion of gold medals did the host country win? \n",
    "You will need to combine multiple datasets to complete the analysis.  "
   ]
  },
  {
   "cell_type": "code",
   "execution_count": 144,
   "metadata": {
    "colab": {},
    "colab_type": "code",
    "id": "zOlDIr9zt81i"
   },
   "outputs": [
    {
     "data": {
      "text/plain": [
       "Year\n",
       "1896    16.129032\n",
       "1900    10.945274\n",
       "1904    38.728324\n",
       "1908    31.292517\n",
       "1912    29.141104\n",
       "1920    10.953347\n",
       "1924    11.144578\n",
       "1928     7.272727\n",
       "1932    29.501916\n",
       "1936    27.298851\n",
       "1948     2.121212\n",
       "1952     4.273504\n",
       "1956     3.921569\n",
       "1960    38.000000\n",
       "1964     9.068627\n",
       "1968     1.647059\n",
       "1972     9.493671\n",
       "1976     0.393701\n",
       "1980    33.333333\n",
       "1984    32.574431\n",
       "1988     4.612850\n",
       "1992     7.993967\n",
       "1994     7.272727\n",
       "1996    26.151316\n",
       "1998     5.517241\n",
       "2000     9.049774\n",
       "2002     5.555556\n",
       "2004     1.204819\n",
       "2008    11.028316\n",
       "2010    38.505747\n",
       "2012     7.594937\n",
       "2014    16.336634\n",
       "2016     5.413534\n",
       "Name: Medal, dtype: float64"
      ]
     },
     "execution_count": 144,
     "metadata": {},
     "output_type": "execute_result"
    }
   ],
   "source": [
    "# Scrubbing functions and lines were created with the help of SI 618 study group\n",
    "\n",
    "def clean_table(row):\n",
    "    if row['City'][-1] == ']':\n",
    "        row['City'] = row['City'][0:-3]\n",
    "        \n",
    "    return row['City']\n",
    "\n",
    "link = 'https://en.wikipedia.org/wiki/List_of_Olympic_Games_host_cities'\n",
    "host_cities = pd.read_html(link)[1] # God bless pandas 0.24.0\n",
    "host_cities.City = host_cities.apply(clean_table, axis = 1)\n",
    "\n",
    "# Need to manually adjust some of the country names\n",
    "host_cities.Country = host_cities.Country.replace({'United Kingdom': 'England', 'Nazi Germany': 'Germany', 'Empire of Japan\\xa0Nazi Germany': 'Japan', 'Empire of Japan\\xa0Finland': 'Japan', \n",
    "                                   'Australia\\xa0Sweden': 'Australia', 'West Germany': 'Germany', 'Soviet Union': 'Russia', 'Great Britain': 'England'})\n",
    "\n",
    "athletes_copy = athletes.copy()\n",
    "\n",
    "# Scrub the team names and bring them inline with host_cities country names\n",
    "athletes_copy.Team = athletes_copy.Team.str.replace('-1', '').str.replace('2', '').str.replace('-3', '').str.replace('-4', '').str.replace('#1', '')\n",
    "athletes_copy.Team = athletes_copy.Team.replace({'Nazi Germany': 'Germany', 'West Germany': 'Germany', 'Soviet Union': 'Russia', 'United Kingdom': 'England', 'Great Britain': 'England'})\n",
    "athletes_copy.City = athletes_copy.City.replace({'Athina': 'Athens', 'Antwerpen': 'Antwerp', 'Sankt Moritz': 'St. Moritz'})\n",
    "\n",
    "ath_copy_wiki = pd.merge(athletes_copy[['Team', 'Year', 'City', 'Medal']], host_cities[['City', 'Country', 'Year']], on = ['City', 'Year'])\n",
    "ath_copy_wiki_filt = ath_copy_wiki[ath_copy_wiki.Medal == 'Gold']\n",
    "gold_totals = ath_copy_wiki_filt.groupby('Year').count().Medal\n",
    "gold_host = ath_copy_wiki_filt[ath_copy_wiki_filt.Team == ath_copy_wiki_filt.Country].groupby('Year').count().Medal\n",
    "(gold_host / gold_totals).fillna(0)*100"
   ]
  },
  {
   "cell_type": "markdown",
   "metadata": {
    "colab_type": "text",
    "id": "R9dYAutxubGJ"
   },
   "source": [
    "The above table contains the percent of gold medals won by the host country for every year the Olympics occured. I first made a copy of athletes, to ensure the original dataframe isn't altered.\n",
    "\n",
    "hext came some filtering and editing: the wiki table had some interesting country names, so some research and collaboration with other class members led us to figure out what country the games were actually held in. T\n",
    "\n",
    "Next came another merge with the pulled Wikipedia table, on city and year. This merged table was filtered by gold medals. Two separate new dataframes were created, one counting the total number of gold medals earned each year, and the other counting the number of gold medals the host country won. The percentage was calculated by dividing the latter by the former, and filling in NAs with 0.\n",
    "\n",
    "There exists an issue here: if the noc_region.csv has a different NOC/region name than the athlete_events.csv/Wikipedia table, then the Python code would not match them. The only way is to correct this is to manually go through noc_region.csv and edit any region/NOC names that do not match. However, no dataset is always 100% clean, so even if it was manually altered, there may be some values that are missed."
   ]
  },
  {
   "cell_type": "markdown",
   "metadata": {
    "colab_type": "text",
    "id": "zKkwrNfbJ9zN"
   },
   "source": [
    "## Please submit your completed notebook in .IPYNB and .HTML formats via Canvas"
   ]
  }
 ],
 "metadata": {
  "colab": {
   "collapsed_sections": [],
   "name": "SI 618 FA 2018 Homework 1.ipynb",
   "provenance": [],
   "version": "0.3.2"
  },
  "kernelspec": {
   "display_name": "Python 3",
   "language": "python",
   "name": "python3"
  },
  "language_info": {
   "codemirror_mode": {
    "name": "ipython",
    "version": 3
   },
   "file_extension": ".py",
   "mimetype": "text/x-python",
   "name": "python",
   "nbconvert_exporter": "python",
   "pygments_lexer": "ipython3",
   "version": "3.7.1"
  }
 },
 "nbformat": 4,
 "nbformat_minor": 2
}
