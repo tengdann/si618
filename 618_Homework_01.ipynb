{
 "cells": [
  {
   "cell_type": "markdown",
   "metadata": {
    "colab_type": "text",
    "id": "UGqk3SzXsMR3"
   },
   "source": [
    "# SI 618 - Homework #1: Data Manipulation"
   ]
  },
  {
   "cell_type": "markdown",
   "metadata": {
    "colab_type": "text",
    "id": "Crxe7LeXJ9yn"
   },
   "source": [
    "## Background"
   ]
  },
  {
   "cell_type": "markdown",
   "metadata": {
    "colab_type": "text",
    "id": "1IaTA3GNJ9yo"
   },
   "source": [
    "This homework assignment focuses on the analysis of historical data from the Olympic games.  The description of the data includes the following:\n",
    "> This is a historical dataset on the modern Olympic Games, including all the Games from Athens 1896 to Rio 2016. I scraped this data from www.sports-reference.com in May 2018."
   ]
  },
  {
   "cell_type": "markdown",
   "metadata": {
    "colab_type": "text",
    "id": "jae-nANHJ9yp"
   },
   "source": [
    "Your main task in this assignment is to explore the data *using the data\n",
    "manipulation methods we covered in class* as well as those in the assigned readings.  You may need to consult pandas documentation, Stack Overflow, or other online resources.  \n",
    "\n",
    "** You should also feel free to ask questions on the class Slack channel! **"
   ]
  },
  {
   "cell_type": "markdown",
   "metadata": {
    "colab_type": "text",
    "id": "pbqbtPreaCjs"
   },
   "source": [
    "A total of 100 points is available in this homework assignment, consisting of:\n",
    "- 80 points for completing the specific homework questions. More comprehensive \n",
    "answers will tend to gain more points.\n",
    "- 10 points for the overall quality of spelling, grammar, punctuation, and style of written responses.  (see https://faculty.washington.edu/heagerty/Courses/b572/public/StrunkWhite.pdf for a detailed specifications).\n",
    "- 10 points for creating code that conforms to [PEP 8](https://www.python.org/dev/peps/pep-0008/) guidelines.  You should review those guidelines before proceding with the assignment.\n"
   ]
  },
  {
   "cell_type": "markdown",
   "metadata": {
    "colab_type": "text",
    "id": "Pr9WBUQyZY4V"
   },
   "source": [
    "## 0. Download the data from: \n",
    "- https://www.kaggle.com/heesoo37/120-years-of-olympic-history-athletes-and-results\n",
    "- https://en.wikipedia.org/wiki/List_of_Olympic_Games_host_cities (note: we suggest you use the [read_html](https://pandas.pydata.org/pandas-docs/stable/generated/pandas.read_html.html) function to load the data into a DataFrame."
   ]
  },
  {
   "cell_type": "code",
   "execution_count": 1,
   "metadata": {},
   "outputs": [],
   "source": [
    "MY_UNIQNAME = 'tengdann' # please fill in your uniqname"
   ]
  },
  {
   "cell_type": "markdown",
   "metadata": {
    "colab_type": "text",
    "id": "8EV1PilWtl0Z"
   },
   "source": [
    "## 1. Answer the questions below. \n",
    "For each question, you should\n",
    "1. Write code using Python and pandas that can help you answer the following questions, and\n",
    "2. Explain your answers in plain English. You should use complete sentences that would be understood by an educated professional who is not necessarily a data scientist (like a product manager)."
   ]
  },
  {
   "cell_type": "markdown",
   "metadata": {
    "colab_type": "text",
    "id": "PfjXDtHoabcS"
   },
   "source": [
    "### 5 pt: Describe the dataset. \n",
    "- How many number rows and columns do you see in each data frame? \n",
    "- Are there any other interesting descriptive details?"
   ]
  },
  {
   "cell_type": "code",
   "execution_count": 2,
   "metadata": {},
   "outputs": [
    {
     "data": {
      "text/plain": [
       "(271116, 15)"
      ]
     },
     "execution_count": 2,
     "metadata": {},
     "output_type": "execute_result"
    }
   ],
   "source": [
    "import pandas as pd\n",
    "%matplotlib inline\n",
    "\n",
    "# Above libraries imported as per https://johnricco.github.io/2017/04/04/python-html/ to parse merged cells in html tables.\n",
    "\n",
    "athletes = pd.read_csv('data/hw1_data/athlete_events.csv', index_col = None)\n",
    "athletes.shape"
   ]
  },
  {
   "cell_type": "markdown",
   "metadata": {},
   "source": [
    "The athletes DataFrame has 271,116 rows and 15 columns"
   ]
  },
  {
   "cell_type": "code",
   "execution_count": 3,
   "metadata": {},
   "outputs": [
    {
     "data": {
      "text/plain": [
       "(230, 3)"
      ]
     },
     "execution_count": 3,
     "metadata": {},
     "output_type": "execute_result"
    }
   ],
   "source": [
    "regions = pd.read_csv('data/hw1_data/noc_regions.csv', index_col = None)\n",
    "regions.shape"
   ]
  },
  {
   "cell_type": "markdown",
   "metadata": {},
   "source": [
    "The regions DataFrame has 230 rows and 3 columns"
   ]
  },
  {
   "cell_type": "markdown",
   "metadata": {
    "colab_type": "text",
    "id": "tbmL9-kta0o4"
   },
   "source": [
    "### 5 pt: What is the overall ratio of female to male atheletes? \n",
    "There are multiple ways one could determine the meaning of \"overall\" here, and there isn't necessarily one correct answer. Based on your interpretation, give a justification for the choices you made in your analysis."
   ]
  },
  {
   "cell_type": "code",
   "execution_count": 4,
   "metadata": {
    "colab": {},
    "colab_type": "code",
    "id": "33LcHThyt5_N"
   },
   "outputs": [
    {
     "data": {
      "text/plain": [
       "0.37906548521318045"
      ]
     },
     "execution_count": 4,
     "metadata": {},
     "output_type": "execute_result"
    }
   ],
   "source": [
    "len(athletes[athletes['Sex'] == 'F']) / len(athletes[athletes['Sex'] == 'M'])"
   ]
  },
  {
   "cell_type": "markdown",
   "metadata": {
    "colab_type": "text",
    "id": "FD6-7-D-uWmX"
   },
   "source": [
    "The overall ratio of females to males is 0.379."
   ]
  },
  {
   "cell_type": "markdown",
   "metadata": {
    "colab_type": "text",
    "id": "0u5VM5ksbCTm"
   },
   "source": [
    "### 10 pt: Which athelete competed in most number of events? \n",
    "In which events did the athelete participate, and for what range of years? Which country did the athlete represent?"
   ]
  },
  {
   "cell_type": "code",
   "execution_count": 5,
   "metadata": {
    "colab": {},
    "colab_type": "code",
    "id": "JtI8ru2at6ZU"
   },
   "outputs": [
    {
     "data": {
      "text/plain": [
       "count                   271116\n",
       "unique                  134732\n",
       "top       Robert Tait McKenzie\n",
       "freq                        58\n",
       "Name: Name, dtype: object"
      ]
     },
     "execution_count": 5,
     "metadata": {},
     "output_type": "execute_result"
    }
   ],
   "source": [
    "athletes.Name.describe()"
   ]
  },
  {
   "cell_type": "code",
   "execution_count": 6,
   "metadata": {},
   "outputs": [
    {
     "data": {
      "text/plain": [
       "['Art Competitions Mixed Sculpturing',\n",
       " 'Art Competitions Mixed Sculpturing, Statues',\n",
       " 'Art Competitions Mixed Sculpturing, Medals And Reliefs',\n",
       " 'Art Competitions Mixed Sculpturing, Unknown Event',\n",
       " 'Art Competitions Mixed Sculpturing, Medals']"
      ]
     },
     "execution_count": 6,
     "metadata": {},
     "output_type": "execute_result"
    }
   ],
   "source": [
    "tait = athletes[athletes.Name == 'Robert Tait McKenzie']\n",
    "tait.Event.unique().tolist()"
   ]
  },
  {
   "cell_type": "code",
   "execution_count": 7,
   "metadata": {},
   "outputs": [
    {
     "data": {
      "text/plain": [
       "[1912, 1928, 1932, 1936, 1948]"
      ]
     },
     "execution_count": 7,
     "metadata": {},
     "output_type": "execute_result"
    }
   ],
   "source": [
    "tait.Year.unique().tolist()"
   ]
  },
  {
   "cell_type": "code",
   "execution_count": 8,
   "metadata": {},
   "outputs": [
    {
     "data": {
      "text/plain": [
       "['Canada']"
      ]
     },
     "execution_count": 8,
     "metadata": {},
     "output_type": "execute_result"
    }
   ],
   "source": [
    "tait.Team.unique().tolist()"
   ]
  },
  {
   "cell_type": "markdown",
   "metadata": {
    "colab_type": "text",
    "id": "CCuxztg3uYPQ"
   },
   "source": [
    "The athlete who competed the most is Robert Tait McKenzie.  \n",
    "He participated in:  \n",
    "    1. Art Competitions Mixed Sculpturing  \n",
    "    2. Art Competitions Mixed Sculpturing, Statues  \n",
    "    3. Art Competitions Mixed Sculpturing, Medals and Reliefs  \n",
    "    4. Art Competitions Mixed Sculpturing, Unknown Event  \n",
    "    5. Art Competitions Mixed Sculpturing, Medals  \n",
    "He competed from 1912 to 1948, representing Canada"
   ]
  },
  {
   "cell_type": "markdown",
   "metadata": {
    "colab_type": "text",
    "id": "2wH5ikUcbb16"
   },
   "source": [
    "### 10 pt: Which sport has the highest median athlete age? \n",
    "To determine this, you might want to plot the median age for each sport. You may want to sort the axes appropriately for your analysis."
   ]
  },
  {
   "cell_type": "code",
   "execution_count": 9,
   "metadata": {
    "colab": {},
    "colab_type": "code",
    "id": "GneWWgFVt62N"
   },
   "outputs": [
    {
     "data": {
      "text/plain": [
       "<matplotlib.axes._subplots.AxesSubplot at 0xdd678dc048>"
      ]
     },
     "execution_count": 9,
     "metadata": {},
     "output_type": "execute_result"
    },
    {
     "data": {
      "image/png": "[encoded data removed]",
      "text/plain": [
       "<Figure size 432x288 with 1 Axes>"
      ]
     },
     "metadata": {
      "needs_background": "light"
     },
     "output_type": "display_data"
    }
   ],
   "source": [
    "athletes.groupby('Sport').Age.median().sort_values(ascending = False).plot()"
   ]
  },
  {
   "cell_type": "markdown",
   "metadata": {
    "colab_type": "text",
    "id": "WlWYu2_5uY7K"
   },
   "source": [
    "Roque has the highest median athlete age."
   ]
  },
  {
   "cell_type": "markdown",
   "metadata": {
    "colab_type": "text",
    "id": "wGoiQk8XbqHw"
   },
   "source": [
    "### 10 pt: In which events has the Netherlands won the most medals?"
   ]
  },
  {
   "cell_type": "code",
   "execution_count": 10,
   "metadata": {
    "colab": {},
    "colab_type": "code",
    "id": "U5jIdE3_t7YA"
   },
   "outputs": [
    {
     "data": {
      "text/plain": [
       "Event\n",
       "Football Men's Football                             41\n",
       "Rowing Women's Coxed Eights                         45\n",
       "Swimming Women's 4 x 100 metres Freestyle Relay     55\n",
       "Hockey Men's Hockey                                127\n",
       "Hockey Women's Hockey                              128\n",
       "Name: Medal, dtype: int64"
      ]
     },
     "execution_count": 10,
     "metadata": {},
     "output_type": "execute_result"
    }
   ],
   "source": [
    "netherlands = athletes[athletes.Team == 'Netherlands']\n",
    "ned_medals = netherlands[pd.notnull(netherlands.Medal)]\n",
    "ned_medals.groupby('Event').Medal.count().sort_values().tail(5)"
   ]
  },
  {
   "cell_type": "markdown",
   "metadata": {
    "colab_type": "text",
    "id": "yN5zlizIuZa8"
   },
   "source": [
    "The Netherlands has won the most medals in Women's Hockey."
   ]
  },
  {
   "cell_type": "markdown",
   "metadata": {
    "colab_type": "text",
    "id": "lwumWcqTcMCs"
   },
   "source": [
    "### 10 pt: Which countries have more female medalists than male medalists?"
   ]
  },
  {
   "cell_type": "code",
   "execution_count": 11,
   "metadata": {
    "colab": {},
    "colab_type": "code",
    "id": "OMnjkk4St77B"
   },
   "outputs": [
    {
     "data": {
      "text/html": [
       "<div>\n",
       "<style scoped>\n",
       "    .dataframe tbody tr th:only-of-type {\n",
       "        vertical-align: middle;\n",
       "    }\n",
       "\n",
       "    .dataframe tbody tr th {\n",
       "        vertical-align: top;\n",
       "    }\n",
       "\n",
       "    .dataframe thead th {\n",
       "        text-align: right;\n",
       "    }\n",
       "</style>\n",
       "<table border=\"1\" class=\"dataframe\">\n",
       "  <thead>\n",
       "    <tr style=\"text-align: right;\">\n",
       "      <th></th>\n",
       "      <th>count</th>\n",
       "      <th>unique</th>\n",
       "      <th>top</th>\n",
       "      <th>freq</th>\n",
       "    </tr>\n",
       "    <tr>\n",
       "      <th>NOC</th>\n",
       "      <th></th>\n",
       "      <th></th>\n",
       "      <th></th>\n",
       "      <th></th>\n",
       "    </tr>\n",
       "  </thead>\n",
       "  <tbody>\n",
       "    <tr>\n",
       "      <th>BLR</th>\n",
       "      <td>139</td>\n",
       "      <td>2</td>\n",
       "      <td>F</td>\n",
       "      <td>77</td>\n",
       "    </tr>\n",
       "    <tr>\n",
       "      <th>BRN</th>\n",
       "      <td>3</td>\n",
       "      <td>1</td>\n",
       "      <td>F</td>\n",
       "      <td>3</td>\n",
       "    </tr>\n",
       "    <tr>\n",
       "      <th>CHN</th>\n",
       "      <td>989</td>\n",
       "      <td>2</td>\n",
       "      <td>F</td>\n",
       "      <td>654</td>\n",
       "    </tr>\n",
       "    <tr>\n",
       "      <th>CRC</th>\n",
       "      <td>4</td>\n",
       "      <td>1</td>\n",
       "      <td>F</td>\n",
       "      <td>4</td>\n",
       "    </tr>\n",
       "    <tr>\n",
       "      <th>JAM</th>\n",
       "      <td>157</td>\n",
       "      <td>2</td>\n",
       "      <td>F</td>\n",
       "      <td>86</td>\n",
       "    </tr>\n",
       "    <tr>\n",
       "      <th>KOS</th>\n",
       "      <td>1</td>\n",
       "      <td>1</td>\n",
       "      <td>F</td>\n",
       "      <td>1</td>\n",
       "    </tr>\n",
       "    <tr>\n",
       "      <th>LIE</th>\n",
       "      <td>9</td>\n",
       "      <td>2</td>\n",
       "      <td>F</td>\n",
       "      <td>5</td>\n",
       "    </tr>\n",
       "    <tr>\n",
       "      <th>MNE</th>\n",
       "      <td>14</td>\n",
       "      <td>1</td>\n",
       "      <td>F</td>\n",
       "      <td>14</td>\n",
       "    </tr>\n",
       "    <tr>\n",
       "      <th>MOZ</th>\n",
       "      <td>2</td>\n",
       "      <td>1</td>\n",
       "      <td>F</td>\n",
       "      <td>2</td>\n",
       "    </tr>\n",
       "    <tr>\n",
       "      <th>PER</th>\n",
       "      <td>15</td>\n",
       "      <td>2</td>\n",
       "      <td>F</td>\n",
       "      <td>12</td>\n",
       "    </tr>\n",
       "    <tr>\n",
       "      <th>PRK</th>\n",
       "      <td>67</td>\n",
       "      <td>2</td>\n",
       "      <td>F</td>\n",
       "      <td>34</td>\n",
       "    </tr>\n",
       "    <tr>\n",
       "      <th>ROU</th>\n",
       "      <td>653</td>\n",
       "      <td>2</td>\n",
       "      <td>F</td>\n",
       "      <td>355</td>\n",
       "    </tr>\n",
       "    <tr>\n",
       "      <th>SGP</th>\n",
       "      <td>9</td>\n",
       "      <td>2</td>\n",
       "      <td>F</td>\n",
       "      <td>7</td>\n",
       "    </tr>\n",
       "    <tr>\n",
       "      <th>UKR</th>\n",
       "      <td>199</td>\n",
       "      <td>2</td>\n",
       "      <td>F</td>\n",
       "      <td>105</td>\n",
       "    </tr>\n",
       "    <tr>\n",
       "      <th>ZIM</th>\n",
       "      <td>22</td>\n",
       "      <td>1</td>\n",
       "      <td>F</td>\n",
       "      <td>22</td>\n",
       "    </tr>\n",
       "  </tbody>\n",
       "</table>\n",
       "</div>"
      ],
      "text/plain": [
       "    count unique top freq\n",
       "NOC                      \n",
       "BLR   139      2   F   77\n",
       "BRN     3      1   F    3\n",
       "CHN   989      2   F  654\n",
       "CRC     4      1   F    4\n",
       "JAM   157      2   F   86\n",
       "KOS     1      1   F    1\n",
       "LIE     9      2   F    5\n",
       "MNE    14      1   F   14\n",
       "MOZ     2      1   F    2\n",
       "PER    15      2   F   12\n",
       "PRK    67      2   F   34\n",
       "ROU   653      2   F  355\n",
       "SGP     9      2   F    7\n",
       "UKR   199      2   F  105\n",
       "ZIM    22      1   F   22"
      ]
     },
     "execution_count": 11,
     "metadata": {},
     "output_type": "execute_result"
    }
   ],
   "source": [
    "medalists = athletes[pd.notnull(athletes.Medal)].groupby('NOC').Sex.describe()\n",
    "medalists.loc[medalists['top'] == 'F']"
   ]
  },
  {
   "cell_type": "markdown",
   "metadata": {
    "colab_type": "text",
    "id": "nau57Y2ZuZ6Y"
   },
   "source": [
    "Burundi, Belarus, Bahrain, China, Costa Rica, Hong Kong (China), Jamaica, Kosovo, Liechtenstein, Montenegro, Mozambique, Peru, North Korea, Romania, Singapore, Sri Lanka, Ukraine, and Zimbabwe all have more female medalists than male medalists.\n",
    "\n",
    "I also included conties that only have female athletes; inherently any positive integer is greater than 0. Since some countries technically sent 0 male athletes, they would fulfill the conditionn laid out by the question."
   ]
  },
  {
   "cell_type": "markdown",
   "metadata": {
    "colab_type": "text",
    "id": "7n5ybXFQcR-g"
   },
   "source": [
    "### 10 pt: Which country won the most medal points in each of the 2016 Summer Olympics?\n",
    "Rank each country by a score, where 3 points are assigned for a gold medal, 2 points for silver, and 1 point for bronze."
   ]
  },
  {
   "cell_type": "code",
   "execution_count": 12,
   "metadata": {
    "colab": {},
    "colab_type": "code",
    "id": "FoWTh2ekt8Wp"
   },
   "outputs": [
    {
     "data": {
      "text/plain": [
       "Team\n",
       "United States    582\n",
       "Great Britain    328\n",
       "Germany          294\n",
       "Russia           241\n",
       "China            227\n",
       "Name: Medal_val, dtype: int64"
      ]
     },
     "execution_count": 12,
     "metadata": {},
     "output_type": "execute_result"
    }
   ],
   "source": [
    "def points(row):\n",
    "    if row['Medal'] == 'Gold':\n",
    "        val = 3\n",
    "    elif row['Medal'] == 'Silver':\n",
    "        val = 2\n",
    "    elif row['Medal'] == 'Bronze':\n",
    "        val = 1 \n",
    "    else:\n",
    "        val = 0\n",
    "    return val\n",
    "\n",
    "athletes['Medal_val'] = athletes.apply(points, axis = 1)\n",
    "athletes[athletes.Games == '2016 Summer'].groupby('Team').Medal_val.sum().sort_values(ascending = False).head(5)"
   ]
  },
  {
   "cell_type": "markdown",
   "metadata": {
    "colab_type": "text",
    "id": "lGrRhr22uan4"
   },
   "source": [
    "The United States won the most medal points in 2016 Summer Olympics."
   ]
  },
  {
   "cell_type": "markdown",
   "metadata": {
    "colab_type": "text",
    "id": "l8k4nqgfeFJb"
   },
   "source": [
    "### 20 pt: For each year in which games were held, what proportion of gold medals did the host country win? \n",
    "You will need to combine multiple datasets to complete the analysis.  "
   ]
  },
  {
   "cell_type": "code",
   "execution_count": 57,
   "metadata": {
    "colab": {},
    "colab_type": "code",
    "id": "zOlDIr9zt81i"
   },
   "outputs": [
    {
     "data": {
      "text/plain": [
       "Year\n",
       "1900    25.870647\n",
       "1912    31.595092\n",
       "1924    11.144578\n",
       "1928     8.163265\n",
       "1932     0.000000\n",
       "1936     0.000000\n",
       "1948     0.000000\n",
       "1952     4.273504\n",
       "1956     3.921569\n",
       "1960     0.000000\n",
       "1964     9.068627\n",
       "1968     1.647059\n",
       "1972     0.210970\n",
       "1976     0.393701\n",
       "1980     0.000000\n",
       "1984     0.000000\n",
       "1988     4.612850\n",
       "1992     7.993967\n",
       "1994     7.272727\n",
       "1996     0.000000\n",
       "1998     5.517241\n",
       "2000     9.049774\n",
       "2002     0.000000\n",
       "2010    38.505747\n",
       "2012     0.000000\n",
       "2014    16.336634\n",
       "2016     5.421687\n",
       "Name: Medal, dtype: float64"
      ]
     },
     "execution_count": 57,
     "metadata": {},
     "output_type": "execute_result"
    }
   ],
   "source": [
    "link = 'https://en.wikipedia.org/wiki/List_of_Olympic_Games_host_cities'\n",
    "host_cities = pd.read_html(link)[1] # God bless pandas 0.24.0\n",
    "athletes_copy = athletes.copy()\n",
    "ath_copy_reg = pd.merge(athletes_copy[['ID', 'Team', 'NOC', 'Year', 'Season', 'City', 'Medal']], regions[['NOC', 'region']], on = \"NOC\")\n",
    "ath_copy_reg_wiki = pd.merge(ath_copy_reg, host_cities[['City', 'Country', 'Year']], on = ['City', 'Year'])\n",
    "ath_copy_reg_wiki_filt = ath_copy_reg_wiki[ath_copy_reg_wiki.Medal == 'Gold']\n",
    "gold_totals = ath_copy_reg_wiki_filt.groupby('Year').count().Medal\n",
    "gold_host = ath_copy_reg_wiki_filt[ath_copy_reg_wiki_filt.region == ath_copy_reg_wiki_filt.Country].groupby('Year').count().Medal\n",
    "(gold_host / gold_totals).fillna(0)*100"
   ]
  },
  {
   "cell_type": "markdown",
   "metadata": {
    "colab_type": "text",
    "id": "R9dYAutxubGJ"
   },
   "source": [
    "(Use this space to explain your answers)"
   ]
  },
  {
   "cell_type": "markdown",
   "metadata": {
    "colab_type": "text",
    "id": "zKkwrNfbJ9zN"
   },
   "source": [
    "## Please submit your completed notebook in .IPYNB and .HTML formats via Canvas"
   ]
  },
  {
   "cell_type": "code",
   "execution_count": null,
   "metadata": {},
   "outputs": [],
   "source": []
  },
  {
   "cell_type": "code",
   "execution_count": null,
   "metadata": {},
   "outputs": [],
   "source": []
  }
 ],
 "metadata": {
  "colab": {
   "collapsed_sections": [],
   "name": "SI 618 FA 2018 Homework 1.ipynb",
   "provenance": [],
   "version": "0.3.2"
  },
  "kernelspec": {
   "display_name": "Python 3",
   "language": "python",
   "name": "python3"
  },
  "language_info": {
   "codemirror_mode": {
    "name": "ipython",
    "version": 3
   },
   "file_extension": ".py",
   "mimetype": "text/x-python",
   "name": "python",
   "nbconvert_exporter": "python",
   "pygments_lexer": "ipython3",
   "version": "3.7.1"
  }
 },
 "nbformat": 4,
 "nbformat_minor": 2
}
