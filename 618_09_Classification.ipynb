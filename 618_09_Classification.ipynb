{
 "cells": [
  {
   "cell_type": "markdown",
   "metadata": {},
   "source": [
    "# SI 618: Classification\n",
    "\n",
    "## Objectives:\n",
    "- Be able to perform classifications using the following methods and interpret their results.\n",
    "  - Naive Bayes\n",
    "  - Decision Tree\n",
    "  - Random Forest\n",
    "  \n",
    "Note: some slides from Eytan Adar and Kevyn Collins-Thompson\n"
   ]
  },
  {
   "cell_type": "markdown",
   "metadata": {},
   "source": [
    "### <font color=\"red\">NOTE: use conda to install the ```pydotplus``` and ```graphviz``` packages</font>"
   ]
  },
  {
   "cell_type": "markdown",
   "metadata": {},
   "source": [
    "![](resources/classification/Slide02.png)"
   ]
  },
  {
   "cell_type": "markdown",
   "metadata": {},
   "source": [
    "![](resources/classification/Slide03.png)"
   ]
  },
  {
   "cell_type": "markdown",
   "metadata": {},
   "source": [
    "![](resources/classification/Slide04.png)"
   ]
  },
  {
   "cell_type": "markdown",
   "metadata": {},
   "source": [
    "![](resources/classification/Slide05.png)"
   ]
  },
  {
   "cell_type": "markdown",
   "metadata": {},
   "source": [
    "![](resources/classification/Slide06.png)"
   ]
  },
  {
   "cell_type": "markdown",
   "metadata": {},
   "source": [
    "![](resources/classification/Slide07.png)"
   ]
  },
  {
   "cell_type": "markdown",
   "metadata": {},
   "source": [
    "![](resources/classification/Slide08.png)"
   ]
  },
  {
   "cell_type": "markdown",
   "metadata": {},
   "source": [
    "![](resources/classification/Slide09.png)"
   ]
  },
  {
   "cell_type": "markdown",
   "metadata": {},
   "source": [
    "![](resources/classification/Slide10.png)"
   ]
  },
  {
   "cell_type": "markdown",
   "metadata": {},
   "source": [
    "![](resources/classification/Slide11.png)"
   ]
  },
  {
   "cell_type": "markdown",
   "metadata": {},
   "source": [
    "![](resources/classification/Slide12.png)"
   ]
  },
  {
   "cell_type": "markdown",
   "metadata": {},
   "source": [
    "![](resources/classification/Slide13.png)"
   ]
  },
  {
   "cell_type": "markdown",
   "metadata": {},
   "source": [
    "![](resources/classification/Slide14.png)"
   ]
  },
  {
   "cell_type": "markdown",
   "metadata": {},
   "source": [
    "![](resources/classification/Slide15.png)"
   ]
  },
  {
   "cell_type": "markdown",
   "metadata": {},
   "source": [
    "![](resources/classification/Slide16.png)"
   ]
  },
  {
   "cell_type": "markdown",
   "metadata": {},
   "source": [
    "![](resources/classification/Slide17.png)"
   ]
  },
  {
   "cell_type": "markdown",
   "metadata": {},
   "source": [
    "![](resources/classification/Slide18.png)"
   ]
  },
  {
   "cell_type": "markdown",
   "metadata": {},
   "source": [
    "![](resources/classification/Slide19.png)"
   ]
  },
  {
   "cell_type": "markdown",
   "metadata": {},
   "source": [
    "![](resources/classification/Slide20.png)"
   ]
  },
  {
   "cell_type": "markdown",
   "metadata": {},
   "source": [
    "![](resources/classification/Slide21.png)"
   ]
  },
  {
   "cell_type": "markdown",
   "metadata": {},
   "source": [
    "![](resources/classification/Slide22.png)"
   ]
  },
  {
   "cell_type": "markdown",
   "metadata": {},
   "source": [
    "![](resources/classification/Slide23.png)"
   ]
  },
  {
   "cell_type": "markdown",
   "metadata": {},
   "source": [
    "![](resources/classification/Slide24.png)"
   ]
  },
  {
   "cell_type": "markdown",
   "metadata": {},
   "source": [
    "![](resources/classification/Slide25.png)"
   ]
  },
  {
   "cell_type": "markdown",
   "metadata": {},
   "source": [
    "![](resources/classification/Slide26.png)"
   ]
  },
  {
   "cell_type": "markdown",
   "metadata": {},
   "source": [
    "![](resources/classification/Slide27.png)"
   ]
  },
  {
   "cell_type": "markdown",
   "metadata": {},
   "source": [
    "![](resources/classification/Slide28.png)"
   ]
  },
  {
   "cell_type": "markdown",
   "metadata": {},
   "source": [
    "![](resources/classification/Slide30.png)"
   ]
  },
  {
   "cell_type": "markdown",
   "metadata": {},
   "source": [
    "![](resources/classification/Slide31.png)"
   ]
  },
  {
   "cell_type": "markdown",
   "metadata": {},
   "source": [
    "![](resources/classification/Slide32.png)"
   ]
  },
  {
   "cell_type": "markdown",
   "metadata": {},
   "source": [
    "![](resources/classification/Slide33.png)"
   ]
  },
  {
   "cell_type": "markdown",
   "metadata": {},
   "source": [
    "![](resources/classification/Slide34.png)"
   ]
  },
  {
   "cell_type": "markdown",
   "metadata": {},
   "source": [
    "![](resources/classification/Slide35.png)"
   ]
  },
  {
   "cell_type": "markdown",
   "metadata": {},
   "source": [
    "![](resources/classification/Slide36.png)"
   ]
  },
  {
   "cell_type": "markdown",
   "metadata": {},
   "source": [
    "![](resources/classification/Slide37.png)"
   ]
  },
  {
   "cell_type": "markdown",
   "metadata": {},
   "source": [
    "![](resources/classification/Slide38.png)"
   ]
  },
  {
   "cell_type": "markdown",
   "metadata": {},
   "source": [
    "![](resources/classification/Slide39.png)"
   ]
  },
  {
   "cell_type": "markdown",
   "metadata": {},
   "source": [
    "![](resources/classification/Slide40.png)"
   ]
  },
  {
   "cell_type": "markdown",
   "metadata": {},
   "source": [
    "![](resources/classification/Slide41.png)"
   ]
  },
  {
   "cell_type": "markdown",
   "metadata": {},
   "source": [
    "![](resources/classification/Slide42.png)"
   ]
  },
  {
   "cell_type": "markdown",
   "metadata": {},
   "source": [
    "![](resources/classification/Slide43.png)"
   ]
  },
  {
   "cell_type": "code",
   "execution_count": 1,
   "metadata": {},
   "outputs": [],
   "source": [
    "import numpy as np\n",
    "import pandas as pd\n",
    "import scipy as sp\n",
    "import sklearn as sk\n",
    "from sklearn.model_selection import train_test_split\n",
    "from sklearn.model_selection import cross_val_score\n",
    "import sklearn.ensemble as skens\n",
    "import sklearn.metrics as skmetric\n",
    "import sklearn.naive_bayes as sknb\n",
    "import sklearn.tree as sktree\n",
    "import matplotlib.pyplot as plt\n",
    "%matplotlib inline\n",
    "import seaborn as sns\n",
    "sns.set(style='white', color_codes=True, font_scale=1.3)\n",
    "import sklearn.externals.six as sksix\n",
    "import IPython.display as ipd\n",
    "from sklearn.model_selection import cross_val_score\n",
    "from sklearn import metrics\n",
    "import os\n"
   ]
  },
  {
   "cell_type": "code",
   "execution_count": 2,
   "metadata": {
    "collapsed": true
   },
   "outputs": [],
   "source": [
    "# Filter all warnings.\n",
    "import warnings\n",
    "warnings.filterwarnings('ignore')"
   ]
  },
  {
   "cell_type": "code",
   "execution_count": 38,
   "metadata": {},
   "outputs": [
    {
     "data": {
      "text/html": [
       "<div>\n",
       "<style scoped>\n",
       "    .dataframe tbody tr th:only-of-type {\n",
       "        vertical-align: middle;\n",
       "    }\n",
       "\n",
       "    .dataframe tbody tr th {\n",
       "        vertical-align: top;\n",
       "    }\n",
       "\n",
       "    .dataframe thead th {\n",
       "        text-align: right;\n",
       "    }\n",
       "</style>\n",
       "<table border=\"1\" class=\"dataframe\">\n",
       "  <thead>\n",
       "    <tr style=\"text-align: right;\">\n",
       "      <th></th>\n",
       "      <th>sepal_length</th>\n",
       "      <th>sepal_width</th>\n",
       "      <th>petal_length</th>\n",
       "      <th>petal_width</th>\n",
       "      <th>species</th>\n",
       "    </tr>\n",
       "  </thead>\n",
       "  <tbody>\n",
       "    <tr>\n",
       "      <th>0</th>\n",
       "      <td>5.1</td>\n",
       "      <td>3.5</td>\n",
       "      <td>1.4</td>\n",
       "      <td>0.2</td>\n",
       "      <td>setosa</td>\n",
       "    </tr>\n",
       "    <tr>\n",
       "      <th>1</th>\n",
       "      <td>4.9</td>\n",
       "      <td>3.0</td>\n",
       "      <td>1.4</td>\n",
       "      <td>0.2</td>\n",
       "      <td>setosa</td>\n",
       "    </tr>\n",
       "    <tr>\n",
       "      <th>2</th>\n",
       "      <td>4.7</td>\n",
       "      <td>3.2</td>\n",
       "      <td>1.3</td>\n",
       "      <td>0.2</td>\n",
       "      <td>setosa</td>\n",
       "    </tr>\n",
       "    <tr>\n",
       "      <th>3</th>\n",
       "      <td>4.6</td>\n",
       "      <td>3.1</td>\n",
       "      <td>1.5</td>\n",
       "      <td>0.2</td>\n",
       "      <td>setosa</td>\n",
       "    </tr>\n",
       "    <tr>\n",
       "      <th>4</th>\n",
       "      <td>5.0</td>\n",
       "      <td>3.6</td>\n",
       "      <td>1.4</td>\n",
       "      <td>0.2</td>\n",
       "      <td>setosa</td>\n",
       "    </tr>\n",
       "  </tbody>\n",
       "</table>\n",
       "</div>"
      ],
      "text/plain": [
       "   sepal_length  sepal_width  petal_length  petal_width species\n",
       "0           5.1          3.5           1.4          0.2  setosa\n",
       "1           4.9          3.0           1.4          0.2  setosa\n",
       "2           4.7          3.2           1.3          0.2  setosa\n",
       "3           4.6          3.1           1.5          0.2  setosa\n",
       "4           5.0          3.6           1.4          0.2  setosa"
      ]
     },
     "execution_count": 38,
     "metadata": {},
     "output_type": "execute_result"
    }
   ],
   "source": [
    "# Load the iris dataset\n",
    "df_iris = sns.load_dataset('iris')\n",
    "df_iris.head()"
   ]
  },
  {
   "cell_type": "markdown",
   "metadata": {},
   "source": [
    "Split the data set into training and testing subsets using a scikit_learn function:"
   ]
  },
  {
   "cell_type": "code",
   "execution_count": 4,
   "metadata": {},
   "outputs": [],
   "source": [
    "df_iris_train,df_iris_test = train_test_split(df_iris, test_size=0.3)"
   ]
  },
  {
   "cell_type": "code",
   "execution_count": 5,
   "metadata": {},
   "outputs": [
    {
     "data": {
      "text/plain": [
       "(105, 45)"
      ]
     },
     "execution_count": 5,
     "metadata": {},
     "output_type": "execute_result"
    }
   ],
   "source": [
    "len(df_iris_train),len(df_iris_test)"
   ]
  },
  {
   "cell_type": "markdown",
   "metadata": {},
   "source": [
    "# 1. Decision Trees\n",
    "\n",
    "## 1.1 Train a decision tree classifier\n",
    "\n",
    "We will train a decision tree classifier to classify iris species. Here are the specifications:\n",
    "- __Objective__: predict which species an iris instance belongs to.\n",
    "- __Possible classes__: \"setosa\", \"versicolor\", and \"virginica\"\n",
    "- __Features__: all four features\n"
   ]
  },
  {
   "cell_type": "code",
   "execution_count": 6,
   "metadata": {},
   "outputs": [
    {
     "data": {
      "text/plain": [
       "DecisionTreeClassifier(class_weight=None, criterion='entropy', max_depth=1,\n",
       "            max_features=None, max_leaf_nodes=None,\n",
       "            min_impurity_decrease=0.0, min_impurity_split=None,\n",
       "            min_samples_leaf=1, min_samples_split=2,\n",
       "            min_weight_fraction_leaf=0.0, presort=False, random_state=None,\n",
       "            splitter='best')"
      ]
     },
     "execution_count": 6,
     "metadata": {},
     "output_type": "execute_result"
    }
   ],
   "source": [
    "## Build and train the classifier\n",
    "dt_model = sktree.DecisionTreeClassifier(max_depth=1,\n",
    "                                         criterion='entropy')\n",
    "# given first 4 columns, learn the species\n",
    "dt_model.fit(df_iris_train.ix[:,:4],df_iris_train.species)"
   ]
  },
  {
   "cell_type": "code",
   "execution_count": 8,
   "metadata": {},
   "outputs": [],
   "source": [
    "os.environ[\"PATH\"] += os.pathsep + 'C:/Program Files (x86)/release/bin/'"
   ]
  },
  {
   "cell_type": "code",
   "execution_count": 9,
   "metadata": {},
   "outputs": [
    {
     "data": {
      "image/png": "[encoded data removed]",
      "text/plain": [
       "<IPython.core.display.Image object>"
      ]
     },
     "execution_count": 9,
     "metadata": {},
     "output_type": "execute_result"
    }
   ],
   "source": [
    "from sklearn.externals.six import StringIO  \n",
    "from IPython.display import Image  \n",
    "from sklearn.tree import export_graphviz\n",
    "import pydotplus\n",
    "dot_data = StringIO()\n",
    "export_graphviz(dt_model, out_file=dot_data,  \n",
    "                filled=True, rounded=True,\n",
    "                special_characters=True)\n",
    "graph = pydotplus.graph_from_dot_data(dot_data.getvalue())  \n",
    "Image(graph.create_png())"
   ]
  },
  {
   "cell_type": "markdown",
   "metadata": {},
   "source": [
    "To interpret the above plot, please read through the following paragraphs quoted from http://www.thegrimmscientist.com/tutorial-decision-trees/, which has slightly different results than our data set because they used alightly different data.  Their results looks like:\n",
    "![](http://www.thegrimmscientist.com/content/images/2017/06/TreeDepth1.png)\n",
    "> This image needs a bit of explanation. The top node represents the whole dataset. The whole dataset has 150 samples, as seen in the third line of that first node. We'll explain entropy more later, but for now, think of it as a formalization of the amount of uncertainty in the data. The first line on the top node gives us the decision our tree magically found. When that decision \"petal width is less than or equal to 0.80 cm\" is true for a given sample, that sample is assigned to the bottom left node. When it is false, the sample is assigned to the bottom right node.\n",
    "\n",
    ">On these two leaf nodes, the number of samples is shown on the second line. The number of samples broken down by class is on the third line. On the left leaf node, all 50 of the samples in class 1 and none from the other two classes are represented. Given the decision and the data at hand, we are certain to have a sample in class 1 (setosa). Since we are totally certain about that, uncertainty (entropy) is 0.\n",
    "\n",
    ">When our petal width <= 0.80 decider is false, the given sample is assigned to the right node. It works out that all 50 samples from class 2 (versicolor) and all 50 samples from class 3 (virginica) are assigned to this right leaf. Thus, when we're at this leaf given the decision, we're evenly unsure whether we're in class 2 or class 3. The amount of uncertainty this works out to be is 1.0. Again, we'll explain the math and meaning behind that later."
   ]
  },
  {
   "cell_type": "markdown",
   "metadata": {},
   "source": [
    "### <font color=\"magenta\">Question 1:</font>\n",
    "1. Train a decision tree with `max_depth=2`. Plot it, if you have graphviz installed, as a graph (same below).\n",
    "2. Train a decision tree with `max_depth=3`.\n",
    "3. Train a decision tree without `max_depth` limitation.\n",
    "\n",
    "\n",
    "_NOTE_: see http://www.thegrimmscientist.com/tutorial-decision-trees/ for awesome visualizations and explanations to intuitively understand what decision tree algorithm is doing."
   ]
  },
  {
   "cell_type": "code",
   "execution_count": 10,
   "metadata": {
    "collapsed": true
   },
   "outputs": [
    {
     "data": {
      "image/png": "[encoded data removed]",
      "text/plain": [
       "<IPython.core.display.Image object>"
      ]
     },
     "execution_count": 10,
     "metadata": {},
     "output_type": "execute_result"
    }
   ],
   "source": [
    "## Build and train the classifier\n",
    "dt_model = sktree.DecisionTreeClassifier(max_depth=2,\n",
    "                                         criterion='entropy')\n",
    "# given first 4 columns, learn the species\n",
    "dt_model.fit(df_iris_train.ix[:,:4],df_iris_train.species)\n",
    "dot_data = StringIO()\n",
    "export_graphviz(dt_model, out_file=dot_data,  \n",
    "                filled=True, rounded=True,\n",
    "                special_characters=True)\n",
    "graph = pydotplus.graph_from_dot_data(dot_data.getvalue())  \n",
    "Image(graph.create_png())"
   ]
  },
  {
   "cell_type": "code",
   "execution_count": 11,
   "metadata": {},
   "outputs": [
    {
     "data": {
      "image/png": "[encoded data removed]",
      "text/plain": [
       "<IPython.core.display.Image object>"
      ]
     },
     "execution_count": 11,
     "metadata": {},
     "output_type": "execute_result"
    }
   ],
   "source": [
    "## Build and train the classifier\n",
    "dt_model = sktree.DecisionTreeClassifier(max_depth=3,\n",
    "                                         criterion='entropy')\n",
    "# given first 4 columns, learn the species\n",
    "dt_model.fit(df_iris_train.ix[:,:4],df_iris_train.species)\n",
    "dot_data = StringIO()\n",
    "export_graphviz(dt_model, out_file=dot_data,  \n",
    "                filled=True, rounded=True,\n",
    "                special_characters=True)\n",
    "graph = pydotplus.graph_from_dot_data(dot_data.getvalue())  \n",
    "Image(graph.create_png())"
   ]
  },
  {
   "cell_type": "code",
   "execution_count": 12,
   "metadata": {},
   "outputs": [
    {
     "data": {
      "image/png": "[encoded data removed]",
      "text/plain": [
       "<IPython.core.display.Image object>"
      ]
     },
     "execution_count": 12,
     "metadata": {},
     "output_type": "execute_result"
    }
   ],
   "source": [
    "## Build and train the classifier\n",
    "dt_model = sktree.DecisionTreeClassifier(criterion='entropy')\n",
    "# given first 4 columns, learn the species\n",
    "dt_model.fit(df_iris_train.ix[:,:4],df_iris_train.species)\n",
    "dot_data = StringIO()\n",
    "export_graphviz(dt_model, out_file=dot_data,  \n",
    "                filled=True, rounded=True,\n",
    "                special_characters=True)\n",
    "graph = pydotplus.graph_from_dot_data(dot_data.getvalue())  \n",
    "Image(graph.create_png())"
   ]
  },
  {
   "cell_type": "markdown",
   "metadata": {},
   "source": [
    "## 1.2 Deploying a Decision Tree Classifier\n",
    "\n",
    "We train a decision tree with `max_depth=2` to cluster the irises into three species."
   ]
  },
  {
   "cell_type": "markdown",
   "metadata": {},
   "source": [
    "<font color =\"red\">Now use your newly created function to call max_depth=2, max_depth=3 and no limit on max_depth.  Examine the differences using comparePlot (below)"
   ]
  },
  {
   "cell_type": "code",
   "execution_count": 13,
   "metadata": {
    "collapsed": true
   },
   "outputs": [
    {
     "data": {
      "text/plain": [
       "DecisionTreeClassifier(class_weight=None, criterion='entropy', max_depth=2,\n",
       "            max_features=None, max_leaf_nodes=None,\n",
       "            min_impurity_decrease=0.0, min_impurity_split=None,\n",
       "            min_samples_leaf=1, min_samples_split=2,\n",
       "            min_weight_fraction_leaf=0.0, presort=False, random_state=None,\n",
       "            splitter='best')"
      ]
     },
     "execution_count": 13,
     "metadata": {},
     "output_type": "execute_result"
    }
   ],
   "source": [
    "## Build and train the classifier\n",
    "dt_model = sktree.DecisionTreeClassifier(max_depth=2,\n",
    "                                         criterion='entropy')\n",
    "# given first 4 columns, learn the species\n",
    "dt_model.fit(df_iris_train.ix[:,:4],df_iris_train.species)"
   ]
  },
  {
   "cell_type": "code",
   "execution_count": 14,
   "metadata": {
    "collapsed": true
   },
   "outputs": [
    {
     "data": {
      "text/html": [
       "<div>\n",
       "<style scoped>\n",
       "    .dataframe tbody tr th:only-of-type {\n",
       "        vertical-align: middle;\n",
       "    }\n",
       "\n",
       "    .dataframe tbody tr th {\n",
       "        vertical-align: top;\n",
       "    }\n",
       "\n",
       "    .dataframe thead th {\n",
       "        text-align: right;\n",
       "    }\n",
       "</style>\n",
       "<table border=\"1\" class=\"dataframe\">\n",
       "  <thead>\n",
       "    <tr style=\"text-align: right;\">\n",
       "      <th></th>\n",
       "      <th>sepal_length</th>\n",
       "      <th>sepal_width</th>\n",
       "      <th>petal_length</th>\n",
       "      <th>petal_width</th>\n",
       "      <th>species</th>\n",
       "      <th>predicted_label_tree</th>\n",
       "    </tr>\n",
       "  </thead>\n",
       "  <tbody>\n",
       "    <tr>\n",
       "      <th>22</th>\n",
       "      <td>4.6</td>\n",
       "      <td>3.6</td>\n",
       "      <td>1.0</td>\n",
       "      <td>0.2</td>\n",
       "      <td>setosa</td>\n",
       "      <td>setosa</td>\n",
       "    </tr>\n",
       "    <tr>\n",
       "      <th>62</th>\n",
       "      <td>6.0</td>\n",
       "      <td>2.2</td>\n",
       "      <td>4.0</td>\n",
       "      <td>1.0</td>\n",
       "      <td>versicolor</td>\n",
       "      <td>versicolor</td>\n",
       "    </tr>\n",
       "    <tr>\n",
       "      <th>7</th>\n",
       "      <td>5.0</td>\n",
       "      <td>3.4</td>\n",
       "      <td>1.5</td>\n",
       "      <td>0.2</td>\n",
       "      <td>setosa</td>\n",
       "      <td>setosa</td>\n",
       "    </tr>\n",
       "    <tr>\n",
       "      <th>61</th>\n",
       "      <td>5.9</td>\n",
       "      <td>3.0</td>\n",
       "      <td>4.2</td>\n",
       "      <td>1.5</td>\n",
       "      <td>versicolor</td>\n",
       "      <td>versicolor</td>\n",
       "    </tr>\n",
       "    <tr>\n",
       "      <th>95</th>\n",
       "      <td>5.7</td>\n",
       "      <td>3.0</td>\n",
       "      <td>4.2</td>\n",
       "      <td>1.2</td>\n",
       "      <td>versicolor</td>\n",
       "      <td>versicolor</td>\n",
       "    </tr>\n",
       "    <tr>\n",
       "      <th>57</th>\n",
       "      <td>4.9</td>\n",
       "      <td>2.4</td>\n",
       "      <td>3.3</td>\n",
       "      <td>1.0</td>\n",
       "      <td>versicolor</td>\n",
       "      <td>versicolor</td>\n",
       "    </tr>\n",
       "    <tr>\n",
       "      <th>137</th>\n",
       "      <td>6.4</td>\n",
       "      <td>3.1</td>\n",
       "      <td>5.5</td>\n",
       "      <td>1.8</td>\n",
       "      <td>virginica</td>\n",
       "      <td>virginica</td>\n",
       "    </tr>\n",
       "    <tr>\n",
       "      <th>119</th>\n",
       "      <td>6.0</td>\n",
       "      <td>2.2</td>\n",
       "      <td>5.0</td>\n",
       "      <td>1.5</td>\n",
       "      <td>virginica</td>\n",
       "      <td>virginica</td>\n",
       "    </tr>\n",
       "    <tr>\n",
       "      <th>85</th>\n",
       "      <td>6.0</td>\n",
       "      <td>3.4</td>\n",
       "      <td>4.5</td>\n",
       "      <td>1.6</td>\n",
       "      <td>versicolor</td>\n",
       "      <td>versicolor</td>\n",
       "    </tr>\n",
       "    <tr>\n",
       "      <th>40</th>\n",
       "      <td>5.0</td>\n",
       "      <td>3.5</td>\n",
       "      <td>1.3</td>\n",
       "      <td>0.3</td>\n",
       "      <td>setosa</td>\n",
       "      <td>setosa</td>\n",
       "    </tr>\n",
       "  </tbody>\n",
       "</table>\n",
       "</div>"
      ],
      "text/plain": [
       "     sepal_length  sepal_width  petal_length  petal_width     species  \\\n",
       "22            4.6          3.6           1.0          0.2      setosa   \n",
       "62            6.0          2.2           4.0          1.0  versicolor   \n",
       "7             5.0          3.4           1.5          0.2      setosa   \n",
       "61            5.9          3.0           4.2          1.5  versicolor   \n",
       "95            5.7          3.0           4.2          1.2  versicolor   \n",
       "57            4.9          2.4           3.3          1.0  versicolor   \n",
       "137           6.4          3.1           5.5          1.8   virginica   \n",
       "119           6.0          2.2           5.0          1.5   virginica   \n",
       "85            6.0          3.4           4.5          1.6  versicolor   \n",
       "40            5.0          3.5           1.3          0.3      setosa   \n",
       "\n",
       "    predicted_label_tree  \n",
       "22                setosa  \n",
       "62            versicolor  \n",
       "7                 setosa  \n",
       "61            versicolor  \n",
       "95            versicolor  \n",
       "57            versicolor  \n",
       "137            virginica  \n",
       "119            virginica  \n",
       "85            versicolor  \n",
       "40                setosa  "
      ]
     },
     "execution_count": 14,
     "metadata": {},
     "output_type": "execute_result"
    }
   ],
   "source": [
    "# this is testing the model \n",
    "predicted_labels = dt_model.predict(df_iris_test.ix[:,:4])\n",
    "df_iris_test['predicted_label_tree'] = predicted_labels\n",
    "df_iris_test.sample(10)"
   ]
  },
  {
   "cell_type": "code",
   "execution_count": 53,
   "metadata": {
    "collapsed": true
   },
   "outputs": [],
   "source": [
    "# utility class to compare the predictions versus ground truth\n",
    "def comparePlot(input_frame,real_column,predicted_column, x_axis, y_axis):\n",
    "    df_a = input_frame.copy()\n",
    "    df_b = input_frame.copy()\n",
    "    df_a['label_source'] = 'Species'\n",
    "    df_b['label_source'] = 'Classifier'\n",
    "    df_a['label'] = df_a[real_column]\n",
    "    df_b['label'] = df_b[predicted_column].apply(lambda x: 'Predict %s'%x)\n",
    "    df_c = pd.concat((df_a, df_b), axis=0, ignore_index=True)\n",
    "    sns.lmplot(x=x_axis, y=y_axis, col='label_source',\n",
    "               hue='label', data=df_c, fit_reg=False, size=4);"
   ]
  },
  {
   "cell_type": "code",
   "execution_count": 54,
   "metadata": {
    "collapsed": true
   },
   "outputs": [
    {
     "data": {
      "image/png": "[encoded data removed]",
      "text/plain": [
       "<Figure size 736.98x288 with 2 Axes>"
      ]
     },
     "metadata": {
      "needs_background": "light"
     },
     "output_type": "display_data"
    }
   ],
   "source": [
    "# see the difference\n",
    "comparePlot(df_iris_test,\"species\",\"predicted_label_tree\", 'sepal_length', 'sepal_width')"
   ]
  },
  {
   "cell_type": "markdown",
   "metadata": {},
   "source": [
    "### <font color=\"magenta\">Question 2: Now repeat the above steps with max_depth=3 and no limit on max_depth"
   ]
  },
  {
   "cell_type": "code",
   "execution_count": 20,
   "metadata": {},
   "outputs": [
    {
     "data": {
      "text/html": [
       "<div>\n",
       "<style scoped>\n",
       "    .dataframe tbody tr th:only-of-type {\n",
       "        vertical-align: middle;\n",
       "    }\n",
       "\n",
       "    .dataframe tbody tr th {\n",
       "        vertical-align: top;\n",
       "    }\n",
       "\n",
       "    .dataframe thead th {\n",
       "        text-align: right;\n",
       "    }\n",
       "</style>\n",
       "<table border=\"1\" class=\"dataframe\">\n",
       "  <thead>\n",
       "    <tr style=\"text-align: right;\">\n",
       "      <th></th>\n",
       "      <th>sepal_length</th>\n",
       "      <th>sepal_width</th>\n",
       "      <th>petal_length</th>\n",
       "      <th>petal_width</th>\n",
       "      <th>species</th>\n",
       "      <th>predicted_label_tree</th>\n",
       "    </tr>\n",
       "  </thead>\n",
       "  <tbody>\n",
       "    <tr>\n",
       "      <th>33</th>\n",
       "      <td>5.5</td>\n",
       "      <td>4.2</td>\n",
       "      <td>1.4</td>\n",
       "      <td>0.2</td>\n",
       "      <td>setosa</td>\n",
       "      <td>setosa</td>\n",
       "    </tr>\n",
       "    <tr>\n",
       "      <th>114</th>\n",
       "      <td>5.8</td>\n",
       "      <td>2.8</td>\n",
       "      <td>5.1</td>\n",
       "      <td>2.4</td>\n",
       "      <td>virginica</td>\n",
       "      <td>virginica</td>\n",
       "    </tr>\n",
       "    <tr>\n",
       "      <th>22</th>\n",
       "      <td>4.6</td>\n",
       "      <td>3.6</td>\n",
       "      <td>1.0</td>\n",
       "      <td>0.2</td>\n",
       "      <td>setosa</td>\n",
       "      <td>setosa</td>\n",
       "    </tr>\n",
       "    <tr>\n",
       "      <th>5</th>\n",
       "      <td>5.4</td>\n",
       "      <td>3.9</td>\n",
       "      <td>1.7</td>\n",
       "      <td>0.4</td>\n",
       "      <td>setosa</td>\n",
       "      <td>setosa</td>\n",
       "    </tr>\n",
       "    <tr>\n",
       "      <th>3</th>\n",
       "      <td>4.6</td>\n",
       "      <td>3.1</td>\n",
       "      <td>1.5</td>\n",
       "      <td>0.2</td>\n",
       "      <td>setosa</td>\n",
       "      <td>setosa</td>\n",
       "    </tr>\n",
       "    <tr>\n",
       "      <th>20</th>\n",
       "      <td>5.4</td>\n",
       "      <td>3.4</td>\n",
       "      <td>1.7</td>\n",
       "      <td>0.2</td>\n",
       "      <td>setosa</td>\n",
       "      <td>setosa</td>\n",
       "    </tr>\n",
       "    <tr>\n",
       "      <th>7</th>\n",
       "      <td>5.0</td>\n",
       "      <td>3.4</td>\n",
       "      <td>1.5</td>\n",
       "      <td>0.2</td>\n",
       "      <td>setosa</td>\n",
       "      <td>setosa</td>\n",
       "    </tr>\n",
       "    <tr>\n",
       "      <th>35</th>\n",
       "      <td>5.0</td>\n",
       "      <td>3.2</td>\n",
       "      <td>1.2</td>\n",
       "      <td>0.2</td>\n",
       "      <td>setosa</td>\n",
       "      <td>setosa</td>\n",
       "    </tr>\n",
       "    <tr>\n",
       "      <th>57</th>\n",
       "      <td>4.9</td>\n",
       "      <td>2.4</td>\n",
       "      <td>3.3</td>\n",
       "      <td>1.0</td>\n",
       "      <td>versicolor</td>\n",
       "      <td>versicolor</td>\n",
       "    </tr>\n",
       "    <tr>\n",
       "      <th>43</th>\n",
       "      <td>5.0</td>\n",
       "      <td>3.5</td>\n",
       "      <td>1.6</td>\n",
       "      <td>0.6</td>\n",
       "      <td>setosa</td>\n",
       "      <td>setosa</td>\n",
       "    </tr>\n",
       "  </tbody>\n",
       "</table>\n",
       "</div>"
      ],
      "text/plain": [
       "     sepal_length  sepal_width  petal_length  petal_width     species  \\\n",
       "33            5.5          4.2           1.4          0.2      setosa   \n",
       "114           5.8          2.8           5.1          2.4   virginica   \n",
       "22            4.6          3.6           1.0          0.2      setosa   \n",
       "5             5.4          3.9           1.7          0.4      setosa   \n",
       "3             4.6          3.1           1.5          0.2      setosa   \n",
       "20            5.4          3.4           1.7          0.2      setosa   \n",
       "7             5.0          3.4           1.5          0.2      setosa   \n",
       "35            5.0          3.2           1.2          0.2      setosa   \n",
       "57            4.9          2.4           3.3          1.0  versicolor   \n",
       "43            5.0          3.5           1.6          0.6      setosa   \n",
       "\n",
       "    predicted_label_tree  \n",
       "33                setosa  \n",
       "114            virginica  \n",
       "22                setosa  \n",
       "5                 setosa  \n",
       "3                 setosa  \n",
       "20                setosa  \n",
       "7                 setosa  \n",
       "35                setosa  \n",
       "57            versicolor  \n",
       "43                setosa  "
      ]
     },
     "execution_count": 20,
     "metadata": {},
     "output_type": "execute_result"
    }
   ],
   "source": [
    "## Build and train the classifier\n",
    "dt_model = sktree.DecisionTreeClassifier(max_depth=3,\n",
    "                                         criterion='entropy')\n",
    "# given first 4 columns, learn the species\n",
    "dt_model.fit(df_iris_train.ix[:,:4],df_iris_train.species)\n",
    "# this is testing the model \n",
    "predicted_labels = dt_model.predict(df_iris_test.ix[:,:4])\n",
    "df_iris_test['predicted_label_tree'] = predicted_labels\n",
    "df_iris_test.sample(10)"
   ]
  },
  {
   "cell_type": "code",
   "execution_count": 55,
   "metadata": {},
   "outputs": [
    {
     "data": {
      "image/png": "[encoded data removed]",
      "text/plain": [
       "<Figure size 736.98x288 with 2 Axes>"
      ]
     },
     "metadata": {
      "needs_background": "light"
     },
     "output_type": "display_data"
    }
   ],
   "source": [
    "# see the difference\n",
    "comparePlot(df_iris_test,\"species\",\"predicted_label_tree\", 'sepal_length', 'sepal_width')"
   ]
  },
  {
   "cell_type": "code",
   "execution_count": 22,
   "metadata": {},
   "outputs": [
    {
     "data": {
      "text/html": [
       "<div>\n",
       "<style scoped>\n",
       "    .dataframe tbody tr th:only-of-type {\n",
       "        vertical-align: middle;\n",
       "    }\n",
       "\n",
       "    .dataframe tbody tr th {\n",
       "        vertical-align: top;\n",
       "    }\n",
       "\n",
       "    .dataframe thead th {\n",
       "        text-align: right;\n",
       "    }\n",
       "</style>\n",
       "<table border=\"1\" class=\"dataframe\">\n",
       "  <thead>\n",
       "    <tr style=\"text-align: right;\">\n",
       "      <th></th>\n",
       "      <th>sepal_length</th>\n",
       "      <th>sepal_width</th>\n",
       "      <th>petal_length</th>\n",
       "      <th>petal_width</th>\n",
       "      <th>species</th>\n",
       "      <th>predicted_label_tree</th>\n",
       "    </tr>\n",
       "  </thead>\n",
       "  <tbody>\n",
       "    <tr>\n",
       "      <th>51</th>\n",
       "      <td>6.4</td>\n",
       "      <td>3.2</td>\n",
       "      <td>4.5</td>\n",
       "      <td>1.5</td>\n",
       "      <td>versicolor</td>\n",
       "      <td>versicolor</td>\n",
       "    </tr>\n",
       "    <tr>\n",
       "      <th>43</th>\n",
       "      <td>5.0</td>\n",
       "      <td>3.5</td>\n",
       "      <td>1.6</td>\n",
       "      <td>0.6</td>\n",
       "      <td>setosa</td>\n",
       "      <td>setosa</td>\n",
       "    </tr>\n",
       "    <tr>\n",
       "      <th>115</th>\n",
       "      <td>6.4</td>\n",
       "      <td>3.2</td>\n",
       "      <td>5.3</td>\n",
       "      <td>2.3</td>\n",
       "      <td>virginica</td>\n",
       "      <td>virginica</td>\n",
       "    </tr>\n",
       "    <tr>\n",
       "      <th>72</th>\n",
       "      <td>6.3</td>\n",
       "      <td>2.5</td>\n",
       "      <td>4.9</td>\n",
       "      <td>1.5</td>\n",
       "      <td>versicolor</td>\n",
       "      <td>virginica</td>\n",
       "    </tr>\n",
       "    <tr>\n",
       "      <th>97</th>\n",
       "      <td>6.2</td>\n",
       "      <td>2.9</td>\n",
       "      <td>4.3</td>\n",
       "      <td>1.3</td>\n",
       "      <td>versicolor</td>\n",
       "      <td>versicolor</td>\n",
       "    </tr>\n",
       "    <tr>\n",
       "      <th>20</th>\n",
       "      <td>5.4</td>\n",
       "      <td>3.4</td>\n",
       "      <td>1.7</td>\n",
       "      <td>0.2</td>\n",
       "      <td>setosa</td>\n",
       "      <td>setosa</td>\n",
       "    </tr>\n",
       "    <tr>\n",
       "      <th>19</th>\n",
       "      <td>5.1</td>\n",
       "      <td>3.8</td>\n",
       "      <td>1.5</td>\n",
       "      <td>0.3</td>\n",
       "      <td>setosa</td>\n",
       "      <td>setosa</td>\n",
       "    </tr>\n",
       "    <tr>\n",
       "      <th>62</th>\n",
       "      <td>6.0</td>\n",
       "      <td>2.2</td>\n",
       "      <td>4.0</td>\n",
       "      <td>1.0</td>\n",
       "      <td>versicolor</td>\n",
       "      <td>versicolor</td>\n",
       "    </tr>\n",
       "    <tr>\n",
       "      <th>11</th>\n",
       "      <td>4.8</td>\n",
       "      <td>3.4</td>\n",
       "      <td>1.6</td>\n",
       "      <td>0.2</td>\n",
       "      <td>setosa</td>\n",
       "      <td>setosa</td>\n",
       "    </tr>\n",
       "    <tr>\n",
       "      <th>40</th>\n",
       "      <td>5.0</td>\n",
       "      <td>3.5</td>\n",
       "      <td>1.3</td>\n",
       "      <td>0.3</td>\n",
       "      <td>setosa</td>\n",
       "      <td>setosa</td>\n",
       "    </tr>\n",
       "  </tbody>\n",
       "</table>\n",
       "</div>"
      ],
      "text/plain": [
       "     sepal_length  sepal_width  petal_length  petal_width     species  \\\n",
       "51            6.4          3.2           4.5          1.5  versicolor   \n",
       "43            5.0          3.5           1.6          0.6      setosa   \n",
       "115           6.4          3.2           5.3          2.3   virginica   \n",
       "72            6.3          2.5           4.9          1.5  versicolor   \n",
       "97            6.2          2.9           4.3          1.3  versicolor   \n",
       "20            5.4          3.4           1.7          0.2      setosa   \n",
       "19            5.1          3.8           1.5          0.3      setosa   \n",
       "62            6.0          2.2           4.0          1.0  versicolor   \n",
       "11            4.8          3.4           1.6          0.2      setosa   \n",
       "40            5.0          3.5           1.3          0.3      setosa   \n",
       "\n",
       "    predicted_label_tree  \n",
       "51            versicolor  \n",
       "43                setosa  \n",
       "115            virginica  \n",
       "72             virginica  \n",
       "97            versicolor  \n",
       "20                setosa  \n",
       "19                setosa  \n",
       "62            versicolor  \n",
       "11                setosa  \n",
       "40                setosa  "
      ]
     },
     "execution_count": 22,
     "metadata": {},
     "output_type": "execute_result"
    }
   ],
   "source": [
    "## Build and train the classifier\n",
    "dt_model = sktree.DecisionTreeClassifier(criterion='entropy')\n",
    "# given first 4 columns, learn the species\n",
    "dt_model.fit(df_iris_train.ix[:,:4],df_iris_train.species)\n",
    "# this is testing the model \n",
    "predicted_labels = dt_model.predict(df_iris_test.ix[:,:4])\n",
    "df_iris_test['predicted_label_tree'] = predicted_labels\n",
    "df_iris_test.sample(10)"
   ]
  },
  {
   "cell_type": "code",
   "execution_count": 56,
   "metadata": {},
   "outputs": [
    {
     "data": {
      "image/png": "[encoded data removed]",
      "text/plain": [
       "<Figure size 736.98x288 with 2 Axes>"
      ]
     },
     "metadata": {
      "needs_background": "light"
     },
     "output_type": "display_data"
    }
   ],
   "source": [
    "# see the difference\n",
    "comparePlot(df_iris_test,\"species\",\"predicted_label_tree\", 'sepal_length', 'sepal_width')"
   ]
  },
  {
   "cell_type": "markdown",
   "metadata": {},
   "source": [
    "# 2. Random Forest\n",
    "\n",
    "Let's build a random forest classifier to classify irises into three species.\n",
    "- __Objective__: predict which species an iris instance belongs to.\n",
    "- __Possible classes__: \"setosa\", \"versicolor\", and \"virginica\"\n",
    "- __Features__: all four features"
   ]
  },
  {
   "cell_type": "code",
   "execution_count": 24,
   "metadata": {
    "collapsed": true
   },
   "outputs": [
    {
     "data": {
      "text/plain": [
       "RandomForestClassifier(bootstrap=True, class_weight=None, criterion='entropy',\n",
       "            max_depth=None, max_features='auto', max_leaf_nodes=None,\n",
       "            min_impurity_decrease=0.0, min_impurity_split=None,\n",
       "            min_samples_leaf=1, min_samples_split=2,\n",
       "            min_weight_fraction_leaf=0.0, n_estimators=10, n_jobs=None,\n",
       "            oob_score=True, random_state=None, verbose=0, warm_start=False)"
      ]
     },
     "execution_count": 24,
     "metadata": {},
     "output_type": "execute_result"
    }
   ],
   "source": [
    "# build a random forest\n",
    "rf_model = skens.RandomForestClassifier(n_estimators=10,oob_score=True, criterion='entropy')\n",
    "rf_model.fit(df_iris_train.ix[:,:4],df_iris_train.species)"
   ]
  },
  {
   "cell_type": "markdown",
   "metadata": {},
   "source": [
    "<font color=\"red\">Use the same approach that you did in predicting the Decision Tree Classifier.  Note that you don't need to use .sample()"
   ]
  },
  {
   "cell_type": "code",
   "execution_count": 25,
   "metadata": {
    "collapsed": true
   },
   "outputs": [],
   "source": [
    "# now do the predicting... use the same approach as you did in testing the Decision Tree Classifier above,\n",
    "# but don't include the .sample() line\n",
    "# this is testing the model \n",
    "predicted_labels = rf_model.predict(df_iris_test.ix[:,:4])\n",
    "df_iris_test['predicted_rf_tree'] = predicted_labels"
   ]
  },
  {
   "cell_type": "code",
   "execution_count": 26,
   "metadata": {
    "collapsed": true
   },
   "outputs": [
    {
     "data": {
      "image/png": "[encoded data removed]",
      "text/plain": [
       "<Figure size 736.98x288 with 2 Axes>"
      ]
     },
     "metadata": {
      "needs_background": "light"
     },
     "output_type": "display_data"
    }
   ],
   "source": [
    "comparePlot(df_iris_test,\"species\",\"predicted_rf_tree\")"
   ]
  },
  {
   "cell_type": "markdown",
   "metadata": {},
   "source": [
    "We can also check __feature importance__ as dumped by the model."
   ]
  },
  {
   "cell_type": "code",
   "execution_count": 27,
   "metadata": {
    "collapsed": true
   },
   "outputs": [
    {
     "data": {
      "text/plain": [
       "<matplotlib.axes._subplots.AxesSubplot at 0x2041ca76898>"
      ]
     },
     "execution_count": 27,
     "metadata": {},
     "output_type": "execute_result"
    },
    {
     "data": {
      "image/png": "[encoded data removed]",
      "text/plain": [
       "<Figure size 432x288 with 1 Axes>"
      ]
     },
     "metadata": {
      "needs_background": "light"
     },
     "output_type": "display_data"
    }
   ],
   "source": [
    "# Check feature importance\n",
    "feat_importance = rf_model.feature_importances_\n",
    "pd.DataFrame({'Feature Importance':feat_importance},\n",
    "            index=df_iris_train.columns[:4]).plot(kind='barh')"
   ]
  },
  {
   "cell_type": "markdown",
   "metadata": {},
   "source": [
    "## Tuning the model\n",
    "The model paramters are called _hyperparameters_.  Setting them to appropriate values and running the model experiment again can be time-consuming, so we have a technique called cross-validation to help with this.\n",
    "\n",
    "From http://scikit-learn.org/stable/modules/cross_validation.html:\n",
    "\n",
    "> When evaluating different settings (“hyperparameters”) for estimators, such as the C setting that must be manually set for an SVM, there is still a risk of overfitting on the test set because the parameters can be tweaked until the estimator performs optimally. This way, knowledge about the test set can “leak” into the model and evaluation metrics no longer report on generalization performance. To solve this problem, yet another part of the dataset can be held out as a so-called “validation set”: training proceeds on the training set, after which evaluation is done on the validation set, and when the experiment seems to be successful, final evaluation can be done on the test set.\n",
    "\n",
    "> However, by partitioning the available data into three sets, we drastically reduce the number of samples which can be used for learning the model, and the results can depend on a particular random choice for the pair of (train, validation) sets.\n",
    "\n",
    "> A solution to this problem is a procedure called cross-validation (CV for short). A test set should still be held out for final evaluation, but the validation set is no longer needed when doing CV. In the basic approach, called k-fold CV, the training set is split into k smaller sets (other approaches are described below, but generally follow the same principles). The following procedure is followed for each of the k “folds”:\n",
    "\n",
    "> A model is trained using  of the folds as training data;\n",
    "the resulting model is validated on the remaining part of the data (i.e., it is used as a test set to compute a performance measure such as accuracy).\n",
    "The performance measure reported by k-fold cross-validation is then the average of the values computed in the loop. This approach can be computationally expensive, but does not waste too much data (as is the case when fixing an arbitrary validation set), which is a major advantage in problems such as inverse inference where the number of samples is very small."
   ]
  },
  {
   "cell_type": "markdown",
   "metadata": {},
   "source": [
    "To do this, we first set up a parameter grid with the lists of paramters we want to try:"
   ]
  },
  {
   "cell_type": "code",
   "execution_count": 28,
   "metadata": {},
   "outputs": [],
   "source": [
    "param_grid = {\n",
    "                 'n_estimators': [5, 10, 15, 20, 25],\n",
    "                 'max_depth': [2, 5, 7, 9],\n",
    "             }"
   ]
  },
  {
   "cell_type": "code",
   "execution_count": 29,
   "metadata": {},
   "outputs": [],
   "source": [
    "from sklearn.model_selection import GridSearchCV"
   ]
  },
  {
   "cell_type": "markdown",
   "metadata": {},
   "source": [
    "We now run the cross-validation on the classifier:"
   ]
  },
  {
   "cell_type": "code",
   "execution_count": 30,
   "metadata": {},
   "outputs": [
    {
     "data": {
      "text/plain": [
       "GridSearchCV(cv=10, error_score='raise-deprecating',\n",
       "       estimator=RandomForestClassifier(bootstrap=True, class_weight=None, criterion='entropy',\n",
       "            max_depth=None, max_features='auto', max_leaf_nodes=None,\n",
       "            min_impurity_decrease=0.0, min_impurity_split=None,\n",
       "            min_samples_leaf=1, min_samples_split=2,\n",
       "            min_weight_fraction_leaf=0.0, n_estimators=10, n_jobs=None,\n",
       "            oob_score=True, random_state=None, verbose=0, warm_start=False),\n",
       "       fit_params=None, iid='warn', n_jobs=None,\n",
       "       param_grid={'n_estimators': [5, 10, 15, 20, 25], 'max_depth': [2, 5, 7, 9]},\n",
       "       pre_dispatch='2*n_jobs', refit=True, return_train_score='warn',\n",
       "       scoring=None, verbose=0)"
      ]
     },
     "execution_count": 30,
     "metadata": {},
     "output_type": "execute_result"
    }
   ],
   "source": [
    "grid_clf = GridSearchCV(rf_model, param_grid, cv=10)\n",
    "grid_clf.fit(df_iris_train.ix[:,:4],df_iris_train.species)"
   ]
  },
  {
   "cell_type": "markdown",
   "metadata": {},
   "source": [
    "and extract the best model:"
   ]
  },
  {
   "cell_type": "code",
   "execution_count": 31,
   "metadata": {},
   "outputs": [
    {
     "data": {
      "text/plain": [
       "RandomForestClassifier(bootstrap=True, class_weight=None, criterion='entropy',\n",
       "            max_depth=2, max_features='auto', max_leaf_nodes=None,\n",
       "            min_impurity_decrease=0.0, min_impurity_split=None,\n",
       "            min_samples_leaf=1, min_samples_split=2,\n",
       "            min_weight_fraction_leaf=0.0, n_estimators=25, n_jobs=None,\n",
       "            oob_score=True, random_state=None, verbose=0, warm_start=False)"
      ]
     },
     "execution_count": 31,
     "metadata": {},
     "output_type": "execute_result"
    }
   ],
   "source": [
    "grid_clf.best_estimator_"
   ]
  },
  {
   "cell_type": "code",
   "execution_count": 32,
   "metadata": {},
   "outputs": [
    {
     "data": {
      "text/plain": [
       "{'max_depth': 2, 'n_estimators': 25}"
      ]
     },
     "execution_count": 32,
     "metadata": {},
     "output_type": "execute_result"
    }
   ],
   "source": [
    "grid_clf.best_params_"
   ]
  },
  {
   "cell_type": "markdown",
   "metadata": {},
   "source": [
    "In case we want the details of the accuracy of each setting:"
   ]
  },
  {
   "cell_type": "code",
   "execution_count": 33,
   "metadata": {},
   "outputs": [
    {
     "data": {
      "text/plain": [
       "{'mean_fit_time': array([0.00618234, 0.00847714, 0.01146798, 0.01326535, 0.0163563 ,\n",
       "        0.00498676, 0.00787821, 0.01087065, 0.01386273, 0.0178529 ,\n",
       "        0.00479023, 0.00797496, 0.01156754, 0.01416233, 0.01745055,\n",
       "        0.00439072, 0.00797977, 0.01087229, 0.01456115, 0.01705148]),\n",
       " 'std_fit_time': array([0.00124488, 0.00050353, 0.00080346, 0.00063881, 0.0007978 ,\n",
       "        0.00109269, 0.00053578, 0.00069849, 0.00029918, 0.00157396,\n",
       "        0.00040074, 0.00043984, 0.00048834, 0.00039888, 0.00066777,\n",
       "        0.0004922 , 0.00063132, 0.00030119, 0.00111206, 0.00053521]),\n",
       " 'mean_score_time': array([0.00149884, 0.00119927, 0.00149674, 0.00199382, 0.00229385,\n",
       "        0.00149703, 0.00129652, 0.00169594, 0.00189495, 0.00239315,\n",
       "        0.00109661, 0.00169711, 0.00149775, 0.00189736, 0.00199752,\n",
       "        0.00119662, 0.00129335, 0.00149558, 0.00189517, 0.00219502]),\n",
       " 'std_score_time': array([4.99266621e-04, 3.98037864e-04, 4.98011098e-04, 1.71942613e-06,\n",
       "        4.57147435e-04, 4.99589404e-04, 4.57163146e-04, 4.57367329e-04,\n",
       "        2.99215393e-04, 4.87580278e-04, 2.99341476e-04, 4.57961837e-04,\n",
       "        4.97820460e-04, 3.00204789e-04, 6.80458487e-06, 4.00805799e-04,\n",
       "        4.53957202e-04, 4.99565754e-04, 5.35974993e-04, 3.96788248e-04]),\n",
       " 'param_max_depth': masked_array(data=[2, 2, 2, 2, 2, 5, 5, 5, 5, 5, 7, 7, 7, 7, 7, 9, 9, 9,\n",
       "                    9, 9],\n",
       "              mask=[False, False, False, False, False, False, False, False,\n",
       "                    False, False, False, False, False, False, False, False,\n",
       "                    False, False, False, False],\n",
       "        fill_value='?',\n",
       "             dtype=object),\n",
       " 'param_n_estimators': masked_array(data=[5, 10, 15, 20, 25, 5, 10, 15, 20, 25, 5, 10, 15, 20,\n",
       "                    25, 5, 10, 15, 20, 25],\n",
       "              mask=[False, False, False, False, False, False, False, False,\n",
       "                    False, False, False, False, False, False, False, False,\n",
       "                    False, False, False, False],\n",
       "        fill_value='?',\n",
       "             dtype=object),\n",
       " 'params': [{'max_depth': 2, 'n_estimators': 5},\n",
       "  {'max_depth': 2, 'n_estimators': 10},\n",
       "  {'max_depth': 2, 'n_estimators': 15},\n",
       "  {'max_depth': 2, 'n_estimators': 20},\n",
       "  {'max_depth': 2, 'n_estimators': 25},\n",
       "  {'max_depth': 5, 'n_estimators': 5},\n",
       "  {'max_depth': 5, 'n_estimators': 10},\n",
       "  {'max_depth': 5, 'n_estimators': 15},\n",
       "  {'max_depth': 5, 'n_estimators': 20},\n",
       "  {'max_depth': 5, 'n_estimators': 25},\n",
       "  {'max_depth': 7, 'n_estimators': 5},\n",
       "  {'max_depth': 7, 'n_estimators': 10},\n",
       "  {'max_depth': 7, 'n_estimators': 15},\n",
       "  {'max_depth': 7, 'n_estimators': 20},\n",
       "  {'max_depth': 7, 'n_estimators': 25},\n",
       "  {'max_depth': 9, 'n_estimators': 5},\n",
       "  {'max_depth': 9, 'n_estimators': 10},\n",
       "  {'max_depth': 9, 'n_estimators': 15},\n",
       "  {'max_depth': 9, 'n_estimators': 20},\n",
       "  {'max_depth': 9, 'n_estimators': 25}],\n",
       " 'split0_test_score': array([1., 1., 1., 1., 1., 1., 1., 1., 1., 1., 1., 1., 1., 1., 1., 1., 1.,\n",
       "        1., 1., 1.]),\n",
       " 'split1_test_score': array([1., 1., 1., 1., 1., 1., 1., 1., 1., 1., 1., 1., 1., 1., 1., 1., 1.,\n",
       "        1., 1., 1.]),\n",
       " 'split2_test_score': array([0.91666667, 0.91666667, 1.        , 0.91666667, 1.        ,\n",
       "        0.91666667, 1.        , 1.        , 0.91666667, 0.91666667,\n",
       "        0.91666667, 0.91666667, 0.91666667, 0.91666667, 0.91666667,\n",
       "        0.91666667, 0.91666667, 0.91666667, 0.91666667, 0.91666667]),\n",
       " 'split3_test_score': array([0.90909091, 0.90909091, 0.90909091, 0.90909091, 1.        ,\n",
       "        0.90909091, 0.90909091, 0.90909091, 0.90909091, 0.90909091,\n",
       "        0.90909091, 0.90909091, 0.90909091, 0.90909091, 0.90909091,\n",
       "        0.90909091, 0.90909091, 0.90909091, 0.90909091, 0.90909091]),\n",
       " 'split4_test_score': array([1.        , 0.90909091, 1.        , 1.        , 1.        ,\n",
       "        1.        , 1.        , 1.        , 1.        , 0.90909091,\n",
       "        1.        , 0.90909091, 1.        , 1.        , 1.        ,\n",
       "        1.        , 1.        , 0.90909091, 1.        , 1.        ]),\n",
       " 'split5_test_score': array([0.9, 0.8, 0.9, 0.8, 0.9, 0.9, 0.8, 0.8, 0.8, 0.8, 0.8, 0.9, 0.9,\n",
       "        0.8, 0.9, 0.9, 0.8, 0.8, 0.8, 0.9]),\n",
       " 'split6_test_score': array([0.9, 0.9, 0.9, 0.9, 0.9, 0.9, 0.9, 0.9, 0.9, 0.9, 0.9, 0.9, 0.9,\n",
       "        0.9, 0.9, 0.9, 0.9, 0.9, 0.9, 0.9]),\n",
       " 'split7_test_score': array([1., 1., 1., 1., 1., 1., 1., 1., 1., 1., 1., 1., 1., 1., 1., 1., 1.,\n",
       "        1., 1., 1.]),\n",
       " 'split8_test_score': array([0.88888889, 0.88888889, 0.88888889, 0.88888889, 0.88888889,\n",
       "        0.88888889, 0.88888889, 0.88888889, 0.88888889, 0.88888889,\n",
       "        0.88888889, 0.88888889, 0.88888889, 0.88888889, 0.88888889,\n",
       "        0.88888889, 0.88888889, 0.88888889, 0.88888889, 0.88888889]),\n",
       " 'split9_test_score': array([0.88888889, 0.88888889, 0.88888889, 0.88888889, 0.88888889,\n",
       "        0.88888889, 0.88888889, 0.88888889, 0.88888889, 0.88888889,\n",
       "        0.88888889, 0.88888889, 0.88888889, 0.88888889, 0.88888889,\n",
       "        0.88888889, 0.88888889, 0.88888889, 0.88888889, 0.88888889]),\n",
       " 'mean_test_score': array([0.94285714, 0.92380952, 0.95238095, 0.93333333, 0.96190476,\n",
       "        0.94285714, 0.94285714, 0.94285714, 0.93333333, 0.92380952,\n",
       "        0.93333333, 0.93333333, 0.94285714, 0.93333333, 0.94285714,\n",
       "        0.94285714, 0.93333333, 0.92380952, 0.93333333, 0.94285714]),\n",
       " 'std_test_score': array([0.0491458 , 0.05998809, 0.05117999, 0.06397901, 0.05069435,\n",
       "        0.0491458 , 0.06692385, 0.06692385, 0.06397901, 0.05998809,\n",
       "        0.06397901, 0.04584727, 0.0491458 , 0.06397901, 0.0491458 ,\n",
       "        0.0491458 , 0.06397901, 0.05998809, 0.06397901, 0.0491458 ]),\n",
       " 'rank_test_score': array([ 3, 18,  2, 11,  1,  3,  3,  3, 11, 18, 11, 11,  3, 11,  3,  3, 11,\n",
       "        18, 11,  3]),\n",
       " 'split0_train_score': array([0.94623656, 0.95698925, 0.93548387, 0.95698925, 0.95698925,\n",
       "        1.        , 0.98924731, 1.        , 1.        , 1.        ,\n",
       "        0.97849462, 1.        , 1.        , 0.98924731, 1.        ,\n",
       "        0.98924731, 1.        , 1.        , 1.        , 0.98924731]),\n",
       " 'split1_train_score': array([0.94623656, 0.95698925, 0.95698925, 0.95698925, 0.93548387,\n",
       "        0.97849462, 0.97849462, 1.        , 1.        , 0.98924731,\n",
       "        0.97849462, 1.        , 0.97849462, 1.        , 1.        ,\n",
       "        0.98924731, 1.        , 1.        , 0.98924731, 1.        ]),\n",
       " 'split2_train_score': array([0.95698925, 0.95698925, 0.95698925, 0.94623656, 0.95698925,\n",
       "        0.98924731, 0.98924731, 1.        , 0.98924731, 0.98924731,\n",
       "        0.96774194, 1.        , 1.        , 1.        , 1.        ,\n",
       "        1.        , 0.97849462, 1.        , 1.        , 1.        ]),\n",
       " 'split3_train_score': array([0.96808511, 0.94680851, 0.96808511, 0.96808511, 0.95744681,\n",
       "        0.9893617 , 0.9893617 , 1.        , 1.        , 1.        ,\n",
       "        0.9787234 , 0.9893617 , 1.        , 1.        , 1.        ,\n",
       "        0.9893617 , 0.9893617 , 0.9787234 , 1.        , 1.        ]),\n",
       " 'split4_train_score': array([0.95744681, 0.94680851, 0.95744681, 0.95744681, 0.94680851,\n",
       "        1.        , 1.        , 0.9893617 , 0.9893617 , 1.        ,\n",
       "        1.        , 1.        , 1.        , 1.        , 1.        ,\n",
       "        0.9787234 , 0.9893617 , 1.        , 1.        , 0.9893617 ]),\n",
       " 'split5_train_score': array([0.96842105, 0.97894737, 0.94736842, 0.97894737, 0.95789474,\n",
       "        0.98947368, 1.        , 1.        , 1.        , 1.        ,\n",
       "        0.98947368, 0.98947368, 1.        , 1.        , 0.98947368,\n",
       "        0.98947368, 1.        , 1.        , 1.        , 1.        ]),\n",
       " 'split6_train_score': array([0.96842105, 0.95789474, 0.95789474, 0.96842105, 0.96842105,\n",
       "        0.97894737, 0.97894737, 0.98947368, 1.        , 1.        ,\n",
       "        1.        , 1.        , 0.98947368, 0.98947368, 1.        ,\n",
       "        0.98947368, 1.        , 1.        , 1.        , 1.        ]),\n",
       " 'split7_train_score': array([0.9375    , 0.95833333, 0.95833333, 0.96875   , 0.95833333,\n",
       "        0.98958333, 0.98958333, 0.98958333, 0.97916667, 1.        ,\n",
       "        0.98958333, 0.98958333, 1.        , 0.98958333, 1.        ,\n",
       "        0.98958333, 1.        , 1.        , 1.        , 1.        ]),\n",
       " 'split8_train_score': array([0.97916667, 0.96875   , 0.96875   , 0.94791667, 0.96875   ,\n",
       "        1.        , 0.97916667, 1.        , 1.        , 1.        ,\n",
       "        0.98958333, 1.        , 0.98958333, 1.        , 1.        ,\n",
       "        0.97916667, 0.98958333, 1.        , 1.        , 1.        ]),\n",
       " 'split9_train_score': array([0.96875   , 0.95833333, 0.96875   , 0.96875   , 0.95833333,\n",
       "        0.97916667, 0.98958333, 1.        , 1.        , 1.        ,\n",
       "        0.98958333, 0.98958333, 1.        , 1.        , 1.        ,\n",
       "        0.98958333, 1.        , 1.        , 1.        , 1.        ]),\n",
       " 'mean_train_score': array([0.95972531, 0.95868435, 0.95760908, 0.96185321, 0.95654501,\n",
       "        0.98942747, 0.98836317, 0.99684187, 0.99577757, 0.99784946,\n",
       "        0.98616783, 0.99580021, 0.99575516, 0.99683043, 0.99894737,\n",
       "        0.98838604, 0.99468014, 0.99787234, 0.99892473, 0.9978609 ]),\n",
       " 'std_train_score': array([0.01245417, 0.00896364, 0.00976619, 0.00986993, 0.00915314,\n",
       "        0.00818561, 0.00739588, 0.00482437, 0.00696083, 0.00430108,\n",
       "        0.00970192, 0.005144  , 0.00708241, 0.0048422 , 0.00315789,\n",
       "        0.00566494, 0.00717165, 0.00638298, 0.00322581, 0.00427827])}"
      ]
     },
     "execution_count": 33,
     "metadata": {},
     "output_type": "execute_result"
    }
   ],
   "source": [
    "grid_clf.cv_results_"
   ]
  },
  {
   "cell_type": "markdown",
   "metadata": {},
   "source": [
    "# 3. Naive Bayes\n",
    "\n",
    "## 3.1 Train a Naive Bayes Classifier\n",
    "\n",
    "We will first explore using Gaussian Naive Bayes model to classify irises into either \"setosa\" or \"not setosa\".\n",
    "\n",
    "When you train a classifier, you need to think about the following three basic questions:\n",
    "- What is the prediction objective?\n",
    "- What are the possible classes?\n",
    "- What are the features?\n",
    "\n",
    "In this example, the answers to the above questions are:\n",
    "- To predict whether an iris instance is setosa or not.\n",
    "- Two possible classes: \"setosa\" and \"not setosa\".\n",
    "- Features: \n",
    "  - petal_length only (for the demonstration)\n",
    "  - petal_length and petal_width (for the exercise)"
   ]
  },
  {
   "cell_type": "markdown",
   "metadata": {},
   "source": [
    "### <font color=\"magenta\">Question 3:</font>\n",
    "Construct the class labels\n",
    "create a new column called 'is_setosa' that's set to 'setosa' if the species is setosa and 'not_setosa' \n",
    "if it's not.\n"
   ]
  },
  {
   "cell_type": "code",
   "execution_count": 41,
   "metadata": {
    "collapsed": true
   },
   "outputs": [
    {
     "data": {
      "text/html": [
       "<div>\n",
       "<style scoped>\n",
       "    .dataframe tbody tr th:only-of-type {\n",
       "        vertical-align: middle;\n",
       "    }\n",
       "\n",
       "    .dataframe tbody tr th {\n",
       "        vertical-align: top;\n",
       "    }\n",
       "\n",
       "    .dataframe thead th {\n",
       "        text-align: right;\n",
       "    }\n",
       "</style>\n",
       "<table border=\"1\" class=\"dataframe\">\n",
       "  <thead>\n",
       "    <tr style=\"text-align: right;\">\n",
       "      <th></th>\n",
       "      <th>sepal_length</th>\n",
       "      <th>sepal_width</th>\n",
       "      <th>petal_length</th>\n",
       "      <th>petal_width</th>\n",
       "      <th>species</th>\n",
       "      <th>is_setosa</th>\n",
       "    </tr>\n",
       "  </thead>\n",
       "  <tbody>\n",
       "    <tr>\n",
       "      <th>101</th>\n",
       "      <td>5.8</td>\n",
       "      <td>2.7</td>\n",
       "      <td>5.1</td>\n",
       "      <td>1.9</td>\n",
       "      <td>virginica</td>\n",
       "      <td>not_setosa</td>\n",
       "    </tr>\n",
       "    <tr>\n",
       "      <th>94</th>\n",
       "      <td>5.6</td>\n",
       "      <td>2.7</td>\n",
       "      <td>4.2</td>\n",
       "      <td>1.3</td>\n",
       "      <td>versicolor</td>\n",
       "      <td>not_setosa</td>\n",
       "    </tr>\n",
       "    <tr>\n",
       "      <th>78</th>\n",
       "      <td>6.0</td>\n",
       "      <td>2.9</td>\n",
       "      <td>4.5</td>\n",
       "      <td>1.5</td>\n",
       "      <td>versicolor</td>\n",
       "      <td>not_setosa</td>\n",
       "    </tr>\n",
       "    <tr>\n",
       "      <th>110</th>\n",
       "      <td>6.5</td>\n",
       "      <td>3.2</td>\n",
       "      <td>5.1</td>\n",
       "      <td>2.0</td>\n",
       "      <td>virginica</td>\n",
       "      <td>not_setosa</td>\n",
       "    </tr>\n",
       "    <tr>\n",
       "      <th>107</th>\n",
       "      <td>7.3</td>\n",
       "      <td>2.9</td>\n",
       "      <td>6.3</td>\n",
       "      <td>1.8</td>\n",
       "      <td>virginica</td>\n",
       "      <td>not_setosa</td>\n",
       "    </tr>\n",
       "  </tbody>\n",
       "</table>\n",
       "</div>"
      ],
      "text/plain": [
       "     sepal_length  sepal_width  petal_length  petal_width     species  \\\n",
       "101           5.8          2.7           5.1          1.9   virginica   \n",
       "94            5.6          2.7           4.2          1.3  versicolor   \n",
       "78            6.0          2.9           4.5          1.5  versicolor   \n",
       "110           6.5          3.2           5.1          2.0   virginica   \n",
       "107           7.3          2.9           6.3          1.8   virginica   \n",
       "\n",
       "      is_setosa  \n",
       "101  not_setosa  \n",
       "94   not_setosa  \n",
       "78   not_setosa  \n",
       "110  not_setosa  \n",
       "107  not_setosa  "
      ]
     },
     "execution_count": 41,
     "metadata": {},
     "output_type": "execute_result"
    }
   ],
   "source": [
    "df_iris_train['is_setosa'] = 'not_setosa'\n",
    "\n",
    "for index, row in df_iris_train.iterrows():\n",
    "    if row.species == 'setosa':\n",
    "        df_iris_train.at[index, 'is_setosa'] = 'setosa'\n",
    "df_iris_train.head()"
   ]
  },
  {
   "cell_type": "code",
   "execution_count": 45,
   "metadata": {},
   "outputs": [
    {
     "data": {
      "text/html": [
       "<div>\n",
       "<style scoped>\n",
       "    .dataframe tbody tr th:only-of-type {\n",
       "        vertical-align: middle;\n",
       "    }\n",
       "\n",
       "    .dataframe tbody tr th {\n",
       "        vertical-align: top;\n",
       "    }\n",
       "\n",
       "    .dataframe thead th {\n",
       "        text-align: right;\n",
       "    }\n",
       "</style>\n",
       "<table border=\"1\" class=\"dataframe\">\n",
       "  <thead>\n",
       "    <tr style=\"text-align: right;\">\n",
       "      <th></th>\n",
       "      <th>sepal_length</th>\n",
       "      <th>sepal_width</th>\n",
       "      <th>petal_length</th>\n",
       "      <th>petal_width</th>\n",
       "      <th>species</th>\n",
       "      <th>predicted_label_tree</th>\n",
       "      <th>predicted_rf_tree</th>\n",
       "      <th>predicted_nb</th>\n",
       "      <th>is_setosa</th>\n",
       "    </tr>\n",
       "  </thead>\n",
       "  <tbody>\n",
       "    <tr>\n",
       "      <th>126</th>\n",
       "      <td>6.2</td>\n",
       "      <td>2.8</td>\n",
       "      <td>4.8</td>\n",
       "      <td>1.8</td>\n",
       "      <td>virginica</td>\n",
       "      <td>virginica</td>\n",
       "      <td>virginica</td>\n",
       "      <td>not_setosa</td>\n",
       "      <td>not_setosa</td>\n",
       "    </tr>\n",
       "    <tr>\n",
       "      <th>43</th>\n",
       "      <td>5.0</td>\n",
       "      <td>3.5</td>\n",
       "      <td>1.6</td>\n",
       "      <td>0.6</td>\n",
       "      <td>setosa</td>\n",
       "      <td>setosa</td>\n",
       "      <td>setosa</td>\n",
       "      <td>setosa</td>\n",
       "      <td>setosa</td>\n",
       "    </tr>\n",
       "    <tr>\n",
       "      <th>33</th>\n",
       "      <td>5.5</td>\n",
       "      <td>4.2</td>\n",
       "      <td>1.4</td>\n",
       "      <td>0.2</td>\n",
       "      <td>setosa</td>\n",
       "      <td>setosa</td>\n",
       "      <td>setosa</td>\n",
       "      <td>not_setosa</td>\n",
       "      <td>setosa</td>\n",
       "    </tr>\n",
       "    <tr>\n",
       "      <th>119</th>\n",
       "      <td>6.0</td>\n",
       "      <td>2.2</td>\n",
       "      <td>5.0</td>\n",
       "      <td>1.5</td>\n",
       "      <td>virginica</td>\n",
       "      <td>virginica</td>\n",
       "      <td>versicolor</td>\n",
       "      <td>not_setosa</td>\n",
       "      <td>not_setosa</td>\n",
       "    </tr>\n",
       "    <tr>\n",
       "      <th>58</th>\n",
       "      <td>6.6</td>\n",
       "      <td>2.9</td>\n",
       "      <td>4.6</td>\n",
       "      <td>1.3</td>\n",
       "      <td>versicolor</td>\n",
       "      <td>versicolor</td>\n",
       "      <td>versicolor</td>\n",
       "      <td>not_setosa</td>\n",
       "      <td>not_setosa</td>\n",
       "    </tr>\n",
       "  </tbody>\n",
       "</table>\n",
       "</div>"
      ],
      "text/plain": [
       "     sepal_length  sepal_width  petal_length  petal_width     species  \\\n",
       "126           6.2          2.8           4.8          1.8   virginica   \n",
       "43            5.0          3.5           1.6          0.6      setosa   \n",
       "33            5.5          4.2           1.4          0.2      setosa   \n",
       "119           6.0          2.2           5.0          1.5   virginica   \n",
       "58            6.6          2.9           4.6          1.3  versicolor   \n",
       "\n",
       "    predicted_label_tree predicted_rf_tree predicted_nb   is_setosa  \n",
       "126            virginica         virginica   not_setosa  not_setosa  \n",
       "43                setosa            setosa       setosa      setosa  \n",
       "33                setosa            setosa   not_setosa      setosa  \n",
       "119            virginica        versicolor   not_setosa  not_setosa  \n",
       "58            versicolor        versicolor   not_setosa  not_setosa  "
      ]
     },
     "execution_count": 45,
     "metadata": {},
     "output_type": "execute_result"
    }
   ],
   "source": [
    "df_iris_test['is_setosa'] = 'not_setosa'\n",
    "\n",
    "for index, row in df_iris_test.iterrows():\n",
    "    if row.species == 'setosa':\n",
    "        df_iris_test.at[index, 'is_setosa'] = 'setosa'\n",
    "df_iris_test.head()"
   ]
  },
  {
   "cell_type": "markdown",
   "metadata": {},
   "source": [
    "With the class labels ready, let's build a Naive Bayes model. We start with a model that takes only one feature, sepal_length."
   ]
  },
  {
   "cell_type": "code",
   "execution_count": 42,
   "metadata": {
    "collapsed": true
   },
   "outputs": [
    {
     "data": {
      "text/plain": [
       "GaussianNB(priors=None, var_smoothing=1e-09)"
      ]
     },
     "execution_count": 42,
     "metadata": {},
     "output_type": "execute_result"
    }
   ],
   "source": [
    "# train the model\n",
    "gnb_model = sknb.GaussianNB()\n",
    "# given sepal length, predict if setosa\n",
    "gnb_model.fit(df_iris_train[['sepal_length']],df_iris_train['is_setosa'])"
   ]
  },
  {
   "cell_type": "markdown",
   "metadata": {},
   "source": [
    "Now we use the model to make predictions on the test dataset."
   ]
  },
  {
   "cell_type": "code",
   "execution_count": 43,
   "metadata": {
    "collapsed": true
   },
   "outputs": [],
   "source": [
    "# test the model\n",
    "y_pred = gnb_model.predict(df_iris_test[['sepal_length']])\n",
    "df_iris_test['predicted_nb'] = y_pred"
   ]
  },
  {
   "cell_type": "code",
   "execution_count": 46,
   "metadata": {
    "collapsed": true
   },
   "outputs": [
    {
     "data": {
      "image/png": "[encoded data removed]",
      "text/plain": [
       "<Figure size 745.605x288 with 2 Axes>"
      ]
     },
     "metadata": {
      "needs_background": "light"
     },
     "output_type": "display_data"
    }
   ],
   "source": [
    "comparePlot(df_iris_test,\"is_setosa\",\"predicted_nb\")"
   ]
  },
  {
   "cell_type": "markdown",
   "metadata": {},
   "source": [
    "### <font color=\"magenta\">Question 4: Repeat the above steps using petal_length and petal_width as the features.</font>"
   ]
  },
  {
   "cell_type": "code",
   "execution_count": 61,
   "metadata": {},
   "outputs": [
    {
     "ename": "TypeError",
     "evalue": "comparePlot() missing 2 required positional arguments: 'x_axis' and 'y_axis'",
     "output_type": "error",
     "traceback": [
      "\u001b[1;31m---------------------------------------------------------------------------\u001b[0m",
      "\u001b[1;31mTypeError\u001b[0m                                 Traceback (most recent call last)",
      "\u001b[1;32m<ipython-input-61-aac3e639a78f>\u001b[0m in \u001b[0;36m<module>\u001b[1;34m\u001b[0m\n\u001b[0;32m      2\u001b[0m \u001b[0my_pred\u001b[0m \u001b[1;33m=\u001b[0m \u001b[0mgnb_model\u001b[0m\u001b[1;33m.\u001b[0m\u001b[0mpredict\u001b[0m\u001b[1;33m(\u001b[0m\u001b[0mdf_iris_test\u001b[0m\u001b[1;33m[\u001b[0m\u001b[1;33m[\u001b[0m\u001b[1;34m'petal_length'\u001b[0m\u001b[1;33m]\u001b[0m\u001b[1;33m]\u001b[0m\u001b[1;33m)\u001b[0m\u001b[1;33m\u001b[0m\u001b[1;33m\u001b[0m\u001b[0m\n\u001b[0;32m      3\u001b[0m \u001b[0mdf_iris_test\u001b[0m\u001b[1;33m.\u001b[0m\u001b[0mpredicted_nb\u001b[0m \u001b[1;33m=\u001b[0m \u001b[0my_pred\u001b[0m\u001b[1;33m\u001b[0m\u001b[1;33m\u001b[0m\u001b[0m\n\u001b[1;32m----> 4\u001b[1;33m \u001b[0mcomparePlot\u001b[0m\u001b[1;33m(\u001b[0m\u001b[0mdf_iris_test\u001b[0m\u001b[1;33m,\u001b[0m \u001b[1;34m'is_setosa'\u001b[0m\u001b[1;33m,\u001b[0m \u001b[1;34m'predicted_nb'\u001b[0m\u001b[1;33m)\u001b[0m\u001b[1;33m\u001b[0m\u001b[1;33m\u001b[0m\u001b[0m\n\u001b[0m",
      "\u001b[1;31mTypeError\u001b[0m: comparePlot() missing 2 required positional arguments: 'x_axis' and 'y_axis'"
     ]
    }
   ],
   "source": [
    "gnb_model.fit(df_iris_train[['petal_length']], df_iris_train[['is_setosa']])\n",
    "y_pred = gnb_model.predict(df_iris_test[['petal_length']])\n",
    "df_iris_test.predicted_nb = y_pred\n",
    "comparePlot(df_iris_test, 'is_setosa', 'predicted_nb')"
   ]
  },
  {
   "cell_type": "code",
   "execution_count": 52,
   "metadata": {},
   "outputs": [
    {
     "data": {
      "image/png": "[encoded data removed]",
      "text/plain": [
       "<Figure size 745.605x288 with 2 Axes>"
      ]
     },
     "metadata": {
      "needs_background": "light"
     },
     "output_type": "display_data"
    }
   ],
   "source": [
    "gnb_model.fit(df_iris_train[['petal_width']], df_iris_train[['is_setosa']])\n",
    "y_pred = gnb_model.predict(df_iris_test[['petal_width']])\n",
    "df_iris_test.predicted_nb = y_pred\n",
    "comparePlot(df_iris_test, 'is_setosa', 'predicted_nb')"
   ]
  },
  {
   "cell_type": "markdown",
   "metadata": {},
   "source": [
    "# BREAK"
   ]
  },
  {
   "cell_type": "markdown",
   "metadata": {},
   "source": [
    "### <font color=\"magenta\">Question 5: On Your Own</font>"
   ]
  },
  {
   "cell_type": "markdown",
   "metadata": {},
   "source": [
    "The data is related with direct marketing campaigns (phone calls) of a Portuguese banking institution. The classification goal is to predict if the client will subscribe a term deposit (variable y).\n",
    "\n"
   ]
  },
  {
   "cell_type": "markdown",
   "metadata": {},
   "source": [
    "https://github.com/madmashup/targeted-marketing-predictive-engine"
   ]
  },
  {
   "cell_type": "markdown",
   "metadata": {},
   "source": [
    "Input variables\n",
    "\n",
    "* age (numeric)\n",
    "* job : type of job (categorical: “admin”, “blue-collar”, “entrepreneur”, “housemaid”, “management”, “retired”, “self-employed”, “services”, “student”, “technician”, “unemployed”, “unknown”)\n",
    "* marital : marital status (categorical: “divorced”, “married”, “single”, “unknown”)\n",
    "* education (categorical: “basic.4y”, “basic.6y”, “basic.9y”, “high.school”, “illiterate”, “professional.course”, “university.degree”, “unknown”)\n",
    "* default: has credit in default? (categorical: “no”, “yes”, “unknown”)\n",
    "* housing: has housing loan? (categorical: “no”, “yes”, “unknown”)\n",
    "* loan: has personal loan? (categorical: “no”, “yes”, “unknown”)\n",
    "* contact: contact communication type (categorical: “cellular”, “telephone”)\n",
    "* month: last contact month of year (categorical: “jan”, “feb”, “mar”, …, “nov”, “dec”)\n",
    "* day_of_week: last contact day of the week (categorical: “mon”, “tue”, “wed”, “thu”, “fri”)\n",
    "* duration: last contact duration, in seconds (numeric). **Important note: this attribute highly affects the output target (e.g., if duration=0 then y=’no’). The duration is not known before a call is performed, also, after the end of the call, y is obviously known. Thus, this input should only be included for benchmark purposes and should be discarded if the intention is to have a realistic predictive model**\n",
    "* campaign: number of contacts performed during this campaign and for this client (numeric, includes last contact)\n",
    "* pdays: number of days that passed by after the client was last contacted from a previous campaign (numeric; 999 means client was not previously contacted)\n",
    "* previous: number of contacts performed before this campaign and for this client (numeric)\n",
    "* poutcome: outcome of the previous marketing campaign (categorical: “failure”, “nonexistent”, “success”)\n",
    "* emp.var.rate: employment variation rate — (numeric)\n",
    "* cons.price.idx: consumer price index — (numeric)\n",
    "* cons.conf.idx: consumer confidence index — (numeric)\n",
    "* euribor3m: euribor 3 month rate — (numeric)\n",
    "* nr.employed: number of employees — (numeric)\n",
    "\n",
    "    Predict variable (desired target):\n",
    "\n",
    "y — has the client subscribed a term deposit? (binary: “1”, means “Yes”, “0” means “No”)\n",
    "m\n",
    "The education column of the dataset has many categories and we need to reduce the categories for a better modelling. The education column has the following categories:\n",
    "\n",
    "\n",
    "Let us group “basic.4y”, “basic.9y” and “basic.6y” together and call them “basic”.\n",
    "\n"
   ]
  },
  {
   "cell_type": "markdown",
   "metadata": {},
   "source": [
    "Here is a list of tasks that you need to complete:\n",
    "\n",
    "1. Read the 'data/banking.csv' file into a dataframe and drop the \"duration\" column (see above)\n",
    "\n",
    "2. The education column has multiple entries that are very similar. Let's group “basic.4y”, “basic.9y” and “basic.6y” together and call them “basic”.\n",
    "\n",
    "3. Use get_dummies() to \"one-hot encode\" the categorical variables (think carefully about how you handle drop_first).\n",
    "\n",
    "4. Split the dataset into training and testing datasets.  We used 70-30 in the above examples; you might want to use the same or something different.  \n",
    "\n",
    "5. Create a random forest classifier for ```y```.  Use all the features in the dataset. Use 10 decision trees and use 'entropy' as the criterion.  Fit the model to your training data set.\n",
    "\n",
    "6. Add a column of predicted labels to the test dataset based on your predictions from the random forest classifier you fitted in the previous step.\n",
    "\n",
    "7. Report the accuracy of your model.\n",
    "\n",
    "8. Extract the feature importances from your model and plot them in a bar chart.  Identify the most important features in your model.\n",
    "\n",
    "9. Tune your random forest model by varying the number of decision trees (n_estimators) and tree depth (max_depth).  Report the best hyperparameters and the accuracy obtained by using those hyperparameters.\n",
    "\n",
    "10. ~~Compare the results of your best random forest model with a (Gaussian) Naive Bayes model.  How much better is the random forest model?~~\n",
    "\n"
   ]
  },
  {
   "cell_type": "code",
   "execution_count": 57,
   "metadata": {},
   "outputs": [],
   "source": [
    "import pandas as pd"
   ]
  },
  {
   "cell_type": "code",
   "execution_count": 62,
   "metadata": {},
   "outputs": [],
   "source": [
    "banking = pd.read_csv('data/banking.csv')\n",
    "banking.drop(labels = 'duration', axis = 1, inplace = True)"
   ]
  },
  {
   "cell_type": "code",
   "execution_count": 63,
   "metadata": {},
   "outputs": [
    {
     "data": {
      "text/html": [
       "<div>\n",
       "<style scoped>\n",
       "    .dataframe tbody tr th:only-of-type {\n",
       "        vertical-align: middle;\n",
       "    }\n",
       "\n",
       "    .dataframe tbody tr th {\n",
       "        vertical-align: top;\n",
       "    }\n",
       "\n",
       "    .dataframe thead th {\n",
       "        text-align: right;\n",
       "    }\n",
       "</style>\n",
       "<table border=\"1\" class=\"dataframe\">\n",
       "  <thead>\n",
       "    <tr style=\"text-align: right;\">\n",
       "      <th></th>\n",
       "      <th>age</th>\n",
       "      <th>job</th>\n",
       "      <th>marital</th>\n",
       "      <th>education</th>\n",
       "      <th>default</th>\n",
       "      <th>housing</th>\n",
       "      <th>loan</th>\n",
       "      <th>contact</th>\n",
       "      <th>month</th>\n",
       "      <th>day_of_week</th>\n",
       "      <th>campaign</th>\n",
       "      <th>pdays</th>\n",
       "      <th>previous</th>\n",
       "      <th>poutcome</th>\n",
       "      <th>emp_var_rate</th>\n",
       "      <th>cons_price_idx</th>\n",
       "      <th>cons_conf_idx</th>\n",
       "      <th>euribor3m</th>\n",
       "      <th>nr_employed</th>\n",
       "      <th>y</th>\n",
       "    </tr>\n",
       "  </thead>\n",
       "  <tbody>\n",
       "    <tr>\n",
       "      <th>0</th>\n",
       "      <td>44</td>\n",
       "      <td>blue-collar</td>\n",
       "      <td>married</td>\n",
       "      <td>basic.4y</td>\n",
       "      <td>unknown</td>\n",
       "      <td>yes</td>\n",
       "      <td>no</td>\n",
       "      <td>cellular</td>\n",
       "      <td>aug</td>\n",
       "      <td>thu</td>\n",
       "      <td>1</td>\n",
       "      <td>999</td>\n",
       "      <td>0</td>\n",
       "      <td>nonexistent</td>\n",
       "      <td>1.4</td>\n",
       "      <td>93.444</td>\n",
       "      <td>-36.1</td>\n",
       "      <td>4.963</td>\n",
       "      <td>5228.1</td>\n",
       "      <td>0</td>\n",
       "    </tr>\n",
       "    <tr>\n",
       "      <th>1</th>\n",
       "      <td>53</td>\n",
       "      <td>technician</td>\n",
       "      <td>married</td>\n",
       "      <td>unknown</td>\n",
       "      <td>no</td>\n",
       "      <td>no</td>\n",
       "      <td>no</td>\n",
       "      <td>cellular</td>\n",
       "      <td>nov</td>\n",
       "      <td>fri</td>\n",
       "      <td>1</td>\n",
       "      <td>999</td>\n",
       "      <td>0</td>\n",
       "      <td>nonexistent</td>\n",
       "      <td>-0.1</td>\n",
       "      <td>93.200</td>\n",
       "      <td>-42.0</td>\n",
       "      <td>4.021</td>\n",
       "      <td>5195.8</td>\n",
       "      <td>0</td>\n",
       "    </tr>\n",
       "    <tr>\n",
       "      <th>2</th>\n",
       "      <td>28</td>\n",
       "      <td>management</td>\n",
       "      <td>single</td>\n",
       "      <td>university.degree</td>\n",
       "      <td>no</td>\n",
       "      <td>yes</td>\n",
       "      <td>no</td>\n",
       "      <td>cellular</td>\n",
       "      <td>jun</td>\n",
       "      <td>thu</td>\n",
       "      <td>3</td>\n",
       "      <td>6</td>\n",
       "      <td>2</td>\n",
       "      <td>success</td>\n",
       "      <td>-1.7</td>\n",
       "      <td>94.055</td>\n",
       "      <td>-39.8</td>\n",
       "      <td>0.729</td>\n",
       "      <td>4991.6</td>\n",
       "      <td>1</td>\n",
       "    </tr>\n",
       "    <tr>\n",
       "      <th>3</th>\n",
       "      <td>39</td>\n",
       "      <td>services</td>\n",
       "      <td>married</td>\n",
       "      <td>high.school</td>\n",
       "      <td>no</td>\n",
       "      <td>no</td>\n",
       "      <td>no</td>\n",
       "      <td>cellular</td>\n",
       "      <td>apr</td>\n",
       "      <td>fri</td>\n",
       "      <td>2</td>\n",
       "      <td>999</td>\n",
       "      <td>0</td>\n",
       "      <td>nonexistent</td>\n",
       "      <td>-1.8</td>\n",
       "      <td>93.075</td>\n",
       "      <td>-47.1</td>\n",
       "      <td>1.405</td>\n",
       "      <td>5099.1</td>\n",
       "      <td>0</td>\n",
       "    </tr>\n",
       "    <tr>\n",
       "      <th>4</th>\n",
       "      <td>55</td>\n",
       "      <td>retired</td>\n",
       "      <td>married</td>\n",
       "      <td>basic.4y</td>\n",
       "      <td>no</td>\n",
       "      <td>yes</td>\n",
       "      <td>no</td>\n",
       "      <td>cellular</td>\n",
       "      <td>aug</td>\n",
       "      <td>fri</td>\n",
       "      <td>1</td>\n",
       "      <td>3</td>\n",
       "      <td>1</td>\n",
       "      <td>success</td>\n",
       "      <td>-2.9</td>\n",
       "      <td>92.201</td>\n",
       "      <td>-31.4</td>\n",
       "      <td>0.869</td>\n",
       "      <td>5076.2</td>\n",
       "      <td>1</td>\n",
       "    </tr>\n",
       "  </tbody>\n",
       "</table>\n",
       "</div>"
      ],
      "text/plain": [
       "   age          job  marital          education  default housing loan  \\\n",
       "0   44  blue-collar  married           basic.4y  unknown     yes   no   \n",
       "1   53   technician  married            unknown       no      no   no   \n",
       "2   28   management   single  university.degree       no     yes   no   \n",
       "3   39     services  married        high.school       no      no   no   \n",
       "4   55      retired  married           basic.4y       no     yes   no   \n",
       "\n",
       "    contact month day_of_week  campaign  pdays  previous     poutcome  \\\n",
       "0  cellular   aug         thu         1    999         0  nonexistent   \n",
       "1  cellular   nov         fri         1    999         0  nonexistent   \n",
       "2  cellular   jun         thu         3      6         2      success   \n",
       "3  cellular   apr         fri         2    999         0  nonexistent   \n",
       "4  cellular   aug         fri         1      3         1      success   \n",
       "\n",
       "   emp_var_rate  cons_price_idx  cons_conf_idx  euribor3m  nr_employed  y  \n",
       "0           1.4          93.444          -36.1      4.963       5228.1  0  \n",
       "1          -0.1          93.200          -42.0      4.021       5195.8  0  \n",
       "2          -1.7          94.055          -39.8      0.729       4991.6  1  \n",
       "3          -1.8          93.075          -47.1      1.405       5099.1  0  \n",
       "4          -2.9          92.201          -31.4      0.869       5076.2  1  "
      ]
     },
     "execution_count": 63,
     "metadata": {},
     "output_type": "execute_result"
    }
   ],
   "source": [
    "banking.head()"
   ]
  },
  {
   "cell_type": "code",
   "execution_count": 70,
   "metadata": {},
   "outputs": [],
   "source": [
    "import re\n",
    "\n",
    "for index, row in banking.iterrows():\n",
    "    if re.match(r'^basic', row.education):\n",
    "        banking.at[index, 'education'] = 'basic'"
   ]
  },
  {
   "cell_type": "code",
   "execution_count": 72,
   "metadata": {},
   "outputs": [
    {
     "data": {
      "text/html": [
       "<div>\n",
       "<style scoped>\n",
       "    .dataframe tbody tr th:only-of-type {\n",
       "        vertical-align: middle;\n",
       "    }\n",
       "\n",
       "    .dataframe tbody tr th {\n",
       "        vertical-align: top;\n",
       "    }\n",
       "\n",
       "    .dataframe thead th {\n",
       "        text-align: right;\n",
       "    }\n",
       "</style>\n",
       "<table border=\"1\" class=\"dataframe\">\n",
       "  <thead>\n",
       "    <tr style=\"text-align: right;\">\n",
       "      <th></th>\n",
       "      <th>age</th>\n",
       "      <th>job</th>\n",
       "      <th>marital</th>\n",
       "      <th>education</th>\n",
       "      <th>default</th>\n",
       "      <th>housing</th>\n",
       "      <th>loan</th>\n",
       "      <th>contact</th>\n",
       "      <th>month</th>\n",
       "      <th>day_of_week</th>\n",
       "      <th>campaign</th>\n",
       "      <th>pdays</th>\n",
       "      <th>previous</th>\n",
       "      <th>poutcome</th>\n",
       "      <th>emp_var_rate</th>\n",
       "      <th>cons_price_idx</th>\n",
       "      <th>cons_conf_idx</th>\n",
       "      <th>euribor3m</th>\n",
       "      <th>nr_employed</th>\n",
       "      <th>y</th>\n",
       "    </tr>\n",
       "  </thead>\n",
       "  <tbody>\n",
       "    <tr>\n",
       "      <th>0</th>\n",
       "      <td>44</td>\n",
       "      <td>blue-collar</td>\n",
       "      <td>married</td>\n",
       "      <td>basic</td>\n",
       "      <td>unknown</td>\n",
       "      <td>yes</td>\n",
       "      <td>no</td>\n",
       "      <td>cellular</td>\n",
       "      <td>aug</td>\n",
       "      <td>thu</td>\n",
       "      <td>1</td>\n",
       "      <td>999</td>\n",
       "      <td>0</td>\n",
       "      <td>nonexistent</td>\n",
       "      <td>1.4</td>\n",
       "      <td>93.444</td>\n",
       "      <td>-36.1</td>\n",
       "      <td>4.963</td>\n",
       "      <td>5228.1</td>\n",
       "      <td>0</td>\n",
       "    </tr>\n",
       "    <tr>\n",
       "      <th>1</th>\n",
       "      <td>53</td>\n",
       "      <td>technician</td>\n",
       "      <td>married</td>\n",
       "      <td>unknown</td>\n",
       "      <td>no</td>\n",
       "      <td>no</td>\n",
       "      <td>no</td>\n",
       "      <td>cellular</td>\n",
       "      <td>nov</td>\n",
       "      <td>fri</td>\n",
       "      <td>1</td>\n",
       "      <td>999</td>\n",
       "      <td>0</td>\n",
       "      <td>nonexistent</td>\n",
       "      <td>-0.1</td>\n",
       "      <td>93.200</td>\n",
       "      <td>-42.0</td>\n",
       "      <td>4.021</td>\n",
       "      <td>5195.8</td>\n",
       "      <td>0</td>\n",
       "    </tr>\n",
       "    <tr>\n",
       "      <th>2</th>\n",
       "      <td>28</td>\n",
       "      <td>management</td>\n",
       "      <td>single</td>\n",
       "      <td>university.degree</td>\n",
       "      <td>no</td>\n",
       "      <td>yes</td>\n",
       "      <td>no</td>\n",
       "      <td>cellular</td>\n",
       "      <td>jun</td>\n",
       "      <td>thu</td>\n",
       "      <td>3</td>\n",
       "      <td>6</td>\n",
       "      <td>2</td>\n",
       "      <td>success</td>\n",
       "      <td>-1.7</td>\n",
       "      <td>94.055</td>\n",
       "      <td>-39.8</td>\n",
       "      <td>0.729</td>\n",
       "      <td>4991.6</td>\n",
       "      <td>1</td>\n",
       "    </tr>\n",
       "    <tr>\n",
       "      <th>3</th>\n",
       "      <td>39</td>\n",
       "      <td>services</td>\n",
       "      <td>married</td>\n",
       "      <td>high.school</td>\n",
       "      <td>no</td>\n",
       "      <td>no</td>\n",
       "      <td>no</td>\n",
       "      <td>cellular</td>\n",
       "      <td>apr</td>\n",
       "      <td>fri</td>\n",
       "      <td>2</td>\n",
       "      <td>999</td>\n",
       "      <td>0</td>\n",
       "      <td>nonexistent</td>\n",
       "      <td>-1.8</td>\n",
       "      <td>93.075</td>\n",
       "      <td>-47.1</td>\n",
       "      <td>1.405</td>\n",
       "      <td>5099.1</td>\n",
       "      <td>0</td>\n",
       "    </tr>\n",
       "    <tr>\n",
       "      <th>4</th>\n",
       "      <td>55</td>\n",
       "      <td>retired</td>\n",
       "      <td>married</td>\n",
       "      <td>basic</td>\n",
       "      <td>no</td>\n",
       "      <td>yes</td>\n",
       "      <td>no</td>\n",
       "      <td>cellular</td>\n",
       "      <td>aug</td>\n",
       "      <td>fri</td>\n",
       "      <td>1</td>\n",
       "      <td>3</td>\n",
       "      <td>1</td>\n",
       "      <td>success</td>\n",
       "      <td>-2.9</td>\n",
       "      <td>92.201</td>\n",
       "      <td>-31.4</td>\n",
       "      <td>0.869</td>\n",
       "      <td>5076.2</td>\n",
       "      <td>1</td>\n",
       "    </tr>\n",
       "  </tbody>\n",
       "</table>\n",
       "</div>"
      ],
      "text/plain": [
       "   age          job  marital          education  default housing loan  \\\n",
       "0   44  blue-collar  married              basic  unknown     yes   no   \n",
       "1   53   technician  married            unknown       no      no   no   \n",
       "2   28   management   single  university.degree       no     yes   no   \n",
       "3   39     services  married        high.school       no      no   no   \n",
       "4   55      retired  married              basic       no     yes   no   \n",
       "\n",
       "    contact month day_of_week  campaign  pdays  previous     poutcome  \\\n",
       "0  cellular   aug         thu         1    999         0  nonexistent   \n",
       "1  cellular   nov         fri         1    999         0  nonexistent   \n",
       "2  cellular   jun         thu         3      6         2      success   \n",
       "3  cellular   apr         fri         2    999         0  nonexistent   \n",
       "4  cellular   aug         fri         1      3         1      success   \n",
       "\n",
       "   emp_var_rate  cons_price_idx  cons_conf_idx  euribor3m  nr_employed  y  \n",
       "0           1.4          93.444          -36.1      4.963       5228.1  0  \n",
       "1          -0.1          93.200          -42.0      4.021       5195.8  0  \n",
       "2          -1.7          94.055          -39.8      0.729       4991.6  1  \n",
       "3          -1.8          93.075          -47.1      1.405       5099.1  0  \n",
       "4          -2.9          92.201          -31.4      0.869       5076.2  1  "
      ]
     },
     "execution_count": 72,
     "metadata": {},
     "output_type": "execute_result"
    }
   ],
   "source": [
    "banking.head()"
   ]
  },
  {
   "cell_type": "markdown",
   "metadata": {},
   "source": [
    "**NOTE**: We need to use .get_dummies() to one-hot encode the data"
   ]
  },
  {
   "cell_type": "code",
   "execution_count": 74,
   "metadata": {},
   "outputs": [
    {
     "data": {
      "text/html": [
       "<div>\n",
       "<style scoped>\n",
       "    .dataframe tbody tr th:only-of-type {\n",
       "        vertical-align: middle;\n",
       "    }\n",
       "\n",
       "    .dataframe tbody tr th {\n",
       "        vertical-align: top;\n",
       "    }\n",
       "\n",
       "    .dataframe thead th {\n",
       "        text-align: right;\n",
       "    }\n",
       "</style>\n",
       "<table border=\"1\" class=\"dataframe\">\n",
       "  <thead>\n",
       "    <tr style=\"text-align: right;\">\n",
       "      <th></th>\n",
       "      <th>age</th>\n",
       "      <th>campaign</th>\n",
       "      <th>pdays</th>\n",
       "      <th>previous</th>\n",
       "      <th>emp_var_rate</th>\n",
       "      <th>cons_price_idx</th>\n",
       "      <th>cons_conf_idx</th>\n",
       "      <th>euribor3m</th>\n",
       "      <th>nr_employed</th>\n",
       "      <th>y</th>\n",
       "      <th>...</th>\n",
       "      <th>month_oct</th>\n",
       "      <th>month_sep</th>\n",
       "      <th>day_of_week_fri</th>\n",
       "      <th>day_of_week_mon</th>\n",
       "      <th>day_of_week_thu</th>\n",
       "      <th>day_of_week_tue</th>\n",
       "      <th>day_of_week_wed</th>\n",
       "      <th>poutcome_failure</th>\n",
       "      <th>poutcome_nonexistent</th>\n",
       "      <th>poutcome_success</th>\n",
       "    </tr>\n",
       "  </thead>\n",
       "  <tbody>\n",
       "    <tr>\n",
       "      <th>0</th>\n",
       "      <td>44</td>\n",
       "      <td>1</td>\n",
       "      <td>999</td>\n",
       "      <td>0</td>\n",
       "      <td>1.4</td>\n",
       "      <td>93.444</td>\n",
       "      <td>-36.1</td>\n",
       "      <td>4.963</td>\n",
       "      <td>5228.1</td>\n",
       "      <td>0</td>\n",
       "      <td>...</td>\n",
       "      <td>0</td>\n",
       "      <td>0</td>\n",
       "      <td>0</td>\n",
       "      <td>0</td>\n",
       "      <td>1</td>\n",
       "      <td>0</td>\n",
       "      <td>0</td>\n",
       "      <td>0</td>\n",
       "      <td>1</td>\n",
       "      <td>0</td>\n",
       "    </tr>\n",
       "    <tr>\n",
       "      <th>1</th>\n",
       "      <td>53</td>\n",
       "      <td>1</td>\n",
       "      <td>999</td>\n",
       "      <td>0</td>\n",
       "      <td>-0.1</td>\n",
       "      <td>93.200</td>\n",
       "      <td>-42.0</td>\n",
       "      <td>4.021</td>\n",
       "      <td>5195.8</td>\n",
       "      <td>0</td>\n",
       "      <td>...</td>\n",
       "      <td>0</td>\n",
       "      <td>0</td>\n",
       "      <td>1</td>\n",
       "      <td>0</td>\n",
       "      <td>0</td>\n",
       "      <td>0</td>\n",
       "      <td>0</td>\n",
       "      <td>0</td>\n",
       "      <td>1</td>\n",
       "      <td>0</td>\n",
       "    </tr>\n",
       "    <tr>\n",
       "      <th>2</th>\n",
       "      <td>28</td>\n",
       "      <td>3</td>\n",
       "      <td>6</td>\n",
       "      <td>2</td>\n",
       "      <td>-1.7</td>\n",
       "      <td>94.055</td>\n",
       "      <td>-39.8</td>\n",
       "      <td>0.729</td>\n",
       "      <td>4991.6</td>\n",
       "      <td>1</td>\n",
       "      <td>...</td>\n",
       "      <td>0</td>\n",
       "      <td>0</td>\n",
       "      <td>0</td>\n",
       "      <td>0</td>\n",
       "      <td>1</td>\n",
       "      <td>0</td>\n",
       "      <td>0</td>\n",
       "      <td>0</td>\n",
       "      <td>0</td>\n",
       "      <td>1</td>\n",
       "    </tr>\n",
       "    <tr>\n",
       "      <th>3</th>\n",
       "      <td>39</td>\n",
       "      <td>2</td>\n",
       "      <td>999</td>\n",
       "      <td>0</td>\n",
       "      <td>-1.8</td>\n",
       "      <td>93.075</td>\n",
       "      <td>-47.1</td>\n",
       "      <td>1.405</td>\n",
       "      <td>5099.1</td>\n",
       "      <td>0</td>\n",
       "      <td>...</td>\n",
       "      <td>0</td>\n",
       "      <td>0</td>\n",
       "      <td>1</td>\n",
       "      <td>0</td>\n",
       "      <td>0</td>\n",
       "      <td>0</td>\n",
       "      <td>0</td>\n",
       "      <td>0</td>\n",
       "      <td>1</td>\n",
       "      <td>0</td>\n",
       "    </tr>\n",
       "    <tr>\n",
       "      <th>4</th>\n",
       "      <td>55</td>\n",
       "      <td>1</td>\n",
       "      <td>3</td>\n",
       "      <td>1</td>\n",
       "      <td>-2.9</td>\n",
       "      <td>92.201</td>\n",
       "      <td>-31.4</td>\n",
       "      <td>0.869</td>\n",
       "      <td>5076.2</td>\n",
       "      <td>1</td>\n",
       "      <td>...</td>\n",
       "      <td>0</td>\n",
       "      <td>0</td>\n",
       "      <td>1</td>\n",
       "      <td>0</td>\n",
       "      <td>0</td>\n",
       "      <td>0</td>\n",
       "      <td>0</td>\n",
       "      <td>0</td>\n",
       "      <td>0</td>\n",
       "      <td>1</td>\n",
       "    </tr>\n",
       "  </tbody>\n",
       "</table>\n",
       "<p>5 rows × 61 columns</p>\n",
       "</div>"
      ],
      "text/plain": [
       "   age  campaign  pdays  previous  emp_var_rate  cons_price_idx  \\\n",
       "0   44         1    999         0           1.4          93.444   \n",
       "1   53         1    999         0          -0.1          93.200   \n",
       "2   28         3      6         2          -1.7          94.055   \n",
       "3   39         2    999         0          -1.8          93.075   \n",
       "4   55         1      3         1          -2.9          92.201   \n",
       "\n",
       "   cons_conf_idx  euribor3m  nr_employed  y  ...  month_oct  month_sep  \\\n",
       "0          -36.1      4.963       5228.1  0  ...          0          0   \n",
       "1          -42.0      4.021       5195.8  0  ...          0          0   \n",
       "2          -39.8      0.729       4991.6  1  ...          0          0   \n",
       "3          -47.1      1.405       5099.1  0  ...          0          0   \n",
       "4          -31.4      0.869       5076.2  1  ...          0          0   \n",
       "\n",
       "   day_of_week_fri  day_of_week_mon  day_of_week_thu  day_of_week_tue  \\\n",
       "0                0                0                1                0   \n",
       "1                1                0                0                0   \n",
       "2                0                0                1                0   \n",
       "3                1                0                0                0   \n",
       "4                1                0                0                0   \n",
       "\n",
       "   day_of_week_wed  poutcome_failure  poutcome_nonexistent  poutcome_success  \n",
       "0                0                 0                     1                 0  \n",
       "1                0                 0                     1                 0  \n",
       "2                0                 0                     0                 1  \n",
       "3                0                 0                     1                 0  \n",
       "4                0                 0                     0                 1  \n",
       "\n",
       "[5 rows x 61 columns]"
      ]
     },
     "execution_count": 74,
     "metadata": {},
     "output_type": "execute_result"
    }
   ],
   "source": [
    "banking_final = pd.get_dummies(banking)\n",
    "banking_final.head()"
   ]
  },
  {
   "cell_type": "code",
   "execution_count": 92,
   "metadata": {},
   "outputs": [],
   "source": [
    "banking_final_train, banking_final_test = train_test_split(banking_final, test_size = 0.2, shuffle = False)"
   ]
  },
  {
   "cell_type": "code",
   "execution_count": 93,
   "metadata": {},
   "outputs": [
    {
     "data": {
      "text/plain": [
       "Index(['age', 'campaign', 'pdays', 'previous', 'emp_var_rate',\n",
       "       'cons_price_idx', 'cons_conf_idx', 'euribor3m', 'nr_employed', 'y',\n",
       "       'job_admin.', 'job_blue-collar', 'job_entrepreneur', 'job_housemaid',\n",
       "       'job_management', 'job_retired', 'job_self-employed', 'job_services',\n",
       "       'job_student', 'job_technician', 'job_unemployed', 'job_unknown',\n",
       "       'marital_divorced', 'marital_married', 'marital_single',\n",
       "       'marital_unknown', 'education_basic', 'education_high.school',\n",
       "       'education_illiterate', 'education_professional.course',\n",
       "       'education_university.degree', 'education_unknown', 'default_no',\n",
       "       'default_unknown', 'default_yes', 'housing_no', 'housing_unknown',\n",
       "       'housing_yes', 'loan_no', 'loan_unknown', 'loan_yes',\n",
       "       'contact_cellular', 'contact_telephone', 'month_apr', 'month_aug',\n",
       "       'month_dec', 'month_jul', 'month_jun', 'month_mar', 'month_may',\n",
       "       'month_nov', 'month_oct', 'month_sep', 'day_of_week_fri',\n",
       "       'day_of_week_mon', 'day_of_week_thu', 'day_of_week_tue',\n",
       "       'day_of_week_wed', 'poutcome_failure', 'poutcome_nonexistent',\n",
       "       'poutcome_success'],\n",
       "      dtype='object')"
      ]
     },
     "execution_count": 93,
     "metadata": {},
     "output_type": "execute_result"
    }
   ],
   "source": [
    "banking_final_train.columns"
   ]
  },
  {
   "cell_type": "code",
   "execution_count": 94,
   "metadata": {},
   "outputs": [
    {
     "data": {
      "text/plain": [
       "RandomForestClassifier(bootstrap=True, class_weight=None, criterion='entropy',\n",
       "            max_depth=None, max_features='auto', max_leaf_nodes=None,\n",
       "            min_impurity_decrease=0.0, min_impurity_split=None,\n",
       "            min_samples_leaf=1, min_samples_split=2,\n",
       "            min_weight_fraction_leaf=0.0, n_estimators=10, n_jobs=None,\n",
       "            oob_score=True, random_state=None, verbose=0, warm_start=False)"
      ]
     },
     "execution_count": 94,
     "metadata": {},
     "output_type": "execute_result"
    }
   ],
   "source": [
    "bank_model = skens.RandomForestClassifier(n_estimators=10,oob_score=True, criterion='entropy')\n",
    "bank_model.fit(banking_final_train.iloc[:,banking_final_train.columns != 'y'], banking_final_train.y)"
   ]
  },
  {
   "cell_type": "code",
   "execution_count": 96,
   "metadata": {},
   "outputs": [
    {
     "data": {
      "text/plain": [
       "0.892571012381646"
      ]
     },
     "execution_count": 96,
     "metadata": {},
     "output_type": "execute_result"
    }
   ],
   "source": [
    "pred = bank_model.predict(banking_final_test.iloc[:,banking_final_train.columns != 'y'])\n",
    "banking_final_test['pred'] = pred\n",
    "len(banking_final_test[banking_final_test.y == banking_final_test.pred]) / len(banking_final_test)"
   ]
  },
  {
   "cell_type": "code",
   "execution_count": 104,
   "metadata": {},
   "outputs": [
    {
     "data": {
      "text/plain": [
       "<matplotlib.axes._subplots.AxesSubplot at 0x2041ca91940>"
      ]
     },
     "execution_count": 104,
     "metadata": {},
     "output_type": "execute_result"
    },
    {
     "data": {
      "image/png": "[encoded data removed]",
      "text/plain": [
       "<Figure size 432x288 with 1 Axes>"
      ]
     },
     "metadata": {
      "needs_background": "light"
     },
     "output_type": "display_data"
    }
   ],
   "source": [
    "feat_importance = bank_model.feature_importances_\n",
    "feat = pd.DataFrame({'Feature Importance':feat_importance},\n",
    "            index=banking_final_train.iloc[:,banking_final_train.columns != 'y'].columns)\n",
    "feat.sort_values(by = 'Feature Importance', ascending = False).head(10).plot(kind = 'barh')"
   ]
  },
  {
   "cell_type": "code",
   "execution_count": 105,
   "metadata": {},
   "outputs": [
    {
     "data": {
      "text/plain": [
       "GridSearchCV(cv=10, error_score='raise-deprecating',\n",
       "       estimator=RandomForestClassifier(bootstrap=True, class_weight=None, criterion='entropy',\n",
       "            max_depth=None, max_features='auto', max_leaf_nodes=None,\n",
       "            min_impurity_decrease=0.0, min_impurity_split=None,\n",
       "            min_samples_leaf=1, min_samples_split=2,\n",
       "            min_weight_fraction_leaf=0.0, n_estimators=10, n_jobs=None,\n",
       "            oob_score=True, random_state=None, verbose=0, warm_start=False),\n",
       "       fit_params=None, iid='warn', n_jobs=None,\n",
       "       param_grid={'n_estimators': [5, 10, 15, 20, 25], 'max_depth': [2, 5, 7, 9]},\n",
       "       pre_dispatch='2*n_jobs', refit=True, return_train_score='warn',\n",
       "       scoring=None, verbose=0)"
      ]
     },
     "execution_count": 105,
     "metadata": {},
     "output_type": "execute_result"
    }
   ],
   "source": [
    "param_grid = {\n",
    "                 'n_estimators': [5, 10, 15, 20, 25],\n",
    "                 'max_depth': [2, 5, 7, 9],\n",
    "             }\n",
    "grid_clf = GridSearchCV(bank_model, param_grid, cv=10)\n",
    "grid_clf.fit(banking_final_train.iloc[:,banking_final_train.columns != 'y'], banking_final_train.y)"
   ]
  },
  {
   "cell_type": "code",
   "execution_count": 109,
   "metadata": {},
   "outputs": [
    {
     "data": {
      "text/plain": [
       "0.892571012381646"
      ]
     },
     "execution_count": 109,
     "metadata": {},
     "output_type": "execute_result"
    }
   ],
   "source": [
    "grid_pred = bank_model.predict(banking_final_test.iloc[:,banking_final_train.columns != 'y'])\n",
    "banking_final_test['grid_pred'] = grid_pred\n",
    "len(banking_final_test[banking_final_test.y == banking_final_test.grid_pred]) / len(banking_final_test)"
   ]
  },
  {
   "cell_type": "code",
   "execution_count": 106,
   "metadata": {},
   "outputs": [
    {
     "data": {
      "text/plain": [
       "RandomForestClassifier(bootstrap=True, class_weight=None, criterion='entropy',\n",
       "            max_depth=9, max_features='auto', max_leaf_nodes=None,\n",
       "            min_impurity_decrease=0.0, min_impurity_split=None,\n",
       "            min_samples_leaf=1, min_samples_split=2,\n",
       "            min_weight_fraction_leaf=0.0, n_estimators=20, n_jobs=None,\n",
       "            oob_score=True, random_state=None, verbose=0, warm_start=False)"
      ]
     },
     "execution_count": 106,
     "metadata": {},
     "output_type": "execute_result"
    }
   ],
   "source": [
    "grid_clf.best_estimator_"
   ]
  },
  {
   "cell_type": "code",
   "execution_count": 107,
   "metadata": {},
   "outputs": [
    {
     "data": {
      "text/plain": [
       "{'max_depth': 9, 'n_estimators': 20}"
      ]
     },
     "execution_count": 107,
     "metadata": {},
     "output_type": "execute_result"
    }
   ],
   "source": [
    "grid_clf.best_params_"
   ]
  }
 ],
 "metadata": {
  "kernelspec": {
   "display_name": "Python 3",
   "language": "python",
   "name": "python3"
  },
  "language_info": {
   "codemirror_mode": {
    "name": "ipython",
    "version": 3
   },
   "file_extension": ".py",
   "mimetype": "text/x-python",
   "name": "python",
   "nbconvert_exporter": "python",
   "pygments_lexer": "ipython3",
   "version": "3.7.1"
  }
 },
 "nbformat": 4,
 "nbformat_minor": 2
}
