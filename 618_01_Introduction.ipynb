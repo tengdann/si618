{
 "cells": [
  {
   "cell_type": "markdown",
   "metadata": {
    "slideshow": {
     "slide_type": "slide"
    }
   },
   "source": [
    "# SI 618: Data Manipulation and Analysis\n",
    "## 01 - Introduction\n",
    "### Dr. Chris Teplovs, School of Information, University of Michigan\n",
    "<small><a rel=\"license\" href=\"http://creativecommons.org/licenses/by-nc-sa/4.0/\"><img alt=\"Creative Commons License\" style=\"border-width:0\" src=\"https://i.creativecommons.org/l/by-nc-sa/4.0/88x31.png\" /></a>This work is licensed under a <a rel=\"license\" href=\"http://creativecommons.org/licenses/by-nc-sa/4.0/\">Creative Commons Attribution-NonCommercial-ShareAlike 4.0 International License</a>."
   ]
  },
  {
   "cell_type": "markdown",
   "metadata": {
    "slideshow": {
     "slide_type": "slide"
    }
   },
   "source": [
    "# Overview of Today\n",
    "* Teaching team introductions\n",
    "* Why this course?\n",
    "* What you’ll learn\n",
    "* Syllabus walk-through\n",
    "* Introduction to Data Manipulation\n",
    "* Introduction to Anaconda and Jupyter Notebooks"
   ]
  },
  {
   "cell_type": "markdown",
   "metadata": {
    "slideshow": {
     "slide_type": "slide"
    }
   },
   "source": [
    "# About your instructor: Dr. Chris Teplovs\n",
    "* Originally from Canada (and currently  ",
    "living there)\n",
    "* Ph.D. in Curriculum, Teaching and Learning  ",
    "from the University of Toronto\n",
    "* Postdoctoral Fellow at Copenhagen Business School\n",
    "* Visiting Associate Research Professor, École Normale Supérieure de Cachan, France\n",
    "* Lead Developer, Office of Academic Innovation\n",
    "* Lecturer & Research Scientist, School of Information"
   ]
  },
  {
   "cell_type": "markdown",
   "metadata": {
    "slideshow": {
     "slide_type": "slide"
    }
   },
   "source": [
    "# About the teaching team\n",
    "\n",
    "* Julie Burke\n",
    "* Scott Henry\n",
    "* Scott Zabrowski\n",
    "* Shiyan Yan"
   ]
  },
  {
   "cell_type": "markdown",
   "metadata": {
    "slideshow": {
     "slide_type": "slide"
    }
   },
   "source": [
    "# Icebreaker: Two truths and a lie  \n",
    "1. Think of three statements about yourself. Two must be true statements, and one must be false. \n",
    "1. For each person at your table, you share the three statements (in any order) to the group. \n",
    "1. The goal of the icebreaker game is to determine which statement is false. \n"
   ]
  },
  {
   "cell_type": "markdown",
   "metadata": {
    "slideshow": {
     "slide_type": "slide"
    }
   },
   "source": [
    "# Why this course?\n",
    "\n",
    "* About 80% of initial work on a data science project involves **data manipulation**\n",
    " * accessing, converting, transforming, cleaning, filtering, aggregating, grouping, summarizing\n",
    "* Data analysis is tightly coupled with data manipulation, especially when iterating"
   ]
  },
  {
   "cell_type": "markdown",
   "metadata": {
    "slideshow": {
     "slide_type": "slide"
    }
   },
   "source": [
    "# Exploratory Data Analysis is Detective Work\n",
    "* Tools to find clues, put together a story, identify suspects\n",
    "* Sometimes clues are accidental or misleading…\n",
    " * but it’s critical to find them anyway…\n",
    "   * because overlooking potential clues could be even worse!"
   ]
  },
  {
   "cell_type": "markdown",
   "metadata": {
    "slideshow": {
     "slide_type": "slide"
    }
   },
   "source": [
    "# Goals of Exploratory Data Analysis\n",
    "* Provide simplified descriptions of what’s happening in (possibly) complex data\n",
    "* Look below the surface to get new insights\n",
    "* See interesting behavior through visualization"
   ]
  },
  {
   "cell_type": "markdown",
   "metadata": {
    "slideshow": {
     "slide_type": "slide"
    }
   },
   "source": [
    "# We want surprises!\n",
    "* Exploration & visualization closely linked\n",
    "* We need pictures with impact: the Goldilocks Principle (not too much, not too little, just right)\n",
    "* Make comparisons easy\n"
   ]
  },
  {
   "cell_type": "markdown",
   "metadata": {
    "slideshow": {
     "slide_type": "subslide"
    }
   },
   "source": [
    "![S&P 500 Historical Index](assets/SP500.png)"
   ]
  },
  {
   "cell_type": "markdown",
   "metadata": {
    "slideshow": {
     "slide_type": "slide"
    }
   },
   "source": [
    "# General approach to exploratory data analysis\n",
    "\n",
    "* First, find or define \"normal\"\n",
    "* Then, compute and visualize differences from the normal\n",
    "* If studying an event or property in a dataset\n",
    "* What frequency would you \"normally\" expect?\n",
    "* What was the actual frequency observed, compared to the \"normal\"\n",
    "* Pick visualizations that emphasize those differences"
   ]
  },
  {
   "cell_type": "markdown",
   "metadata": {
    "slideshow": {
     "slide_type": "slide"
    }
   },
   "source": [
    "# Put another way:\n",
    "\n",
    "* You have data -- possibly a lot of it -- in an input format\n",
    "* You need to manipulate (transform, filter, sort, etc.) it\n",
    "* You need to visualize your data\n",
    "* You might need to perform some numerical or other analysis on the data\n",
    "* You might need to store the results"
   ]
  },
  {
   "cell_type": "markdown",
   "metadata": {
    "slideshow": {
     "slide_type": "slide"
    }
   },
   "source": [
    "# Our basic abstraction: the table\n",
    "\n",
    "![table description](assets/table.png)"
   ]
  },
  {
   "cell_type": "markdown",
   "metadata": {
    "slideshow": {
     "slide_type": "subslide"
    }
   },
   "source": [
    "## Table operations\n",
    "* Inserting, updating, and deleting, records (a.k.a. CRUD: Create, Retrieve, Update, Delete)\n",
    "* Selecting records (row subsets)\n",
    "* Filtering records (row subsets)\n",
    "* Sorting records\n",
    "* Slicing records (column subsets)\n",
    "* Chaining these together"
   ]
  },
  {
   "cell_type": "markdown",
   "metadata": {
    "slideshow": {
     "slide_type": "slide"
    }
   },
   "source": [
    "# Skills you'll learn in this course\n",
    "\n",
    "* How to get / read / gather / fetch / crawl data\n",
    "* How to convert data to and from important formats\n",
    "* Basic computation and manipulation of the data, including filtering and sorting\n",
    "* Methods to explore and visualize to gain insights\n",
    "* Applied statistical methods\n",
    "* Machine learning methods\n",
    "* Approaches to handling Big Data"
   ]
  },
  {
   "cell_type": "markdown",
   "metadata": {
    "slideshow": {
     "slide_type": "slide"
    }
   },
   "source": [
    "# Tools you'll learn in this course\n",
    "\n",
    "* Python core functionality\n",
    "* Jupyter notebooks\n",
    "* Python packages\n",
    " * pandas, \n",
    " * matplotlib, seaborn, \n",
    " * scikit-learn, \n",
    " * re, NLTK, gensim, \n",
    " * pyspark"
   ]
  },
  {
   "cell_type": "markdown",
   "metadata": {
    "slideshow": {
     "slide_type": "slide"
    }
   },
   "source": [
    "# Syllabus walk-through\n",
    "\n",
    "[Canvas](https://umich.instructure.com/courses/264741)\n",
    "\n",
    "[Syllabus](https://docs.google.com/document/d/15h38xlL3LPRPvMHGoz5EOG0HY3w_DqBD1ReyDPFYZyg/edit?usp=sharing)\n",
    "\n"
   ]
  },
  {
   "cell_type": "markdown",
   "metadata": {
    "slideshow": {
     "slide_type": "slide"
    }
   },
   "source": [
    "# Class format\n",
    "\n",
    "* meeting face-to-face once a week\n",
    "* series of 12 in-class notebooks\n",
    "* about 5-6 \"segments\" per class\n",
    "* often (but not always): 1st half of class is interactive; 2nd half is traditional \"lab\""
   ]
  },
  {
   "cell_type": "markdown",
   "metadata": {
    "slideshow": {
     "slide_type": "slide"
    }
   },
   "source": [
    "# Late policy\n",
    "* You have 3 penalty-free late days\n",
    "* One late day = one 24-hour period after due date\n",
    "* No fractional late days: all or nothing\n",
    "* 25% penalty per late day after late days used up\n",
    "* You don't need to explain late days\n",
    "* We track them for you\n",
    "* Submit late assignments via Canvas (like usual)"
   ]
  },
  {
   "cell_type": "markdown",
   "metadata": {
    "slideshow": {
     "slide_type": "slide"
    }
   },
   "source": [
    "# Original work policy\n",
    "Unless otherwise specified in an assignment all submitted work must be your own, original work. Any excerpts, statements, or phrases from the work of others must be clearly identified as a quotation, and a proper citation provided. Any violation of the School’s policy on Academic and Professional Integrity (stated in the Master’s and Doctoral Student Handbooks) will result in serious penalties, which might range from failing an assign­ment, to failing a course, to being expelled from the program. Violations of academic and professional integrity will be reported to UMSI Student Affairs. Consequences impacting assignment or course grades are determined by the faculty instructor; additional sanctions may be imposed by the assistant dean for academic and student affairs. "
   ]
  },
  {
   "cell_type": "markdown",
   "metadata": {
    "slideshow": {
     "slide_type": "slide"
    }
   },
   "source": [
    "# Accommodations for students with disabilities\n",
    "If you think you need an accommodation for a disability, please let me know at your earliest convenience. Some aspects of this course, the as­signments, the in-class activities, and the way we teach may be modified to facilitate your participation and progress. As soon as you make me aware of your needs, we can work with the Oﬃce of Services for Students with Disabilities (SSD) to help us determine appropriate accommoda­tions. SSD (734-763-3000; ssd.umich.edu/) typically rec­ommends accommodations through a Verified Individualized Services and Accommodations (VISA) form. I will treat any information that you provide in as confidential a manner as possible. "
   ]
  },
  {
   "cell_type": "markdown",
   "metadata": {
    "slideshow": {
     "slide_type": "slide"
    }
   },
   "source": [
    "# Student mental health and wellbeing\n",
    "The University of Michigan is committed to advancing the mental health and wellbeing of its students, while acknowledging that a variety of issues, such as strained relationships, increased anxiety, alcohol/drug problems, and depression, directly impacts students' academic performance.\n",
    "If you or someone you know is feeling overwhelmed, depressed, and/or in need of support, services are available. For help, contact Counseling and Psychological Services (CAPS) at (734) 764-8312 and https://caps.umich.edu/ during and after hours, on weekends and holidays or through its counselors physically located in schools on both North and Central Campus. You may also consult University Health Service (UHS) at (732) 764-8320 and https://www.uhs.umich.edu/mentalhealthsvcs, or for alcohol or drug concerns, see www.uhs.umich.edu/aodresources."
   ]
  },
  {
   "cell_type": "markdown",
   "metadata": {
    "slideshow": {
     "slide_type": "slide"
    }
   },
   "source": [
    "# Questions?"
   ]
  },
  {
   "cell_type": "markdown",
   "metadata": {
    "slideshow": {
     "slide_type": "slide"
    }
   },
   "source": [
    "# Getting set up\n",
    "* [Canvas](https://umich.instructure.com/courses/267556)\n",
    "* [Slack](https://si618wn2019.slack.com)\n",
    "* Jupyter ([Anaconda](https://www.anaconda.com))\n",
    "* [GitHub](https://github.com/umsi-data-science/si618)\n",
    "* [Kaggle](https://www.kaggle.com/)\n"
   ]
  },
  {
   "cell_type": "markdown",
   "metadata": {
    "slideshow": {
     "slide_type": "subslide"
    }
   },
   "source": [
    "## Canvas\n",
    "* institutional learning management system\n",
    "* you'll find assignments and grades here"
   ]
  },
  {
   "cell_type": "markdown",
   "metadata": {
    "slideshow": {
     "slide_type": "subslide"
    }
   },
   "source": [
    "## Slack\n",
    "\n",
    "* group communication tool\n",
    "* primary communication tool in this course (instead of email)"
   ]
  },
  {
   "cell_type": "markdown",
   "metadata": {
    "slideshow": {
     "slide_type": "subslide"
    }
   },
   "source": [
    "## Jupyter and JupyterLab\n",
    "* What is Jupyter?\n",
    "> The Jupyter Notebook is an open-source web application that allows you to create and share documents that contain live code, equations, visualizations and narrative text.\n"
   ]
  },
  {
   "cell_type": "markdown",
   "metadata": {
    "slideshow": {
     "slide_type": "subslide"
    }
   },
   "source": [
    "## Why Jupyter?\n",
    " * Interactive, reproducible results, literate programming, REPL (read-eval-print loop)\n",
    " * great for data exploration\n",
    " \n",
    "## Why JupyterLab?\n",
    " * next-generation UI for Jupyter"
   ]
  },
  {
   "cell_type": "markdown",
   "metadata": {
    "slideshow": {
     "slide_type": "subslide"
    }
   },
   "source": [
    "## Jupyter and Python\n",
    "\n",
    "* in the beginning: Python\n",
    "* later: IPython\n",
    "* still later: Jupyter notebooks\n",
    " * not just python (R, Julia, etc.)\n",
    "* different from scripting\n",
    "* great for data analysis\n"
   ]
  },
  {
   "cell_type": "markdown",
   "metadata": {
    "slideshow": {
     "slide_type": "subslide"
    }
   },
   "source": [
    "## What's wrong with Jupyter notebooks?\n",
    "* not great for software engineering (see Joel Grus' [\"I don't like notebooks\"](https://docs.google.com/presentation/d/1n2RlMdmv1p25Xy5thJUhkKGvjtV-dkAIsUXP-AL4ffI/edit#slide=id.g362da58057_0_1) presentation)\n"
   ]
  },
  {
   "cell_type": "code",
   "execution_count": 3,
   "metadata": {
    "slideshow": {
     "slide_type": "subslide"
    }
   },
   "outputs": [
    {
     "data": {
      "image/jpeg": "[encoded data removed]",
      "text/html": [
       "\n",
       "        <iframe\n",
       "            width=\"400\"\n",
       "            height=\"300\"\n",
       "            src=\"https://www.youtube.com/embed/7jiPeIFXb6U\"\n",
       "            frameborder=\"0\"\n",
       "            allowfullscreen\n",
       "        ></iframe>\n",
       "        "
      ],
      "text/plain": [
       "<IPython.lib.display.YouTubeVideo at 0x109afc048>"
      ]
     },
     "execution_count": 3,
     "metadata": {},
     "output_type": "execute_result"
    }
   ],
   "source": [
    "from IPython.display import YouTubeVideo\n",
    "# a talk by Joel Grus on why he doesn't like notebooks\n",
    "YouTubeVideo('7jiPeIFXb6U')"
   ]
  },
  {
   "cell_type": "markdown",
   "metadata": {
    "slideshow": {
     "slide_type": "subslide"
    }
   },
   "source": [
    "## GitHub\n",
    "\n",
    "* covered in SI 506 and SI 507\n",
    "* [git installation instructions](https://www.atlassian.com/git/tutorials/install-git)\n",
    "* [si618 repo](https://github.com/umsi-data-science/si618)\n",
    "* nbviewer"
   ]
  },
  {
   "cell_type": "markdown",
   "metadata": {
    "slideshow": {
     "slide_type": "subslide"
    }
   },
   "source": [
    "## Binder\n",
    "* create interactive notebooks from a git repo\n",
    " * technically, it uses [repo2docker](https://github.com/jupyter/repo2docker) to create Docker images from a git repo\n",
    "* useful in case you can't run Jupyter on your laptop"
   ]
  },
  {
   "cell_type": "markdown",
   "metadata": {
    "slideshow": {
     "slide_type": "subslide"
    }
   },
   "source": [
    "## Kaggle\n",
    "* online community for data scientists\n",
    "* facilitates publishing data and \"kernels\"\n",
    "* not only Python\n",
    "* competitions\n",
    "* most of the course datasets are from Kaggle\n",
    "* there will be opportunities for you to publish your work on Kaggle"
   ]
  },
  {
   "cell_type": "markdown",
   "metadata": {
    "slideshow": {
     "slide_type": "slide"
    }
   },
   "source": [
    "## Questions?"
   ]
  },
  {
   "cell_type": "markdown",
   "metadata": {
    "slideshow": {
     "slide_type": "slide"
    }
   },
   "source": [
    "## Next steps\n",
    "1. Take a 10-minute break\n",
    "1. Follow the invitation link to Slack (see Canvas Announcements)\n",
    "1. Install [anaconda](https://www.anaconda.com/download/) (if you haven't already)\n",
    "3. Install git (if you don't already have it) and clone the [si618 GitHub repo](https://github.com/umsi-data-science/si618)\n",
    "2. Start JupyterLab, either from the command line in Terminal (Mac) or PowerShell (Windows) or using Anaconda-Navigator.\n",
    "2. Open today's notebook.\n",
    "4. We'll start working the lab together, share some insights, submit your first notebook for the class, and talk about prepping for next class"
   ]
  },
  {
   "cell_type": "markdown",
   "metadata": {
    "slideshow": {
     "slide_type": "slide"
    }
   },
   "source": [
    "## Learning Objectives\n",
    "\n",
    "* install and run JupyterLab\n",
    "* ensure you can use needed libraries\n",
    "* clone the si618 github repo and make a working copy of the notebook(s) you'll be working on\n",
    "* be able to run a class notebook\n",
    "* write your first code in this class\n",
    "* confirm that you've set up Anaconda, Slack, GitHub\n",
    "* practice submitting an assignment"
   ]
  },
  {
   "cell_type": "markdown",
   "metadata": {
    "slideshow": {
     "slide_type": "slide"
    }
   },
   "source": [
    "### IMPORTANT: Replace ```?``` in the following code with your uniqname."
   ]
  },
  {
   "cell_type": "code",
   "execution_count": 1,
   "metadata": {},
   "outputs": [],
   "source": [
    "MY_UNIQNAME = 'tengdann'"
   ]
  },
  {
   "cell_type": "markdown",
   "metadata": {},
   "source": [
    "Let's answer a couple of questions about the course:"
   ]
  },
  {
   "cell_type": "markdown",
   "metadata": {
    "knowledge_building": {
     "cell_groupid": "g1",
     "cell_id": "1",
     "cell_type": "reflection_question"
    },
    "slideshow": {
     "slide_type": "slide"
    }
   },
   "source": [
    "### <font color=\"magenta\">Q1: (2 points) What are you looking forward to learning in this class?  "
   ]
  },
  {
   "cell_type": "markdown",
   "metadata": {
    "knowledge_building": {
     "cell_id": "d01-q01",
     "cell_type": "reflection_answer"
    }
   },
   "source": [
    "Learning the methods of data manipulation, and exploring data analysis. Especially machine learning techniques and handling big data."
   ]
  },
  {
   "cell_type": "markdown",
   "metadata": {
    "knowledge_building": {
     "cell_groupid": "g2",
     "cell_id": "3",
     "cell_type": "reflection_question"
    },
    "slideshow": {
     "slide_type": "slide"
    }
   },
   "source": [
    "### <font color=\"magenta\">Q2: (2 points) What are you most concerned about in this class?"
   ]
  },
  {
   "cell_type": "markdown",
   "metadata": {
    "knowledge_building": {
     "cell_id": "d01-q02",
     "cell_type": "reflection_answer"
    }
   },
   "source": [
    "Getting Anaconda and other technical programs working properly."
   ]
  },
  {
   "cell_type": "markdown",
   "metadata": {
    "knowledge_building": {
     "cell_id": "d01-q03",
     "cell_type": "reflection_answer"
    },
    "slideshow": {
     "slide_type": "slide"
    }
   },
   "source": [
    "### <font color=\"magenta\">Q3: (4 points) Setup confirmation</font>\n",
    "\n",
    "Answer the following:\n",
    "\n",
    "* Do you have access to the [Canvas](https://umich.instructure.com/courses/267556) site?\n",
    " \n",
    " Yes.\n",
    " \n",
    "* Do you have access to the [Slack](https://si618wn2019.slack.com) site?\n",
    " \n",
    " Yes.\n",
    " \n",
    "* Have you installed Jupyter ([Anaconda](https://www.anaconda.com))?  What version of Python are you using?  What version of Jupyter lab are you using?\n",
    " \n",
    " Yes. 3.7.0. 0.35.3.\n",
    "\n",
    "* Were you able to clone the [course repo]((https://github.com/umsi-data-science/si618)) on GitHub?  Do you have a GitHub account (we recommend that you get one)?  What's the URL to your GitHub user page?\n",
    "\n",
    " Yes. Yes. https://github.com/tengdann\n",
    "\n",
    "* Did you set up a [Kaggle](https://www.kaggle.com/) account?  What's the URL to your Kaggle user account?\n",
    " \n",
    " Yes. https://www.kaggle.com/tengdann\n"
   ]
  },
  {
   "cell_type": "markdown",
   "metadata": {
    "slideshow": {
     "slide_type": "skip"
    }
   },
   "source": [
    "First, let's load the pandas library (which we'll cover in more detail next time):"
   ]
  },
  {
   "cell_type": "code",
   "execution_count": 1,
   "metadata": {
    "scrolled": true,
    "slideshow": {
     "slide_type": "slide"
    }
   },
   "outputs": [],
   "source": [
    "import pandas as pd"
   ]
  },
  {
   "cell_type": "markdown",
   "metadata": {
    "slideshow": {
     "slide_type": "skip"
    }
   },
   "source": [
    "Execute the next block . You will see what the DataFrame looks like. It includes the number of births for each name/gender combination for each year. \"df_\" means DataFrame."
   ]
  },
  {
   "cell_type": "code",
   "execution_count": 2,
   "metadata": {},
   "outputs": [],
   "source": [
    "df_names = pd.read_csv('data/names.csv')"
   ]
  },
  {
   "cell_type": "code",
   "execution_count": 3,
   "metadata": {
    "slideshow": {
     "slide_type": "fragment"
    }
   },
   "outputs": [
    {
     "data": {
      "text/html": [
       "<div>\n",
       "<style scoped>\n",
       "    .dataframe tbody tr th:only-of-type {\n",
       "        vertical-align: middle;\n",
       "    }\n",
       "\n",
       "    .dataframe tbody tr th {\n",
       "        vertical-align: top;\n",
       "    }\n",
       "\n",
       "    .dataframe thead th {\n",
       "        text-align: right;\n",
       "    }\n",
       "</style>\n",
       "<table border=\"1\" class=\"dataframe\">\n",
       "  <thead>\n",
       "    <tr style=\"text-align: right;\">\n",
       "      <th></th>\n",
       "      <th>name</th>\n",
       "      <th>gender</th>\n",
       "      <th>birth_count</th>\n",
       "      <th>year</th>\n",
       "    </tr>\n",
       "  </thead>\n",
       "  <tbody>\n",
       "    <tr>\n",
       "      <th>0</th>\n",
       "      <td>Simeon</td>\n",
       "      <td>M</td>\n",
       "      <td>23</td>\n",
       "      <td>1880</td>\n",
       "    </tr>\n",
       "    <tr>\n",
       "      <th>1</th>\n",
       "      <td>Raoul</td>\n",
       "      <td>M</td>\n",
       "      <td>7</td>\n",
       "      <td>1880</td>\n",
       "    </tr>\n",
       "    <tr>\n",
       "      <th>2</th>\n",
       "      <td>Lou</td>\n",
       "      <td>M</td>\n",
       "      <td>14</td>\n",
       "      <td>1880</td>\n",
       "    </tr>\n",
       "    <tr>\n",
       "      <th>3</th>\n",
       "      <td>Myra</td>\n",
       "      <td>F</td>\n",
       "      <td>83</td>\n",
       "      <td>1880</td>\n",
       "    </tr>\n",
       "    <tr>\n",
       "      <th>4</th>\n",
       "      <td>Alois</td>\n",
       "      <td>M</td>\n",
       "      <td>10</td>\n",
       "      <td>1880</td>\n",
       "    </tr>\n",
       "  </tbody>\n",
       "</table>\n",
       "</div>"
      ],
      "text/plain": [
       "     name gender  birth_count  year\n",
       "0  Simeon      M           23  1880\n",
       "1   Raoul      M            7  1880\n",
       "2     Lou      M           14  1880\n",
       "3    Myra      F           83  1880\n",
       "4   Alois      M           10  1880"
      ]
     },
     "execution_count": 3,
     "metadata": {},
     "output_type": "execute_result"
    }
   ],
   "source": [
    "df_names.head()"
   ]
  },
  {
   "cell_type": "markdown",
   "metadata": {
    "slideshow": {
     "slide_type": "skip"
    }
   },
   "source": [
    "We want to visualize the number of births of a specific baby name (e.g., \"Mike\") across the years. First, execute the following code to select birth records just for male babies named \"Mike\"."
   ]
  },
  {
   "cell_type": "code",
   "execution_count": 4,
   "metadata": {
    "slideshow": {
     "slide_type": "subslide"
    }
   },
   "outputs": [],
   "source": [
    "df_mike = df_names[(df_names.name == 'Mike') & (df_names.gender == 'M')]"
   ]
  },
  {
   "cell_type": "code",
   "execution_count": 5,
   "metadata": {
    "slideshow": {
     "slide_type": "fragment"
    }
   },
   "outputs": [
    {
     "data": {
      "text/html": [
       "<div>\n",
       "<style scoped>\n",
       "    .dataframe tbody tr th:only-of-type {\n",
       "        vertical-align: middle;\n",
       "    }\n",
       "\n",
       "    .dataframe tbody tr th {\n",
       "        vertical-align: top;\n",
       "    }\n",
       "\n",
       "    .dataframe thead th {\n",
       "        text-align: right;\n",
       "    }\n",
       "</style>\n",
       "<table border=\"1\" class=\"dataframe\">\n",
       "  <thead>\n",
       "    <tr style=\"text-align: right;\">\n",
       "      <th></th>\n",
       "      <th>name</th>\n",
       "      <th>gender</th>\n",
       "      <th>birth_count</th>\n",
       "      <th>year</th>\n",
       "    </tr>\n",
       "  </thead>\n",
       "  <tbody>\n",
       "    <tr>\n",
       "      <th>159</th>\n",
       "      <td>Mike</td>\n",
       "      <td>M</td>\n",
       "      <td>95</td>\n",
       "      <td>1880</td>\n",
       "    </tr>\n",
       "    <tr>\n",
       "      <th>2741</th>\n",
       "      <td>Mike</td>\n",
       "      <td>M</td>\n",
       "      <td>44</td>\n",
       "      <td>1881</td>\n",
       "    </tr>\n",
       "    <tr>\n",
       "      <th>5448</th>\n",
       "      <td>Mike</td>\n",
       "      <td>M</td>\n",
       "      <td>89</td>\n",
       "      <td>1882</td>\n",
       "    </tr>\n",
       "    <tr>\n",
       "      <th>7883</th>\n",
       "      <td>Mike</td>\n",
       "      <td>M</td>\n",
       "      <td>73</td>\n",
       "      <td>1883</td>\n",
       "    </tr>\n",
       "    <tr>\n",
       "      <th>9709</th>\n",
       "      <td>Mike</td>\n",
       "      <td>M</td>\n",
       "      <td>84</td>\n",
       "      <td>1884</td>\n",
       "    </tr>\n",
       "  </tbody>\n",
       "</table>\n",
       "</div>"
      ],
      "text/plain": [
       "      name gender  birth_count  year\n",
       "159   Mike      M           95  1880\n",
       "2741  Mike      M           44  1881\n",
       "5448  Mike      M           89  1882\n",
       "7883  Mike      M           73  1883\n",
       "9709  Mike      M           84  1884"
      ]
     },
     "execution_count": 5,
     "metadata": {},
     "output_type": "execute_result"
    }
   ],
   "source": [
    "df_mike.head()"
   ]
  },
  {
   "cell_type": "markdown",
   "metadata": {
    "slideshow": {
     "slide_type": "skip"
    }
   },
   "source": [
    "To create a plot, execute the following code. The first line starting with \"%\" is a command that enables inline plotting for the matplotlib library in Jupyter Notebook. This line needs to be executed only once per session."
   ]
  },
  {
   "cell_type": "code",
   "execution_count": 6,
   "metadata": {
    "slideshow": {
     "slide_type": "subslide"
    }
   },
   "outputs": [
    {
     "data": {
      "text/plain": [
       "<matplotlib.axes._subplots.AxesSubplot at 0x23ce94aaf28>"
      ]
     },
     "execution_count": 6,
     "metadata": {},
     "output_type": "execute_result"
    },
    {
     "data": {
      "image/png": "[encoded data removed]",
      "text/plain": [
       "<Figure size 432x288 with 1 Axes>"
      ]
     },
     "metadata": {
      "needs_background": "light"
     },
     "output_type": "display_data"
    }
   ],
   "source": [
    "%matplotlib inline\n",
    "df_mike.plot('year', 'birth_count', title='\"Mike\"')"
   ]
  },
  {
   "cell_type": "markdown",
   "metadata": {
    "slideshow": {
     "slide_type": "slide"
    }
   },
   "source": [
    "### <font color=\"magenta\">Q4: (12 points)</font>\n",
    "Repeat the above steps to create a plot for another name of your choice. Pay attention to selecting an appropriate gender (\"M\" or \"F\").\n"
   ]
  },
  {
   "cell_type": "code",
   "execution_count": 7,
   "metadata": {},
   "outputs": [
    {
     "data": {
      "text/plain": [
       "<matplotlib.axes._subplots.AxesSubplot at 0x23ce90a06d8>"
      ]
     },
     "execution_count": 7,
     "metadata": {},
     "output_type": "execute_result"
    },
    {
     "data": {
      "image/png": "[encoded data removed]",
      "text/plain": [
       "<Figure size 432x288 with 1 Axes>"
      ]
     },
     "metadata": {
      "needs_background": "light"
     },
     "output_type": "display_data"
    }
   ],
   "source": [
    "df_danny = df_names[(df_names.name == 'Danny') & (df_names.gender == 'M')]\n",
    "%matplotlib inline\n",
    "df_danny.plot('year', 'birth_count', title='Danny')"
   ]
  },
  {
   "cell_type": "markdown",
   "metadata": {
    "slideshow": {
     "slide_type": "slide"
    }
   },
   "source": [
    "### <font color=\"magenta\">Q5: (16 points)</font>\n",
    "Complete the implementation of the function below.  Use the function to make plots for as many names as you like but create at least three. Then, identify at least three interesting names and explain, using complete sentences, why they're interesting."
   ]
  },
  {
   "cell_type": "code",
   "execution_count": 8,
   "metadata": {
    "knowledge_building": {
     "cell_id": "d01-q05a",
     "cell_type": "code"
    },
    "slideshow": {
     "slide_type": "subslide"
    }
   },
   "outputs": [],
   "source": [
    "def plot_trend(name, gender):\n",
    "    df_person = df_names[(df_names.name == name) & (df_names.gender == gender)]\n",
    "    %matplotlib inline\n",
    "    df_person.plot('year', 'birth_count', title=name)"
   ]
  },
  {
   "cell_type": "code",
   "execution_count": 9,
   "metadata": {
    "knowledge_building": {
     "cell_id": "d01-q05b",
     "cell_type": "code"
    }
   },
   "outputs": [
    {
     "data": {
      "image/png": "[encoded data removed]",
      "text/plain": [
       "<Figure size 432x288 with 1 Axes>"
      ]
     },
     "metadata": {
      "needs_background": "light"
     },
     "output_type": "display_data"
    }
   ],
   "source": [
    "plot_trend('Adolf', 'M')"
   ]
  },
  {
   "cell_type": "code",
   "execution_count": 10,
   "metadata": {
    "knowledge_building": {
     "cell_id": "d01-q05b",
     "cell_type": "code"
    }
   },
   "outputs": [
    {
     "data": {
      "image/png": "[encoded data removed]",
      "text/plain": [
       "<Figure size 432x288 with 1 Axes>"
      ]
     },
     "metadata": {
      "needs_background": "light"
     },
     "output_type": "display_data"
    }
   ],
   "source": [
    "plot_trend('Teddy', 'M')"
   ]
  },
  {
   "cell_type": "code",
   "execution_count": 11,
   "metadata": {
    "knowledge_building": {
     "cell_id": "d01-q05b",
     "cell_type": "code"
    }
   },
   "outputs": [
    {
     "data": {
      "image/png": "[encoded data removed]",
      "text/plain": [
       "<Figure size 432x288 with 1 Axes>"
      ]
     },
     "metadata": {
      "needs_background": "light"
     },
     "output_type": "display_data"
    }
   ],
   "source": [
    "plot_trend('Joseph', 'M')"
   ]
  },
  {
   "cell_type": "markdown",
   "metadata": {
    "knowledge_building": {
     "cell_id": "d01-q05c",
     "cell_type": "reflection_answer"
    },
    "slideshow": {
     "slide_type": "subslide"
    }
   },
   "source": [
    "For plot 1, the use of the first name Adolf drops significantly after the US entered the Second World War. Teddy and Joseph are both names of former presidents; Teddy decreases in popularity as the 21st century nears, while Joseph remains pretty popular, but has seen a decrease in recent years."
   ]
  },
  {
   "cell_type": "markdown",
   "metadata": {
    "slideshow": {
     "slide_type": "subslide"
    }
   },
   "source": [
    "# <font color=\"magenta\">END OF NOTEBOOK</font>\n",
    "## Remember to submit this file in IPYNB and HTML format via Canvas."
   ]
  },
  {
   "cell_type": "markdown",
   "metadata": {},
   "source": [
    "# Preparing for next class\n",
    "\n",
    "See Syllabus\n",
    "\n",
    "1. Review python basics: McKinney Chapters 1, 2, and 3\n",
    "2. Study McKinney Chapters 4, 5, and 6, plus \"Data Wrangling with Python & Pandas\""
   ]
  },
  {
   "cell_type": "code",
   "execution_count": null,
   "metadata": {},
   "outputs": [],
   "source": []
  }
 ],
 "metadata": {
  "celltoolbar": "Slideshow",
  "kernelspec": {
   "display_name": "Python 3",
   "language": "python",
   "name": "python3"
  },
  "language_info": {
   "codemirror_mode": {
    "name": "ipython",
    "version": 3
   },
   "file_extension": ".py",
   "mimetype": "text/x-python",
   "name": "python",
   "nbconvert_exporter": "python",
   "pygments_lexer": "ipython3",
   "version": "3.6.5"
  },
  "livereveal": {
   "theme": "sky"
  },
  "nteract": {
   "version": "nteract-on-jupyter@1.9.6"
  }
 },
 "nbformat": 4,
 "nbformat_minor": 2
}
